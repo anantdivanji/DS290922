{
 "cells": [
  {
   "cell_type": "markdown",
   "id": "7d7a7ea2",
   "metadata": {},
   "source": [
    "## Import the necessary libraries"
   ]
  },
  {
   "cell_type": "code",
   "execution_count": 1,
   "id": "87d3011a",
   "metadata": {},
   "outputs": [],
   "source": [
    "import pandas as pd\n",
    "import numpy as np\n",
    "import matplotlib.pyplot as plt\n",
    "import seaborn as sns\n",
    "import warnings\n",
    "warnings.filterwarnings('ignore')"
   ]
  },
  {
   "cell_type": "markdown",
   "id": "cb5d5b95",
   "metadata": {},
   "source": [
    "## Load the data"
   ]
  },
  {
   "cell_type": "code",
   "execution_count": 4,
   "id": "fbcf77bd",
   "metadata": {},
   "outputs": [
    {
     "data": {
      "text/plain": [
       "{'data': array([[6.3200e-03, 1.8000e+01, 2.3100e+00, ..., 1.5300e+01, 3.9690e+02,\n",
       "         4.9800e+00],\n",
       "        [2.7310e-02, 0.0000e+00, 7.0700e+00, ..., 1.7800e+01, 3.9690e+02,\n",
       "         9.1400e+00],\n",
       "        [2.7290e-02, 0.0000e+00, 7.0700e+00, ..., 1.7800e+01, 3.9283e+02,\n",
       "         4.0300e+00],\n",
       "        ...,\n",
       "        [6.0760e-02, 0.0000e+00, 1.1930e+01, ..., 2.1000e+01, 3.9690e+02,\n",
       "         5.6400e+00],\n",
       "        [1.0959e-01, 0.0000e+00, 1.1930e+01, ..., 2.1000e+01, 3.9345e+02,\n",
       "         6.4800e+00],\n",
       "        [4.7410e-02, 0.0000e+00, 1.1930e+01, ..., 2.1000e+01, 3.9690e+02,\n",
       "         7.8800e+00]]),\n",
       " 'target': array([24. , 21.6, 34.7, 33.4, 36.2, 28.7, 22.9, 27.1, 16.5, 18.9, 15. ,\n",
       "        18.9, 21.7, 20.4, 18.2, 19.9, 23.1, 17.5, 20.2, 18.2, 13.6, 19.6,\n",
       "        15.2, 14.5, 15.6, 13.9, 16.6, 14.8, 18.4, 21. , 12.7, 14.5, 13.2,\n",
       "        13.1, 13.5, 18.9, 20. , 21. , 24.7, 30.8, 34.9, 26.6, 25.3, 24.7,\n",
       "        21.2, 19.3, 20. , 16.6, 14.4, 19.4, 19.7, 20.5, 25. , 23.4, 18.9,\n",
       "        35.4, 24.7, 31.6, 23.3, 19.6, 18.7, 16. , 22.2, 25. , 33. , 23.5,\n",
       "        19.4, 22. , 17.4, 20.9, 24.2, 21.7, 22.8, 23.4, 24.1, 21.4, 20. ,\n",
       "        20.8, 21.2, 20.3, 28. , 23.9, 24.8, 22.9, 23.9, 26.6, 22.5, 22.2,\n",
       "        23.6, 28.7, 22.6, 22. , 22.9, 25. , 20.6, 28.4, 21.4, 38.7, 43.8,\n",
       "        33.2, 27.5, 26.5, 18.6, 19.3, 20.1, 19.5, 19.5, 20.4, 19.8, 19.4,\n",
       "        21.7, 22.8, 18.8, 18.7, 18.5, 18.3, 21.2, 19.2, 20.4, 19.3, 22. ,\n",
       "        20.3, 20.5, 17.3, 18.8, 21.4, 15.7, 16.2, 18. , 14.3, 19.2, 19.6,\n",
       "        23. , 18.4, 15.6, 18.1, 17.4, 17.1, 13.3, 17.8, 14. , 14.4, 13.4,\n",
       "        15.6, 11.8, 13.8, 15.6, 14.6, 17.8, 15.4, 21.5, 19.6, 15.3, 19.4,\n",
       "        17. , 15.6, 13.1, 41.3, 24.3, 23.3, 27. , 50. , 50. , 50. , 22.7,\n",
       "        25. , 50. , 23.8, 23.8, 22.3, 17.4, 19.1, 23.1, 23.6, 22.6, 29.4,\n",
       "        23.2, 24.6, 29.9, 37.2, 39.8, 36.2, 37.9, 32.5, 26.4, 29.6, 50. ,\n",
       "        32. , 29.8, 34.9, 37. , 30.5, 36.4, 31.1, 29.1, 50. , 33.3, 30.3,\n",
       "        34.6, 34.9, 32.9, 24.1, 42.3, 48.5, 50. , 22.6, 24.4, 22.5, 24.4,\n",
       "        20. , 21.7, 19.3, 22.4, 28.1, 23.7, 25. , 23.3, 28.7, 21.5, 23. ,\n",
       "        26.7, 21.7, 27.5, 30.1, 44.8, 50. , 37.6, 31.6, 46.7, 31.5, 24.3,\n",
       "        31.7, 41.7, 48.3, 29. , 24. , 25.1, 31.5, 23.7, 23.3, 22. , 20.1,\n",
       "        22.2, 23.7, 17.6, 18.5, 24.3, 20.5, 24.5, 26.2, 24.4, 24.8, 29.6,\n",
       "        42.8, 21.9, 20.9, 44. , 50. , 36. , 30.1, 33.8, 43.1, 48.8, 31. ,\n",
       "        36.5, 22.8, 30.7, 50. , 43.5, 20.7, 21.1, 25.2, 24.4, 35.2, 32.4,\n",
       "        32. , 33.2, 33.1, 29.1, 35.1, 45.4, 35.4, 46. , 50. , 32.2, 22. ,\n",
       "        20.1, 23.2, 22.3, 24.8, 28.5, 37.3, 27.9, 23.9, 21.7, 28.6, 27.1,\n",
       "        20.3, 22.5, 29. , 24.8, 22. , 26.4, 33.1, 36.1, 28.4, 33.4, 28.2,\n",
       "        22.8, 20.3, 16.1, 22.1, 19.4, 21.6, 23.8, 16.2, 17.8, 19.8, 23.1,\n",
       "        21. , 23.8, 23.1, 20.4, 18.5, 25. , 24.6, 23. , 22.2, 19.3, 22.6,\n",
       "        19.8, 17.1, 19.4, 22.2, 20.7, 21.1, 19.5, 18.5, 20.6, 19. , 18.7,\n",
       "        32.7, 16.5, 23.9, 31.2, 17.5, 17.2, 23.1, 24.5, 26.6, 22.9, 24.1,\n",
       "        18.6, 30.1, 18.2, 20.6, 17.8, 21.7, 22.7, 22.6, 25. , 19.9, 20.8,\n",
       "        16.8, 21.9, 27.5, 21.9, 23.1, 50. , 50. , 50. , 50. , 50. , 13.8,\n",
       "        13.8, 15. , 13.9, 13.3, 13.1, 10.2, 10.4, 10.9, 11.3, 12.3,  8.8,\n",
       "         7.2, 10.5,  7.4, 10.2, 11.5, 15.1, 23.2,  9.7, 13.8, 12.7, 13.1,\n",
       "        12.5,  8.5,  5. ,  6.3,  5.6,  7.2, 12.1,  8.3,  8.5,  5. , 11.9,\n",
       "        27.9, 17.2, 27.5, 15. , 17.2, 17.9, 16.3,  7. ,  7.2,  7.5, 10.4,\n",
       "         8.8,  8.4, 16.7, 14.2, 20.8, 13.4, 11.7,  8.3, 10.2, 10.9, 11. ,\n",
       "         9.5, 14.5, 14.1, 16.1, 14.3, 11.7, 13.4,  9.6,  8.7,  8.4, 12.8,\n",
       "        10.5, 17.1, 18.4, 15.4, 10.8, 11.8, 14.9, 12.6, 14.1, 13. , 13.4,\n",
       "        15.2, 16.1, 17.8, 14.9, 14.1, 12.7, 13.5, 14.9, 20. , 16.4, 17.7,\n",
       "        19.5, 20.2, 21.4, 19.9, 19. , 19.1, 19.1, 20.1, 19.9, 19.6, 23.2,\n",
       "        29.8, 13.8, 13.3, 16.7, 12. , 14.6, 21.4, 23. , 23.7, 25. , 21.8,\n",
       "        20.6, 21.2, 19.1, 20.6, 15.2,  7. ,  8.1, 13.6, 20.1, 21.8, 24.5,\n",
       "        23.1, 19.7, 18.3, 21.2, 17.5, 16.8, 22.4, 20.6, 23.9, 22. , 11.9]),\n",
       " 'feature_names': array(['CRIM', 'ZN', 'INDUS', 'CHAS', 'NOX', 'RM', 'AGE', 'DIS', 'RAD',\n",
       "        'TAX', 'PTRATIO', 'B', 'LSTAT'], dtype='<U7'),\n",
       " 'DESCR': \".. _boston_dataset:\\n\\nBoston house prices dataset\\n---------------------------\\n\\n**Data Set Characteristics:**  \\n\\n    :Number of Instances: 506 \\n\\n    :Number of Attributes: 13 numeric/categorical predictive. Median Value (attribute 14) is usually the target.\\n\\n    :Attribute Information (in order):\\n        - CRIM     per capita crime rate by town\\n        - ZN       proportion of residential land zoned for lots over 25,000 sq.ft.\\n        - INDUS    proportion of non-retail business acres per town\\n        - CHAS     Charles River dummy variable (= 1 if tract bounds river; 0 otherwise)\\n        - NOX      nitric oxides concentration (parts per 10 million)\\n        - RM       average number of rooms per dwelling\\n        - AGE      proportion of owner-occupied units built prior to 1940\\n        - DIS      weighted distances to five Boston employment centres\\n        - RAD      index of accessibility to radial highways\\n        - TAX      full-value property-tax rate per $10,000\\n        - PTRATIO  pupil-teacher ratio by town\\n        - B        1000(Bk - 0.63)^2 where Bk is the proportion of black people by town\\n        - LSTAT    % lower status of the population\\n        - MEDV     Median value of owner-occupied homes in $1000's\\n\\n    :Missing Attribute Values: None\\n\\n    :Creator: Harrison, D. and Rubinfeld, D.L.\\n\\nThis is a copy of UCI ML housing dataset.\\nhttps://archive.ics.uci.edu/ml/machine-learning-databases/housing/\\n\\n\\nThis dataset was taken from the StatLib library which is maintained at Carnegie Mellon University.\\n\\nThe Boston house-price data of Harrison, D. and Rubinfeld, D.L. 'Hedonic\\nprices and the demand for clean air', J. Environ. Economics & Management,\\nvol.5, 81-102, 1978.   Used in Belsley, Kuh & Welsch, 'Regression diagnostics\\n...', Wiley, 1980.   N.B. Various transformations are used in the table on\\npages 244-261 of the latter.\\n\\nThe Boston house-price data has been used in many machine learning papers that address regression\\nproblems.   \\n     \\n.. topic:: References\\n\\n   - Belsley, Kuh & Welsch, 'Regression diagnostics: Identifying Influential Data and Sources of Collinearity', Wiley, 1980. 244-261.\\n   - Quinlan,R. (1993). Combining Instance-Based and Model-Based Learning. In Proceedings on the Tenth International Conference of Machine Learning, 236-243, University of Massachusetts, Amherst. Morgan Kaufmann.\\n\",\n",
       " 'filename': 'boston_house_prices.csv',\n",
       " 'data_module': 'sklearn.datasets.data'}"
      ]
     },
     "execution_count": 4,
     "metadata": {},
     "output_type": "execute_result"
    }
   ],
   "source": [
    "from sklearn.datasets import load_boston\n",
    "boston = load_boston()\n",
    "boston"
   ]
  },
  {
   "cell_type": "code",
   "execution_count": 5,
   "id": "fce27391",
   "metadata": {},
   "outputs": [
    {
     "name": "stdout",
     "output_type": "stream",
     "text": [
      ".. _boston_dataset:\n",
      "\n",
      "Boston house prices dataset\n",
      "---------------------------\n",
      "\n",
      "**Data Set Characteristics:**  \n",
      "\n",
      "    :Number of Instances: 506 \n",
      "\n",
      "    :Number of Attributes: 13 numeric/categorical predictive. Median Value (attribute 14) is usually the target.\n",
      "\n",
      "    :Attribute Information (in order):\n",
      "        - CRIM     per capita crime rate by town\n",
      "        - ZN       proportion of residential land zoned for lots over 25,000 sq.ft.\n",
      "        - INDUS    proportion of non-retail business acres per town\n",
      "        - CHAS     Charles River dummy variable (= 1 if tract bounds river; 0 otherwise)\n",
      "        - NOX      nitric oxides concentration (parts per 10 million)\n",
      "        - RM       average number of rooms per dwelling\n",
      "        - AGE      proportion of owner-occupied units built prior to 1940\n",
      "        - DIS      weighted distances to five Boston employment centres\n",
      "        - RAD      index of accessibility to radial highways\n",
      "        - TAX      full-value property-tax rate per $10,000\n",
      "        - PTRATIO  pupil-teacher ratio by town\n",
      "        - B        1000(Bk - 0.63)^2 where Bk is the proportion of black people by town\n",
      "        - LSTAT    % lower status of the population\n",
      "        - MEDV     Median value of owner-occupied homes in $1000's\n",
      "\n",
      "    :Missing Attribute Values: None\n",
      "\n",
      "    :Creator: Harrison, D. and Rubinfeld, D.L.\n",
      "\n",
      "This is a copy of UCI ML housing dataset.\n",
      "https://archive.ics.uci.edu/ml/machine-learning-databases/housing/\n",
      "\n",
      "\n",
      "This dataset was taken from the StatLib library which is maintained at Carnegie Mellon University.\n",
      "\n",
      "The Boston house-price data of Harrison, D. and Rubinfeld, D.L. 'Hedonic\n",
      "prices and the demand for clean air', J. Environ. Economics & Management,\n",
      "vol.5, 81-102, 1978.   Used in Belsley, Kuh & Welsch, 'Regression diagnostics\n",
      "...', Wiley, 1980.   N.B. Various transformations are used in the table on\n",
      "pages 244-261 of the latter.\n",
      "\n",
      "The Boston house-price data has been used in many machine learning papers that address regression\n",
      "problems.   \n",
      "     \n",
      ".. topic:: References\n",
      "\n",
      "   - Belsley, Kuh & Welsch, 'Regression diagnostics: Identifying Influential Data and Sources of Collinearity', Wiley, 1980. 244-261.\n",
      "   - Quinlan,R. (1993). Combining Instance-Based and Model-Based Learning. In Proceedings on the Tenth International Conference of Machine Learning, 236-243, University of Massachusetts, Amherst. Morgan Kaufmann.\n",
      "\n"
     ]
    }
   ],
   "source": [
    "print(boston.DESCR)"
   ]
  },
  {
   "cell_type": "code",
   "execution_count": 6,
   "id": "ef951f8e",
   "metadata": {},
   "outputs": [
    {
     "data": {
      "text/html": [
       "<div>\n",
       "<style scoped>\n",
       "    .dataframe tbody tr th:only-of-type {\n",
       "        vertical-align: middle;\n",
       "    }\n",
       "\n",
       "    .dataframe tbody tr th {\n",
       "        vertical-align: top;\n",
       "    }\n",
       "\n",
       "    .dataframe thead th {\n",
       "        text-align: right;\n",
       "    }\n",
       "</style>\n",
       "<table border=\"1\" class=\"dataframe\">\n",
       "  <thead>\n",
       "    <tr style=\"text-align: right;\">\n",
       "      <th></th>\n",
       "      <th>CRIM</th>\n",
       "      <th>ZN</th>\n",
       "      <th>INDUS</th>\n",
       "      <th>CHAS</th>\n",
       "      <th>NOX</th>\n",
       "      <th>RM</th>\n",
       "      <th>AGE</th>\n",
       "      <th>DIS</th>\n",
       "      <th>RAD</th>\n",
       "      <th>TAX</th>\n",
       "      <th>PTRATIO</th>\n",
       "      <th>B</th>\n",
       "      <th>LSTAT</th>\n",
       "      <th>price</th>\n",
       "    </tr>\n",
       "  </thead>\n",
       "  <tbody>\n",
       "    <tr>\n",
       "      <th>0</th>\n",
       "      <td>0.00632</td>\n",
       "      <td>18.0</td>\n",
       "      <td>2.31</td>\n",
       "      <td>0.0</td>\n",
       "      <td>0.538</td>\n",
       "      <td>6.575</td>\n",
       "      <td>65.2</td>\n",
       "      <td>4.0900</td>\n",
       "      <td>1.0</td>\n",
       "      <td>296.0</td>\n",
       "      <td>15.3</td>\n",
       "      <td>396.90</td>\n",
       "      <td>4.98</td>\n",
       "      <td>24.0</td>\n",
       "    </tr>\n",
       "    <tr>\n",
       "      <th>1</th>\n",
       "      <td>0.02731</td>\n",
       "      <td>0.0</td>\n",
       "      <td>7.07</td>\n",
       "      <td>0.0</td>\n",
       "      <td>0.469</td>\n",
       "      <td>6.421</td>\n",
       "      <td>78.9</td>\n",
       "      <td>4.9671</td>\n",
       "      <td>2.0</td>\n",
       "      <td>242.0</td>\n",
       "      <td>17.8</td>\n",
       "      <td>396.90</td>\n",
       "      <td>9.14</td>\n",
       "      <td>21.6</td>\n",
       "    </tr>\n",
       "    <tr>\n",
       "      <th>2</th>\n",
       "      <td>0.02729</td>\n",
       "      <td>0.0</td>\n",
       "      <td>7.07</td>\n",
       "      <td>0.0</td>\n",
       "      <td>0.469</td>\n",
       "      <td>7.185</td>\n",
       "      <td>61.1</td>\n",
       "      <td>4.9671</td>\n",
       "      <td>2.0</td>\n",
       "      <td>242.0</td>\n",
       "      <td>17.8</td>\n",
       "      <td>392.83</td>\n",
       "      <td>4.03</td>\n",
       "      <td>34.7</td>\n",
       "    </tr>\n",
       "    <tr>\n",
       "      <th>3</th>\n",
       "      <td>0.03237</td>\n",
       "      <td>0.0</td>\n",
       "      <td>2.18</td>\n",
       "      <td>0.0</td>\n",
       "      <td>0.458</td>\n",
       "      <td>6.998</td>\n",
       "      <td>45.8</td>\n",
       "      <td>6.0622</td>\n",
       "      <td>3.0</td>\n",
       "      <td>222.0</td>\n",
       "      <td>18.7</td>\n",
       "      <td>394.63</td>\n",
       "      <td>2.94</td>\n",
       "      <td>33.4</td>\n",
       "    </tr>\n",
       "    <tr>\n",
       "      <th>4</th>\n",
       "      <td>0.06905</td>\n",
       "      <td>0.0</td>\n",
       "      <td>2.18</td>\n",
       "      <td>0.0</td>\n",
       "      <td>0.458</td>\n",
       "      <td>7.147</td>\n",
       "      <td>54.2</td>\n",
       "      <td>6.0622</td>\n",
       "      <td>3.0</td>\n",
       "      <td>222.0</td>\n",
       "      <td>18.7</td>\n",
       "      <td>396.90</td>\n",
       "      <td>5.33</td>\n",
       "      <td>36.2</td>\n",
       "    </tr>\n",
       "  </tbody>\n",
       "</table>\n",
       "</div>"
      ],
      "text/plain": [
       "      CRIM    ZN  INDUS  CHAS    NOX     RM   AGE     DIS  RAD    TAX  \\\n",
       "0  0.00632  18.0   2.31   0.0  0.538  6.575  65.2  4.0900  1.0  296.0   \n",
       "1  0.02731   0.0   7.07   0.0  0.469  6.421  78.9  4.9671  2.0  242.0   \n",
       "2  0.02729   0.0   7.07   0.0  0.469  7.185  61.1  4.9671  2.0  242.0   \n",
       "3  0.03237   0.0   2.18   0.0  0.458  6.998  45.8  6.0622  3.0  222.0   \n",
       "4  0.06905   0.0   2.18   0.0  0.458  7.147  54.2  6.0622  3.0  222.0   \n",
       "\n",
       "   PTRATIO       B  LSTAT  price  \n",
       "0     15.3  396.90   4.98   24.0  \n",
       "1     17.8  396.90   9.14   21.6  \n",
       "2     17.8  392.83   4.03   34.7  \n",
       "3     18.7  394.63   2.94   33.4  \n",
       "4     18.7  396.90   5.33   36.2  "
      ]
     },
     "execution_count": 6,
     "metadata": {},
     "output_type": "execute_result"
    }
   ],
   "source": [
    "df_boston = pd.DataFrame(boston.data, columns = boston.feature_names)\n",
    "df_boston['price'] = pd.Series(boston.target)\n",
    "df_boston.head()"
   ]
  },
  {
   "cell_type": "code",
   "execution_count": 7,
   "id": "8ca6466b",
   "metadata": {},
   "outputs": [
    {
     "data": {
      "text/plain": [
       "(506, 14)"
      ]
     },
     "execution_count": 7,
     "metadata": {},
     "output_type": "execute_result"
    }
   ],
   "source": [
    "df_boston.shape"
   ]
  },
  {
   "cell_type": "markdown",
   "id": "5cb88805",
   "metadata": {},
   "source": [
    "## Check for missing values"
   ]
  },
  {
   "cell_type": "code",
   "execution_count": 8,
   "id": "ff44229a",
   "metadata": {},
   "outputs": [
    {
     "data": {
      "text/plain": [
       "CRIM       0\n",
       "ZN         0\n",
       "INDUS      0\n",
       "CHAS       0\n",
       "NOX        0\n",
       "RM         0\n",
       "AGE        0\n",
       "DIS        0\n",
       "RAD        0\n",
       "TAX        0\n",
       "PTRATIO    0\n",
       "B          0\n",
       "LSTAT      0\n",
       "price      0\n",
       "dtype: int64"
      ]
     },
     "execution_count": 8,
     "metadata": {},
     "output_type": "execute_result"
    }
   ],
   "source": [
    "df_boston.isnull().sum()"
   ]
  },
  {
   "cell_type": "markdown",
   "id": "e5db3dac",
   "metadata": {},
   "source": [
    "## Divide the data into X and y"
   ]
  },
  {
   "cell_type": "code",
   "execution_count": 9,
   "id": "2bb44f15",
   "metadata": {},
   "outputs": [],
   "source": [
    "X = df_boston.drop('price', axis = 1)\n",
    "y = df_boston['price']"
   ]
  },
  {
   "cell_type": "markdown",
   "id": "bc43753b",
   "metadata": {},
   "source": [
    "## Divide the data into train data and test data"
   ]
  },
  {
   "cell_type": "code",
   "execution_count": 10,
   "id": "ff7ae5c0",
   "metadata": {},
   "outputs": [
    {
     "data": {
      "text/plain": [
       "((379, 13), (127, 13))"
      ]
     },
     "execution_count": 10,
     "metadata": {},
     "output_type": "execute_result"
    }
   ],
   "source": [
    "from sklearn.model_selection import train_test_split\n",
    "X_train, X_test, y_train, y_test = train_test_split(X, y, test_size = 0.25, random_state = 0)\n",
    "X_train.shape, X_test.shape"
   ]
  },
  {
   "cell_type": "markdown",
   "id": "faf818ef",
   "metadata": {},
   "source": [
    "## Perform Feature Scaling"
   ]
  },
  {
   "cell_type": "code",
   "execution_count": 11,
   "id": "64ebcc87",
   "metadata": {},
   "outputs": [
    {
     "data": {
      "text/plain": [
       "array([[-0.3906002 ,  0.42637011, -0.74491444, ...,  0.27878885,\n",
       "         0.34049624,  0.82212111],\n",
       "       [-0.40127639,  0.5525335 , -0.84901832, ...,  0.55287698,\n",
       "         0.42774893, -0.46241699],\n",
       "       [-0.40110543,  1.18335044, -0.66648002, ..., -0.40643148,\n",
       "         0.34184377, -0.90310809],\n",
       "       ...,\n",
       "       [-0.3954927 , -0.49882807, -0.15309105, ..., -0.31506877,\n",
       "         0.40091059, -0.31227617],\n",
       "       [-0.38599992, -0.49882807, -0.59517599, ..., -0.26938741,\n",
       "         0.38103449,  0.86938766],\n",
       "       [-0.39692832, -0.49882807, -1.003035  , ..., -0.86324503,\n",
       "         0.42774893,  0.29801844]])"
      ]
     },
     "execution_count": 11,
     "metadata": {},
     "output_type": "execute_result"
    }
   ],
   "source": [
    "from sklearn.preprocessing import StandardScaler\n",
    "\n",
    "ss = StandardScaler()\n",
    "\n",
    "ss.fit_transform(X_train)"
   ]
  },
  {
   "cell_type": "code",
   "execution_count": 12,
   "id": "3bb230ea",
   "metadata": {},
   "outputs": [
    {
     "data": {
      "text/plain": [
       "array([[-0.43519802, -0.45439168, -1.26783377, ..., -0.69912236,\n",
       "         0.25657172, -0.81096958],\n",
       "       [ 0.52696116, -0.45439168,  1.07087019, ...,  0.88810506,\n",
       "         0.1632353 , -0.49560953],\n",
       "       [-0.43026285, -0.45439168,  0.40828986, ..., -0.93961137,\n",
       "         0.44746838, -0.35592951],\n",
       "       ...,\n",
       "       [-0.40557651, -0.45439168, -0.21966632, ...,  0.02234465,\n",
       "         0.47322347, -0.43224952],\n",
       "       [-0.43191735, -0.45439168,  2.25910807, ...,  0.35902925,\n",
       "         0.2995312 ,  0.66359066],\n",
       "       [-0.43438021,  1.06362787, -1.43465922, ...,  0.02234465,\n",
       "         0.48002281, -0.9362496 ]])"
      ]
     },
     "execution_count": 12,
     "metadata": {},
     "output_type": "execute_result"
    }
   ],
   "source": [
    "ss.fit_transform(X_test)"
   ]
  },
  {
   "cell_type": "markdown",
   "id": "51a5c1e4",
   "metadata": {},
   "source": [
    "## Apply KNN Regressor on train data"
   ]
  },
  {
   "cell_type": "code",
   "execution_count": 15,
   "id": "4b9b4283",
   "metadata": {},
   "outputs": [
    {
     "data": {
      "text/plain": [
       "KNeighborsRegressor(n_neighbors=21)"
      ]
     },
     "execution_count": 15,
     "metadata": {},
     "output_type": "execute_result"
    }
   ],
   "source": [
    "from sklearn.neighbors import KNeighborsRegressor\n",
    "model = KNeighborsRegressor(n_neighbors = 21, metric = 'minkowski', p = 2)\n",
    "model.fit(X_train, y_train)"
   ]
  },
  {
   "cell_type": "markdown",
   "id": "20685121",
   "metadata": {},
   "source": [
    "## Perform prediction on test data"
   ]
  },
  {
   "cell_type": "code",
   "execution_count": 18,
   "id": "3420472e",
   "metadata": {},
   "outputs": [
    {
     "data": {
      "text/plain": [
       "array([23.73333333, 21.73809524, 27.57619048, 11.92380952, 23.44761905,\n",
       "       24.20952381, 21.01904762, 26.17619048, 25.73809524, 17.04761905,\n",
       "       11.53333333, 11.53333333, 14.83333333, 11.8       , 23.80952381,\n",
       "       27.3952381 , 20.24761905, 25.07619048, 26.03809524, 25.31428571,\n",
       "       24.44285714, 23.71428571, 23.72380952, 28.26666667, 24.38095238,\n",
       "       11.86666667, 21.07619048, 21.72857143, 24.07619048, 17.72380952,\n",
       "       19.18571429, 17.65238095, 24.67142857, 22.73333333, 22.32380952,\n",
       "       20.8       , 11.92380952, 20.82857143, 11.78571429, 14.37142857,\n",
       "       26.22380952, 24.38095238, 23.37142857, 20.1952381 , 23.2       ,\n",
       "       26.81904762, 22.92857143, 23.99047619, 20.58095238, 24.04285714,\n",
       "       17.4952381 , 23.31904762, 24.42857143, 24.58095238, 22.34285714,\n",
       "       24.48095238, 24.03333333, 22.72380952, 11.53333333, 25.18095238,\n",
       "       26.63333333, 24.5       , 24.51904762, 26.27619048, 20.32857143,\n",
       "       26.08571429, 20.25238095, 20.26190476, 12.92380952, 25.1       ,\n",
       "       24.23333333, 23.3047619 , 25.17619048, 26.56190476, 21.87142857,\n",
       "       11.8952381 , 25.86190476, 24.6047619 , 25.7047619 , 22.62857143,\n",
       "       23.57142857, 17.72380952, 19.41428571, 25.43333333, 24.67619048,\n",
       "       26.07619048, 23.46666667, 12.09047619, 23.5       , 19.8       ,\n",
       "       23.28571429, 11.92380952, 24.74285714, 27.39047619, 26.33333333,\n",
       "       23.71904762, 12.        , 26.57619048, 12.09047619, 26.17619048,\n",
       "       24.86666667, 23.89047619, 21.07619048, 26.14761905, 23.71428571,\n",
       "       23.53809524, 11.7952381 , 17.07142857, 24.04285714, 24.52857143,\n",
       "       23.5       , 14.76666667, 20.56190476, 22.54761905, 19.43333333,\n",
       "       24.79047619, 11.78571429, 19.74761905, 12.66190476, 34.56666667,\n",
       "       26.08095238, 12.77142857, 24.65714286, 22.52380952, 24.49047619,\n",
       "       27.81428571, 29.36190476])"
      ]
     },
     "execution_count": 18,
     "metadata": {},
     "output_type": "execute_result"
    }
   ],
   "source": [
    "y_pred = model.predict(X_test)\n",
    "y_pred"
   ]
  },
  {
   "cell_type": "markdown",
   "id": "4bc7c823",
   "metadata": {},
   "source": [
    "## Comparision between the prediction and test set results"
   ]
  },
  {
   "cell_type": "code",
   "execution_count": 20,
   "id": "56291996",
   "metadata": {},
   "outputs": [
    {
     "name": "stdout",
     "output_type": "stream",
     "text": [
      "[[23.73333333 22.6       ]\n",
      " [21.73809524 50.        ]\n",
      " [27.57619048 23.        ]\n",
      " [11.92380952  8.3       ]\n",
      " [23.44761905 21.2       ]\n",
      " [24.20952381 19.9       ]\n",
      " [21.01904762 20.6       ]\n",
      " [26.17619048 18.7       ]\n",
      " [25.73809524 16.1       ]\n",
      " [17.04761905 18.6       ]\n",
      " [11.53333333  8.8       ]\n",
      " [11.53333333 17.2       ]\n",
      " [14.83333333 14.9       ]\n",
      " [11.8        10.5       ]\n",
      " [23.80952381 50.        ]\n",
      " [27.3952381  29.        ]\n",
      " [20.24761905 23.        ]\n",
      " [25.07619048 33.3       ]\n",
      " [26.03809524 29.4       ]\n",
      " [25.31428571 21.        ]\n",
      " [24.44285714 23.8       ]\n",
      " [23.71428571 19.1       ]\n",
      " [23.72380952 20.4       ]\n",
      " [28.26666667 29.1       ]\n",
      " [24.38095238 19.3       ]\n",
      " [11.86666667 23.1       ]\n",
      " [21.07619048 19.6       ]\n",
      " [21.72857143 19.4       ]\n",
      " [24.07619048 38.7       ]\n",
      " [17.72380952 18.7       ]\n",
      " [19.18571429 14.6       ]\n",
      " [17.65238095 20.        ]\n",
      " [24.67142857 20.5       ]\n",
      " [22.73333333 20.1       ]\n",
      " [22.32380952 23.6       ]\n",
      " [20.8        16.8       ]\n",
      " [11.92380952  5.6       ]\n",
      " [20.82857143 50.        ]\n",
      " [11.78571429 14.5       ]\n",
      " [14.37142857 13.3       ]\n",
      " [26.22380952 23.9       ]\n",
      " [24.38095238 20.        ]\n",
      " [23.37142857 19.8       ]\n",
      " [20.1952381  13.8       ]\n",
      " [23.2        16.5       ]\n",
      " [26.81904762 21.6       ]\n",
      " [22.92857143 20.3       ]\n",
      " [23.99047619 17.        ]\n",
      " [20.58095238 11.8       ]\n",
      " [24.04285714 27.5       ]\n",
      " [17.4952381  15.6       ]\n",
      " [23.31904762 23.1       ]\n",
      " [24.42857143 24.3       ]\n",
      " [24.58095238 42.8       ]\n",
      " [22.34285714 15.6       ]\n",
      " [24.48095238 21.7       ]\n",
      " [24.03333333 17.1       ]\n",
      " [22.72380952 17.2       ]\n",
      " [11.53333333 15.        ]\n",
      " [25.18095238 21.7       ]\n",
      " [26.63333333 18.6       ]\n",
      " [24.5        21.        ]\n",
      " [24.51904762 33.1       ]\n",
      " [26.27619048 31.5       ]\n",
      " [20.32857143 20.1       ]\n",
      " [26.08571429 29.8       ]\n",
      " [20.25238095 15.2       ]\n",
      " [20.26190476 15.        ]\n",
      " [12.92380952 27.5       ]\n",
      " [25.1        22.6       ]\n",
      " [24.23333333 20.        ]\n",
      " [23.3047619  21.4       ]\n",
      " [25.17619048 23.5       ]\n",
      " [26.56190476 31.2       ]\n",
      " [21.87142857 23.7       ]\n",
      " [11.8952381   7.4       ]\n",
      " [25.86190476 48.3       ]\n",
      " [24.6047619  24.4       ]\n",
      " [25.7047619  22.6       ]\n",
      " [22.62857143 18.3       ]\n",
      " [23.57142857 23.3       ]\n",
      " [17.72380952 17.1       ]\n",
      " [19.41428571 27.9       ]\n",
      " [25.43333333 44.8       ]\n",
      " [24.67619048 50.        ]\n",
      " [26.07619048 23.        ]\n",
      " [23.46666667 21.4       ]\n",
      " [12.09047619 10.2       ]\n",
      " [23.5        23.3       ]\n",
      " [19.8        23.2       ]\n",
      " [23.28571429 18.9       ]\n",
      " [11.92380952 13.4       ]\n",
      " [24.74285714 21.9       ]\n",
      " [27.39047619 24.8       ]\n",
      " [26.33333333 11.9       ]\n",
      " [23.71904762 24.3       ]\n",
      " [12.         13.8       ]\n",
      " [26.57619048 24.7       ]\n",
      " [12.09047619 14.1       ]\n",
      " [26.17619048 18.7       ]\n",
      " [24.86666667 28.1       ]\n",
      " [23.89047619 19.8       ]\n",
      " [21.07619048 26.7       ]\n",
      " [26.14761905 21.7       ]\n",
      " [23.71428571 22.        ]\n",
      " [23.53809524 22.9       ]\n",
      " [11.7952381  10.4       ]\n",
      " [17.07142857 21.9       ]\n",
      " [24.04285714 20.6       ]\n",
      " [24.52857143 26.4       ]\n",
      " [23.5        41.3       ]\n",
      " [14.76666667 17.2       ]\n",
      " [20.56190476 27.1       ]\n",
      " [22.54761905 20.4       ]\n",
      " [19.43333333 16.5       ]\n",
      " [24.79047619 24.4       ]\n",
      " [11.78571429  8.4       ]\n",
      " [19.74761905 23.        ]\n",
      " [12.66190476  9.7       ]\n",
      " [34.56666667 50.        ]\n",
      " [26.08095238 30.5       ]\n",
      " [12.77142857 12.3       ]\n",
      " [24.65714286 19.4       ]\n",
      " [22.52380952 21.2       ]\n",
      " [24.49047619 20.3       ]\n",
      " [27.81428571 18.8       ]\n",
      " [29.36190476 33.4       ]]\n"
     ]
    }
   ],
   "source": [
    "y_test = y_test.values\n",
    "print(np.concatenate((y_pred.reshape(len(y_pred), 1), y_test.reshape(len(y_test), 1)), 1))"
   ]
  },
  {
   "cell_type": "code",
   "execution_count": null,
   "id": "bb3719a4",
   "metadata": {},
   "outputs": [],
   "source": []
  }
 ],
 "metadata": {
  "kernelspec": {
   "display_name": "Python 3 (ipykernel)",
   "language": "python",
   "name": "python3"
  },
  "language_info": {
   "codemirror_mode": {
    "name": "ipython",
    "version": 3
   },
   "file_extension": ".py",
   "mimetype": "text/x-python",
   "name": "python",
   "nbconvert_exporter": "python",
   "pygments_lexer": "ipython3",
   "version": "3.9.12"
  }
 },
 "nbformat": 4,
 "nbformat_minor": 5
}
