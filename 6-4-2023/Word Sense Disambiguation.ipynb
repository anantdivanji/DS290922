{
 "cells": [
  {
   "cell_type": "markdown",
   "id": "a9e2fd65",
   "metadata": {},
   "source": [
    "# Word Sense Disambiguation(WSD):\n",
    "\n",
    "1. WSD, in NLP, is defined as the ability to determine which meaning of the word is activated by the use of that word in a particular context.\n",
    "\n",
    "### For example, consider the use of the word jam in the below sentences:\n",
    "    1. I am stuck in traffic jam\n",
    "    2. I am eating bread with jam\n",
    "\n",
    "- The occurence of the word jam clearly denotes different meanings. In first sentence, it is traffic jam. In the second sentence, it a eatable jam."
   ]
  },
  {
   "cell_type": "code",
   "execution_count": 1,
   "id": "de8019ce",
   "metadata": {},
   "outputs": [],
   "source": [
    "import pandas as pd\n",
    "import numpy as np"
   ]
  },
  {
   "cell_type": "code",
   "execution_count": 2,
   "id": "64466db5",
   "metadata": {},
   "outputs": [
    {
     "data": {
      "text/plain": [
       "'This device is used to jam the signal'"
      ]
     },
     "execution_count": 2,
     "metadata": {},
     "output_type": "execute_result"
    }
   ],
   "source": [
    "sent1 = \"This device is used to jam the signal\"\n",
    "sent1"
   ]
  },
  {
   "cell_type": "code",
   "execution_count": 3,
   "id": "513ee736",
   "metadata": {},
   "outputs": [
    {
     "data": {
      "text/plain": [
       "'this device is used to jam the signal'"
      ]
     },
     "execution_count": 3,
     "metadata": {},
     "output_type": "execute_result"
    }
   ],
   "source": [
    "sent1 = sent1.lower()\n",
    "sent1"
   ]
  },
  {
   "cell_type": "code",
   "execution_count": 4,
   "id": "3c37db62",
   "metadata": {},
   "outputs": [
    {
     "data": {
      "text/plain": [
       "['this', 'device', 'is', 'used', 'to', 'jam', 'the', 'signal']"
      ]
     },
     "execution_count": 4,
     "metadata": {},
     "output_type": "execute_result"
    }
   ],
   "source": [
    "from nltk.tokenize import word_tokenize\n",
    "sent1_wd = word_tokenize(sent1)\n",
    "sent1_wd"
   ]
  },
  {
   "cell_type": "markdown",
   "id": "4338ecd3",
   "metadata": {},
   "source": [
    "lesk function: lesk(text, a word from that text)"
   ]
  },
  {
   "cell_type": "code",
   "execution_count": 5,
   "id": "a1c1c107",
   "metadata": {},
   "outputs": [
    {
     "data": {
      "text/plain": [
       "Synset('jamming.n.01')"
      ]
     },
     "execution_count": 5,
     "metadata": {},
     "output_type": "execute_result"
    }
   ],
   "source": [
    "from nltk.wsd import lesk\n",
    "wsd1 = lesk(sent1_wd, 'jam')\n",
    "wsd1"
   ]
  },
  {
   "cell_type": "code",
   "execution_count": 6,
   "id": "f81d7f28",
   "metadata": {},
   "outputs": [
    {
     "name": "stdout",
     "output_type": "stream",
     "text": [
      "Synset('jamming.n.01') : deliberate radiation or reflection of electromagnetic energy for the purpose of disrupting enemy use of electronic devices or systems\n"
     ]
    }
   ],
   "source": [
    "print(wsd1, \":\", wsd1.definition())"
   ]
  },
  {
   "cell_type": "code",
   "execution_count": 24,
   "id": "0e3fcd98",
   "metadata": {},
   "outputs": [
    {
     "data": {
      "text/plain": [
       "'i am eating bread and jam'"
      ]
     },
     "execution_count": 24,
     "metadata": {},
     "output_type": "execute_result"
    }
   ],
   "source": [
    "sent2 = \"i am eating bread and jam\"\n",
    "sent2"
   ]
  },
  {
   "cell_type": "code",
   "execution_count": 25,
   "id": "60d7c1f9",
   "metadata": {},
   "outputs": [
    {
     "data": {
      "text/plain": [
       "['i', 'am', 'eating', 'bread', 'and', 'jam']"
      ]
     },
     "execution_count": 25,
     "metadata": {},
     "output_type": "execute_result"
    }
   ],
   "source": [
    "sent2_wd = word_tokenize(sent2)\n",
    "sent2_wd"
   ]
  },
  {
   "cell_type": "code",
   "execution_count": 65,
   "id": "ef31d4cc",
   "metadata": {},
   "outputs": [
    {
     "data": {
      "text/plain": [
       "Synset('jam.n.01')"
      ]
     },
     "execution_count": 65,
     "metadata": {},
     "output_type": "execute_result"
    }
   ],
   "source": [
    "from nltk.corpus import wordnet\n",
    "\n",
    "syn = wordnet.synsets('jam')\n",
    "syn[0]"
   ]
  },
  {
   "cell_type": "code",
   "execution_count": 59,
   "id": "08499cfd",
   "metadata": {},
   "outputs": [
    {
     "name": "stdout",
     "output_type": "stream",
     "text": [
      "Synset('jamming.n.01') : deliberate radiation or reflection of electromagnetic energy for the purpose of disrupting enemy use of electronic devices or systems\n"
     ]
    }
   ],
   "source": [
    "print(wsd2, \":\" , wsd2.definition())"
   ]
  },
  {
   "cell_type": "code",
   "execution_count": 12,
   "id": "a0e7ec49",
   "metadata": {},
   "outputs": [
    {
     "data": {
      "text/plain": [
       "'i am stuck in traffic jam'"
      ]
     },
     "execution_count": 12,
     "metadata": {},
     "output_type": "execute_result"
    }
   ],
   "source": [
    "sent3 = 'i am stuck in traffic jam'\n",
    "sent3"
   ]
  },
  {
   "cell_type": "code",
   "execution_count": 13,
   "id": "b6015957",
   "metadata": {},
   "outputs": [
    {
     "data": {
      "text/plain": [
       "['i', 'am', 'stuck', 'in', 'traffic', 'jam']"
      ]
     },
     "execution_count": 13,
     "metadata": {},
     "output_type": "execute_result"
    }
   ],
   "source": [
    "sent3_wt = word_tokenize(sent3)\n",
    "sent3_wt"
   ]
  },
  {
   "cell_type": "code",
   "execution_count": 46,
   "id": "6b4e1610",
   "metadata": {},
   "outputs": [
    {
     "data": {
      "text/plain": [
       "Synset('jamming.n.01')"
      ]
     },
     "execution_count": 46,
     "metadata": {},
     "output_type": "execute_result"
    }
   ],
   "source": [
    "wsd3 = lesk(sent3_wt, 'jam')\n",
    "wsd3"
   ]
  },
  {
   "cell_type": "code",
   "execution_count": 47,
   "id": "1aa42f52",
   "metadata": {
    "scrolled": true
   },
   "outputs": [
    {
     "name": "stdout",
     "output_type": "stream",
     "text": [
      "Synset('jamming.n.01') : deliberate radiation or reflection of electromagnetic energy for the purpose of disrupting enemy use of electronic devices or systems\n"
     ]
    }
   ],
   "source": [
    "print(wsd3, \":\", wsd3.definition())"
   ]
  },
  {
   "cell_type": "markdown",
   "id": "9302459c",
   "metadata": {},
   "source": [
    "## Example 2"
   ]
  },
  {
   "cell_type": "code",
   "execution_count": 28,
   "id": "f803c59e",
   "metadata": {},
   "outputs": [
    {
     "data": {
      "text/plain": [
       "'Apply spices to the chicken to season it'"
      ]
     },
     "execution_count": 28,
     "metadata": {},
     "output_type": "execute_result"
    }
   ],
   "source": [
    "s2 = 'Apply spices to the chicken to season it'\n",
    "s2"
   ]
  },
  {
   "cell_type": "code",
   "execution_count": 29,
   "id": "8a7bd8c7",
   "metadata": {},
   "outputs": [
    {
     "data": {
      "text/plain": [
       "['Apply', 'spices', 'to', 'the', 'chicken', 'to', 'season', 'it']"
      ]
     },
     "execution_count": 29,
     "metadata": {},
     "output_type": "execute_result"
    }
   ],
   "source": [
    "s2_wt = word_tokenize(s2)\n",
    "s2_wt"
   ]
  },
  {
   "cell_type": "code",
   "execution_count": 30,
   "id": "658f56f5",
   "metadata": {},
   "outputs": [
    {
     "data": {
      "text/plain": [
       "Synset('season.v.01')"
      ]
     },
     "execution_count": 30,
     "metadata": {},
     "output_type": "execute_result"
    }
   ],
   "source": [
    "wsd3 = lesk(s2_wt, 'season')\n",
    "wsd3"
   ]
  },
  {
   "cell_type": "code",
   "execution_count": 31,
   "id": "65311994",
   "metadata": {},
   "outputs": [
    {
     "name": "stdout",
     "output_type": "stream",
     "text": [
      "Synset('season.v.01') : lend flavor to\n"
     ]
    }
   ],
   "source": [
    "print(wsd3, \":\", wsd3.definition())"
   ]
  },
  {
   "cell_type": "code",
   "execution_count": 32,
   "id": "ec0a431e",
   "metadata": {},
   "outputs": [
    {
     "data": {
      "text/plain": [
       "'India receives a lot of rain in the rainy season'"
      ]
     },
     "execution_count": 32,
     "metadata": {},
     "output_type": "execute_result"
    }
   ],
   "source": [
    "s3 = \"India receives a lot of rain in the rainy season\"\n",
    "s3"
   ]
  },
  {
   "cell_type": "code",
   "execution_count": 33,
   "id": "d66c315a",
   "metadata": {},
   "outputs": [
    {
     "data": {
      "text/plain": [
       "['India', 'receives', 'a', 'lot', 'of', 'rain', 'in', 'the', 'rainy', 'season']"
      ]
     },
     "execution_count": 33,
     "metadata": {},
     "output_type": "execute_result"
    }
   ],
   "source": [
    "s3_wt = word_tokenize(s3)\n",
    "s3_wt"
   ]
  },
  {
   "cell_type": "code",
   "execution_count": 34,
   "id": "0ce0994a",
   "metadata": {},
   "outputs": [
    {
     "data": {
      "text/plain": [
       "Synset('season.n.01')"
      ]
     },
     "execution_count": 34,
     "metadata": {},
     "output_type": "execute_result"
    }
   ],
   "source": [
    "wsd4 = lesk(s3_wt, 'season')\n",
    "wsd4"
   ]
  },
  {
   "cell_type": "code",
   "execution_count": 35,
   "id": "a9a09c06",
   "metadata": {},
   "outputs": [
    {
     "name": "stdout",
     "output_type": "stream",
     "text": [
      "Synset('season.n.01') : a period of the year marked by special events or activities in some field\n"
     ]
    }
   ],
   "source": [
    "print(wsd4, \":\", wsd4.definition())"
   ]
  },
  {
   "cell_type": "markdown",
   "id": "38d1ed3f",
   "metadata": {},
   "source": [
    "# Example 3"
   ]
  },
  {
   "cell_type": "code",
   "execution_count": 36,
   "id": "c3da8353",
   "metadata": {},
   "outputs": [
    {
     "data": {
      "text/plain": [
       "'Water current'"
      ]
     },
     "execution_count": 36,
     "metadata": {},
     "output_type": "execute_result"
    }
   ],
   "source": [
    "sent = \"Water current\"\n",
    "sent"
   ]
  },
  {
   "cell_type": "code",
   "execution_count": 37,
   "id": "54265b1f",
   "metadata": {},
   "outputs": [
    {
     "data": {
      "text/plain": [
       "['Water', 'current']"
      ]
     },
     "execution_count": 37,
     "metadata": {},
     "output_type": "execute_result"
    }
   ],
   "source": [
    "sent_token = word_tokenize(sent)\n",
    "sent_token"
   ]
  },
  {
   "cell_type": "code",
   "execution_count": 38,
   "id": "57d73845",
   "metadata": {},
   "outputs": [
    {
     "data": {
      "text/plain": [
       "Synset('stream.n.02')"
      ]
     },
     "execution_count": 38,
     "metadata": {},
     "output_type": "execute_result"
    }
   ],
   "source": [
    "wsd = lesk(sent_token, 'current')\n",
    "wsd"
   ]
  },
  {
   "cell_type": "code",
   "execution_count": 39,
   "id": "e887f534",
   "metadata": {},
   "outputs": [
    {
     "name": "stdout",
     "output_type": "stream",
     "text": [
      "Synset('stream.n.02') : dominant course (suggestive of running water) of successive events or ideas\n"
     ]
    }
   ],
   "source": [
    "print(wsd, \":\", wsd.definition())"
   ]
  },
  {
   "cell_type": "code",
   "execution_count": 40,
   "id": "68898cfb",
   "metadata": {},
   "outputs": [
    {
     "data": {
      "text/plain": [
       "Synset('current.a.01')"
      ]
     },
     "execution_count": 40,
     "metadata": {},
     "output_type": "execute_result"
    }
   ],
   "source": [
    "wsd1 = lesk(word_tokenize(\"The current time is 2 AM\"), 'current')\n",
    "wsd1"
   ]
  },
  {
   "cell_type": "code",
   "execution_count": 41,
   "id": "ceea25d0",
   "metadata": {},
   "outputs": [
    {
     "name": "stdout",
     "output_type": "stream",
     "text": [
      "Synset('current.a.01') : occurring in or belonging to the present time\n"
     ]
    }
   ],
   "source": [
    "print(wsd1, \":\", wsd1.definition())"
   ]
  },
  {
   "cell_type": "markdown",
   "id": "a6d13e05",
   "metadata": {},
   "source": [
    "## Wordnet for jam"
   ]
  },
  {
   "cell_type": "code",
   "execution_count": 55,
   "id": "e3af34ac",
   "metadata": {
    "scrolled": true
   },
   "outputs": [
    {
     "data": {
      "text/plain": [
       "[Synset('jam.n.01'),\n",
       " Synset('fix.n.01'),\n",
       " Synset('crush.n.02'),\n",
       " Synset('jamming.n.01'),\n",
       " Synset('throng.v.01'),\n",
       " Synset('jam.v.02'),\n",
       " Synset('jam.v.03'),\n",
       " Synset('jam.v.04'),\n",
       " Synset('jam.v.05'),\n",
       " Synset('jam.v.06'),\n",
       " Synset('obstruct.v.02')]"
      ]
     },
     "execution_count": 55,
     "metadata": {},
     "output_type": "execute_result"
    }
   ],
   "source": [
    "from nltk.corpus import wordnet\n",
    "\n",
    "syn = wordnet.synsets('jam')\n",
    "syn"
   ]
  },
  {
   "cell_type": "code",
   "execution_count": 57,
   "id": "6dac92db",
   "metadata": {},
   "outputs": [
    {
     "data": {
      "text/plain": [
       "'preserve of crushed fruit'"
      ]
     },
     "execution_count": 57,
     "metadata": {},
     "output_type": "execute_result"
    }
   ],
   "source": [
    "syn[].definition()"
   ]
  },
  {
   "cell_type": "code",
   "execution_count": null,
   "id": "7f1aa8c1",
   "metadata": {},
   "outputs": [],
   "source": []
  }
 ],
 "metadata": {
  "kernelspec": {
   "display_name": "Python 3 (ipykernel)",
   "language": "python",
   "name": "python3"
  },
  "language_info": {
   "codemirror_mode": {
    "name": "ipython",
    "version": 3
   },
   "file_extension": ".py",
   "mimetype": "text/x-python",
   "name": "python",
   "nbconvert_exporter": "python",
   "pygments_lexer": "ipython3",
   "version": "3.9.16"
  }
 },
 "nbformat": 4,
 "nbformat_minor": 5
}
