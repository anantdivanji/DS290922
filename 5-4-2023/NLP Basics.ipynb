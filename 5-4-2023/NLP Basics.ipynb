{
 "cells": [
  {
   "cell_type": "markdown",
   "id": "39b1dae3",
   "metadata": {},
   "source": [
    "## Library for NLP"
   ]
  },
  {
   "cell_type": "code",
   "execution_count": 2,
   "id": "9d754067",
   "metadata": {},
   "outputs": [
    {
     "name": "stdout",
     "output_type": "stream",
     "text": [
      "Requirement already satisfied: nltk in c:\\users\\amant\\anaconda3\\lib\\site-packages (3.7)"
     ]
    },
    {
     "name": "stderr",
     "output_type": "stream",
     "text": [
      "Error processing line 3 of C:\\Users\\AMANT\\anaconda3\\lib\\site-packages\\googleapis_common_protos-1.56.4-py3.10-nspkg.pth:\n",
      "\n",
      "  Traceback (most recent call last):\n",
      "    File \"C:\\Users\\AMANT\\anaconda3\\lib\\site.py\", line 169, in addpackage\n",
      "      exec(line)\n",
      "    File \"<string>\", line 1, in <module>\n",
      "    File \"<frozen importlib._bootstrap>\", line 562, in module_from_spec\n",
      "  AttributeError: 'NoneType' object has no attribute 'loader'\n",
      "\n",
      "Remainder of file ignored\n"
     ]
    },
    {
     "name": "stdout",
     "output_type": "stream",
     "text": [
      "\n",
      "Requirement already satisfied: joblib in c:\\users\\amant\\anaconda3\\lib\\site-packages (from nltk) (1.1.1)\n",
      "Requirement already satisfied: regex>=2021.8.3 in c:\\users\\amant\\anaconda3\\lib\\site-packages (from nltk) (2022.7.9)\n",
      "Requirement already satisfied: click in c:\\users\\amant\\anaconda3\\lib\\site-packages (from nltk) (8.0.4)\n",
      "Requirement already satisfied: tqdm in c:\\users\\amant\\anaconda3\\lib\\site-packages (from nltk) (4.64.1)\n",
      "Requirement already satisfied: colorama in c:\\users\\amant\\anaconda3\\lib\\site-packages (from click->nltk) (0.4.6)\n"
     ]
    }
   ],
   "source": [
    "!pip install nltk"
   ]
  },
  {
   "cell_type": "code",
   "execution_count": 4,
   "id": "a20539e0",
   "metadata": {},
   "outputs": [
    {
     "name": "stderr",
     "output_type": "stream",
     "text": [
      "[nltk_data] Downloading package punkt to\n",
      "[nltk_data]     C:\\Users\\AMANT\\AppData\\Roaming\\nltk_data...\n",
      "[nltk_data]   Package punkt is already up-to-date!\n"
     ]
    },
    {
     "data": {
      "text/plain": [
       "True"
      ]
     },
     "execution_count": 4,
     "metadata": {},
     "output_type": "execute_result"
    }
   ],
   "source": [
    "import nltk\n",
    "nltk.download('punkt')"
   ]
  },
  {
   "cell_type": "markdown",
   "id": "c5aae537",
   "metadata": {},
   "source": [
    "## Dependencies for nltk"
   ]
  },
  {
   "cell_type": "code",
   "execution_count": 5,
   "id": "5540dca0",
   "metadata": {},
   "outputs": [
    {
     "name": "stdout",
     "output_type": "stream",
     "text": [
      "showing info https://raw.githubusercontent.com/nltk/nltk_data/gh-pages/index.xml\n"
     ]
    },
    {
     "data": {
      "text/plain": [
       "True"
      ]
     },
     "execution_count": 5,
     "metadata": {},
     "output_type": "execute_result"
    }
   ],
   "source": [
    "import nltk\n",
    "nltk.download()"
   ]
  },
  {
   "cell_type": "markdown",
   "id": "ab44b9b9",
   "metadata": {},
   "source": [
    "# Basics of NLP"
   ]
  },
  {
   "cell_type": "markdown",
   "id": "52331f24",
   "metadata": {},
   "source": [
    "## 1. Convert the text into lowercase"
   ]
  },
  {
   "cell_type": "code",
   "execution_count": 6,
   "id": "0182c450",
   "metadata": {},
   "outputs": [],
   "source": [
    "text = 'It is a Truth Universally acknowledged, that a single man in possession of a good fortune, must be in want of Wife'"
   ]
  },
  {
   "cell_type": "code",
   "execution_count": 8,
   "id": "f375b5bb",
   "metadata": {},
   "outputs": [
    {
     "data": {
      "text/plain": [
       "'it is a truth universally acknowledged, that a single man in possession of a good fortune, must be in want of wife'"
      ]
     },
     "execution_count": 8,
     "metadata": {},
     "output_type": "execute_result"
    }
   ],
   "source": [
    "text = text.lower()\n",
    "text"
   ]
  },
  {
   "cell_type": "markdown",
   "id": "a642fa73",
   "metadata": {},
   "source": [
    "## 2. Removing punctuation"
   ]
  },
  {
   "cell_type": "code",
   "execution_count": 9,
   "id": "8ec148bd",
   "metadata": {},
   "outputs": [
    {
     "name": "stdout",
     "output_type": "stream",
     "text": [
      "!\"#$%&'()*+,-./:;<=>?@[\\]^_`{|}~\n"
     ]
    }
   ],
   "source": [
    "import string\n",
    "print(string.punctuation)"
   ]
  },
  {
   "cell_type": "code",
   "execution_count": 18,
   "id": "cb5cdb44",
   "metadata": {},
   "outputs": [],
   "source": [
    "#ch = []\n",
    "#for char in text:\n",
    "#    if char not in string.punctuation:\n",
    "#        ch.append(char)\n",
    "        \n",
    "#print(ch)\n",
    "    "
   ]
  },
  {
   "cell_type": "code",
   "execution_count": 21,
   "id": "cc1624d4",
   "metadata": {},
   "outputs": [
    {
     "data": {
      "text/plain": [
       "'it is a truth universally acknowledged that a single man in possession of a good fortune must be in want of wife'"
      ]
     },
     "execution_count": 21,
     "metadata": {},
     "output_type": "execute_result"
    }
   ],
   "source": [
    "text_p = \"\".join([char for char in text if char not in string.punctuation])\n",
    "text_p"
   ]
  },
  {
   "cell_type": "markdown",
   "id": "f36680cc",
   "metadata": {},
   "source": [
    "## Join method"
   ]
  },
  {
   "cell_type": "code",
   "execution_count": 17,
   "id": "e6814ba2",
   "metadata": {},
   "outputs": [
    {
     "data": {
      "text/plain": [
       "'python'"
      ]
     },
     "execution_count": 17,
     "metadata": {},
     "output_type": "execute_result"
    }
   ],
   "source": [
    "li = ['p', 'y', 't', 'h', 'o', 'n']\n",
    "\"\".join(li)"
   ]
  },
  {
   "cell_type": "markdown",
   "id": "9528fe93",
   "metadata": {},
   "source": [
    "## 3. Word Tokenization\n",
    "\n",
    "- Word Tokenization means from the complete sentence extract all the unqiue words and display them"
   ]
  },
  {
   "cell_type": "code",
   "execution_count": 25,
   "id": "46ae9432",
   "metadata": {},
   "outputs": [
    {
     "data": {
      "text/plain": [
       "'it is a truth universally acknowledged that a single man in possession of a good fortune must be in want of wife'"
      ]
     },
     "execution_count": 25,
     "metadata": {},
     "output_type": "execute_result"
    }
   ],
   "source": [
    "text_p"
   ]
  },
  {
   "cell_type": "code",
   "execution_count": 23,
   "id": "0986b68d",
   "metadata": {},
   "outputs": [],
   "source": [
    "from nltk import word_tokenize\n",
    "words = word_tokenize(text_p)"
   ]
  },
  {
   "cell_type": "code",
   "execution_count": 24,
   "id": "699f48f9",
   "metadata": {},
   "outputs": [
    {
     "data": {
      "text/plain": [
       "['it',\n",
       " 'is',\n",
       " 'a',\n",
       " 'truth',\n",
       " 'universally',\n",
       " 'acknowledged',\n",
       " 'that',\n",
       " 'a',\n",
       " 'single',\n",
       " 'man',\n",
       " 'in',\n",
       " 'possession',\n",
       " 'of',\n",
       " 'a',\n",
       " 'good',\n",
       " 'fortune',\n",
       " 'must',\n",
       " 'be',\n",
       " 'in',\n",
       " 'want',\n",
       " 'of',\n",
       " 'wife']"
      ]
     },
     "execution_count": 24,
     "metadata": {},
     "output_type": "execute_result"
    }
   ],
   "source": [
    "words"
   ]
  },
  {
   "cell_type": "code",
   "execution_count": 26,
   "id": "b6c764ce",
   "metadata": {},
   "outputs": [
    {
     "data": {
      "text/plain": [
       "'This is nlp session. nlp is a nice area of research. I am analyzing some text data.'"
      ]
     },
     "execution_count": 26,
     "metadata": {},
     "output_type": "execute_result"
    }
   ],
   "source": [
    "s = 'This is nlp session. nlp is a nice area of research. I am analyzing some text data.'\n",
    "s"
   ]
  },
  {
   "cell_type": "code",
   "execution_count": 27,
   "id": "43e935cb",
   "metadata": {},
   "outputs": [
    {
     "data": {
      "text/plain": [
       "['This',\n",
       " 'is',\n",
       " 'nlp',\n",
       " 'session',\n",
       " '.',\n",
       " 'nlp',\n",
       " 'is',\n",
       " 'a',\n",
       " 'nice',\n",
       " 'area',\n",
       " 'of',\n",
       " 'research',\n",
       " '.',\n",
       " 'I',\n",
       " 'am',\n",
       " 'analyzing',\n",
       " 'some',\n",
       " 'text',\n",
       " 'data',\n",
       " '.']"
      ]
     },
     "execution_count": 27,
     "metadata": {},
     "output_type": "execute_result"
    }
   ],
   "source": [
    "from nltk import word_tokenize\n",
    "s_words = word_tokenize(s)\n",
    "s_words"
   ]
  },
  {
   "cell_type": "code",
   "execution_count": 28,
   "id": "3b598628",
   "metadata": {},
   "outputs": [
    {
     "data": {
      "text/plain": [
       "['This is nlp session.',\n",
       " 'nlp is a nice area of research.',\n",
       " 'I am analyzing some text data.']"
      ]
     },
     "execution_count": 28,
     "metadata": {},
     "output_type": "execute_result"
    }
   ],
   "source": [
    "from nltk import sent_tokenize\n",
    "s_sentences = sent_tokenize(s)\n",
    "s_sentences"
   ]
  },
  {
   "cell_type": "markdown",
   "id": "84ade929",
   "metadata": {},
   "source": [
    "## 4. Stopwords Filtering"
   ]
  },
  {
   "cell_type": "code",
   "execution_count": 38,
   "id": "c7df2acc",
   "metadata": {},
   "outputs": [
    {
     "name": "stdout",
     "output_type": "stream",
     "text": [
      "['This', 'is', 'nlp', 'session', '.', 'nlp', 'is', 'a', 'nice', 'area', 'of', 'research', '.', 'I', 'am', 'analyzing', 'some', 'text', 'data', '.']\n"
     ]
    }
   ],
   "source": [
    "print(s_words)"
   ]
  },
  {
   "cell_type": "code",
   "execution_count": 32,
   "id": "2698f186",
   "metadata": {},
   "outputs": [
    {
     "name": "stdout",
     "output_type": "stream",
     "text": [
      "['i', 'me', 'my', 'myself', 'we', 'our', 'ours', 'ourselves', 'you', \"you're\", \"you've\", \"you'll\", \"you'd\", 'your', 'yours', 'yourself', 'yourselves', 'he', 'him', 'his', 'himself', 'she', \"she's\", 'her', 'hers', 'herself', 'it', \"it's\", 'its', 'itself', 'they', 'them', 'their', 'theirs', 'themselves', 'what', 'which', 'who', 'whom', 'this', 'that', \"that'll\", 'these', 'those', 'am', 'is', 'are', 'was', 'were', 'be', 'been', 'being', 'have', 'has', 'had', 'having', 'do', 'does', 'did', 'doing', 'a', 'an', 'the', 'and', 'but', 'if', 'or', 'because', 'as', 'until', 'while', 'of', 'at', 'by', 'for', 'with', 'about', 'against', 'between', 'into', 'through', 'during', 'before', 'after', 'above', 'below', 'to', 'from', 'up', 'down', 'in', 'out', 'on', 'off', 'over', 'under', 'again', 'further', 'then', 'once', 'here', 'there', 'when', 'where', 'why', 'how', 'all', 'any', 'both', 'each', 'few', 'more', 'most', 'other', 'some', 'such', 'no', 'nor', 'not', 'only', 'own', 'same', 'so', 'than', 'too', 'very', 's', 't', 'can', 'will', 'just', 'don', \"don't\", 'should', \"should've\", 'now', 'd', 'll', 'm', 'o', 're', 've', 'y', 'ain', 'aren', \"aren't\", 'couldn', \"couldn't\", 'didn', \"didn't\", 'doesn', \"doesn't\", 'hadn', \"hadn't\", 'hasn', \"hasn't\", 'haven', \"haven't\", 'isn', \"isn't\", 'ma', 'mightn', \"mightn't\", 'mustn', \"mustn't\", 'needn', \"needn't\", 'shan', \"shan't\", 'shouldn', \"shouldn't\", 'wasn', \"wasn't\", 'weren', \"weren't\", 'won', \"won't\", 'wouldn', \"wouldn't\"]\n"
     ]
    }
   ],
   "source": [
    "from nltk.corpus import stopwords\n",
    "stop_words = stopwords.words('english')\n",
    "print(stop_words)"
   ]
  },
  {
   "cell_type": "code",
   "execution_count": 36,
   "id": "2820f361",
   "metadata": {},
   "outputs": [
    {
     "data": {
      "text/plain": [
       "'This nlp session . nlp nice area research . I analyzing text data .'"
      ]
     },
     "execution_count": 36,
     "metadata": {},
     "output_type": "execute_result"
    }
   ],
   "source": [
    "\" \".join([each_word for each_word in s_words if each_word not in stop_words])"
   ]
  },
  {
   "cell_type": "markdown",
   "id": "d575194f",
   "metadata": {},
   "source": [
    "## Note : This and I are still present in the output because here I is in capital and This is having the T capital. whereas the stop words list is having i and this in small case"
   ]
  },
  {
   "cell_type": "markdown",
   "id": "1c62ee01",
   "metadata": {},
   "source": [
    "## Frequency count "
   ]
  },
  {
   "cell_type": "code",
   "execution_count": 39,
   "id": "f29f43f7",
   "metadata": {},
   "outputs": [
    {
     "data": {
      "text/plain": [
       "'it is a truth universally acknowledged, that a single man in possession of a good fortune, must be in want of wife'"
      ]
     },
     "execution_count": 39,
     "metadata": {},
     "output_type": "execute_result"
    }
   ],
   "source": [
    "text"
   ]
  },
  {
   "cell_type": "code",
   "execution_count": 40,
   "id": "e1edbe17",
   "metadata": {},
   "outputs": [
    {
     "data": {
      "text/plain": [
       "FreqDist({' ': 21, 'n': 9, 'i': 8, 't': 8, 's': 8, 'a': 8, 'e': 8, 'o': 8, 'u': 4, 'l': 4, ...})"
      ]
     },
     "execution_count": 40,
     "metadata": {},
     "output_type": "execute_result"
    }
   ],
   "source": [
    "nltk.FreqDist(text)"
   ]
  },
  {
   "cell_type": "code",
   "execution_count": null,
   "id": "1edee466",
   "metadata": {},
   "outputs": [],
   "source": []
  }
 ],
 "metadata": {
  "kernelspec": {
   "display_name": "Python 3 (ipykernel)",
   "language": "python",
   "name": "python3"
  },
  "language_info": {
   "codemirror_mode": {
    "name": "ipython",
    "version": 3
   },
   "file_extension": ".py",
   "mimetype": "text/x-python",
   "name": "python",
   "nbconvert_exporter": "python",
   "pygments_lexer": "ipython3",
   "version": "3.9.16"
  }
 },
 "nbformat": 4,
 "nbformat_minor": 5
}
