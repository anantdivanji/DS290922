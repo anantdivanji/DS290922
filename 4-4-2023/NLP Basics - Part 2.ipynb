{
 "cells": [
  {
   "cell_type": "markdown",
   "id": "137395f3",
   "metadata": {},
   "source": [
    "# Load the library"
   ]
  },
  {
   "cell_type": "code",
   "execution_count": 1,
   "id": "3eddfbca",
   "metadata": {},
   "outputs": [],
   "source": [
    "import pandas as pd\n",
    "import numpy as np\n",
    "import nltk"
   ]
  },
  {
   "cell_type": "markdown",
   "id": "4532ee99",
   "metadata": {},
   "source": [
    "## Tokenization\n",
    "\n",
    "#### 2 Types - a. Sent tokenization b. Word Tokenization\n",
    "- a. Sent Tokenization - It is used to extract complete sentences from the text\n",
    "- b. Word Tokenization - It is used to extract words from the text"
   ]
  },
  {
   "cell_type": "code",
   "execution_count": 2,
   "id": "98c05a5d",
   "metadata": {},
   "outputs": [],
   "source": [
    "text = 'Hello Everyone, how are you? I hope everything is going well. Today isa good day, see you dude.'"
   ]
  },
  {
   "cell_type": "markdown",
   "id": "74528aab",
   "metadata": {},
   "source": [
    "### a. Word Tokenization"
   ]
  },
  {
   "cell_type": "code",
   "execution_count": 3,
   "id": "374b3a34",
   "metadata": {},
   "outputs": [
    {
     "data": {
      "text/plain": [
       "['Hello',\n",
       " 'Everyone',\n",
       " ',',\n",
       " 'how',\n",
       " 'are',\n",
       " 'you',\n",
       " '?',\n",
       " 'I',\n",
       " 'hope',\n",
       " 'everything',\n",
       " 'is',\n",
       " 'going',\n",
       " 'well',\n",
       " '.',\n",
       " 'Today',\n",
       " 'isa',\n",
       " 'good',\n",
       " 'day',\n",
       " ',',\n",
       " 'see',\n",
       " 'you',\n",
       " 'dude',\n",
       " '.']"
      ]
     },
     "execution_count": 3,
     "metadata": {},
     "output_type": "execute_result"
    }
   ],
   "source": [
    "from nltk.tokenize import word_tokenize\n",
    "word_tokenize(text)"
   ]
  },
  {
   "cell_type": "markdown",
   "id": "3a91c887",
   "metadata": {},
   "source": [
    "### Sentence Tokenization"
   ]
  },
  {
   "cell_type": "code",
   "execution_count": 4,
   "id": "1821ca34",
   "metadata": {},
   "outputs": [
    {
     "data": {
      "text/plain": [
       "['Hello Everyone, how are you?',\n",
       " 'I hope everything is going well.',\n",
       " 'Today isa good day, see you dude.']"
      ]
     },
     "execution_count": 4,
     "metadata": {},
     "output_type": "execute_result"
    }
   ],
   "source": [
    "from nltk.tokenize import sent_tokenize\n",
    "sent_tokenize(text)"
   ]
  },
  {
   "cell_type": "markdown",
   "id": "e89ebcd7",
   "metadata": {},
   "source": [
    "## Tokenize non - English Language text"
   ]
  },
  {
   "cell_type": "code",
   "execution_count": 5,
   "id": "969a4839",
   "metadata": {},
   "outputs": [],
   "source": [
    "text_1 = \"Bonjour M. Adam, comment allez-vous? J'espere que tout va bien. Aujoud'hui est un bon jour\""
   ]
  },
  {
   "cell_type": "code",
   "execution_count": 8,
   "id": "2d30f04d",
   "metadata": {},
   "outputs": [
    {
     "data": {
      "text/plain": [
       "['Bonjour M. Adam, comment allez-vous?',\n",
       " \"J'espere que tout va bien.\",\n",
       " \"Aujoud'hui est un bon jour\"]"
      ]
     },
     "execution_count": 8,
     "metadata": {},
     "output_type": "execute_result"
    }
   ],
   "source": [
    "from nltk.tokenize import sent_tokenize\n",
    "sent_tokenize(text_1, 'french')"
   ]
  },
  {
   "cell_type": "code",
   "execution_count": 9,
   "id": "79c9f4ec",
   "metadata": {},
   "outputs": [
    {
     "data": {
      "text/plain": [
       "['Bonjour M. Adam, comment allez-vous?',\n",
       " \"J'espere que tout va bien.\",\n",
       " \"Aujoud'hui est un bon jour\"]"
      ]
     },
     "execution_count": 9,
     "metadata": {},
     "output_type": "execute_result"
    }
   ],
   "source": [
    "from nltk.tokenize import sent_tokenize\n",
    "sent_tokenize(text_1)"
   ]
  },
  {
   "cell_type": "markdown",
   "id": "ef965726",
   "metadata": {},
   "source": [
    "## Get Synonyms from WordNet\n",
    "\n",
    "- synonyms - words that have similar meaning eg: pain, grief. lucky, fortunate, "
   ]
  },
  {
   "cell_type": "code",
   "execution_count": 14,
   "id": "2a9a173e",
   "metadata": {},
   "outputs": [
    {
     "data": {
      "text/plain": [
       "[Synset('pain.n.01'),\n",
       " Synset('pain.n.02'),\n",
       " Synset('pain.n.03'),\n",
       " Synset('pain.n.04'),\n",
       " Synset('annoyance.n.04'),\n",
       " Synset('trouble.v.05'),\n",
       " Synset('pain.v.02')]"
      ]
     },
     "execution_count": 14,
     "metadata": {},
     "output_type": "execute_result"
    }
   ],
   "source": [
    "from nltk.corpus import wordnet\n",
    "\n",
    "syn = wordnet.synsets('pain')\n",
    "syn"
   ]
  },
  {
   "cell_type": "code",
   "execution_count": 20,
   "id": "a80a06a9",
   "metadata": {},
   "outputs": [
    {
     "data": {
      "text/plain": [
       "'a symptom of some physical hurt or disorder'"
      ]
     },
     "execution_count": 20,
     "metadata": {},
     "output_type": "execute_result"
    }
   ],
   "source": [
    "syn[0].definition()"
   ]
  },
  {
   "cell_type": "code",
   "execution_count": 21,
   "id": "b8050e1a",
   "metadata": {},
   "outputs": [
    {
     "data": {
      "text/plain": [
       "['the patient developed severe pain and distension']"
      ]
     },
     "execution_count": 21,
     "metadata": {},
     "output_type": "execute_result"
    }
   ],
   "source": [
    "syn[0].examples()"
   ]
  },
  {
   "cell_type": "code",
   "execution_count": 22,
   "id": "99f624ae",
   "metadata": {},
   "outputs": [
    {
     "data": {
      "text/plain": [
       "Synset('annoyance.n.04')"
      ]
     },
     "execution_count": 22,
     "metadata": {},
     "output_type": "execute_result"
    }
   ],
   "source": [
    "syn[4]"
   ]
  },
  {
   "cell_type": "code",
   "execution_count": 23,
   "id": "56cefe72",
   "metadata": {},
   "outputs": [
    {
     "data": {
      "text/plain": [
       "'something or someone that causes trouble; a source of unhappiness'"
      ]
     },
     "execution_count": 23,
     "metadata": {},
     "output_type": "execute_result"
    }
   ],
   "source": [
    "syn[4].definition()"
   ]
  },
  {
   "cell_type": "code",
   "execution_count": 24,
   "id": "50330dae",
   "metadata": {},
   "outputs": [
    {
     "data": {
      "text/plain": [
       "['washing dishes was a nuisance before we got a dish washer',\n",
       " 'a bit of a bother',\n",
       " \"he's not a friend, he's an infliction\"]"
      ]
     },
     "execution_count": 24,
     "metadata": {},
     "output_type": "execute_result"
    }
   ],
   "source": [
    "syn[4].examples()"
   ]
  },
  {
   "cell_type": "code",
   "execution_count": 26,
   "id": "f30098db",
   "metadata": {},
   "outputs": [
    {
     "data": {
      "text/plain": [
       "[Synset('natural_language_processing.n.01')]"
      ]
     },
     "execution_count": 26,
     "metadata": {},
     "output_type": "execute_result"
    }
   ],
   "source": [
    "syn = wordnet.synsets('NLP')\n",
    "syn"
   ]
  },
  {
   "cell_type": "code",
   "execution_count": 29,
   "id": "2afb9d3c",
   "metadata": {},
   "outputs": [
    {
     "data": {
      "text/plain": [
       "'the branch of information science that deals with natural language information'"
      ]
     },
     "execution_count": 29,
     "metadata": {},
     "output_type": "execute_result"
    }
   ],
   "source": [
    "syn[0].definition()"
   ]
  },
  {
   "cell_type": "code",
   "execution_count": 30,
   "id": "fda0998b",
   "metadata": {},
   "outputs": [
    {
     "data": {
      "text/plain": [
       "[Synset('python.n.01'), Synset('python.n.02'), Synset('python.n.03')]"
      ]
     },
     "execution_count": 30,
     "metadata": {},
     "output_type": "execute_result"
    }
   ],
   "source": [
    "syn = wordnet.synsets('Python')\n",
    "syn"
   ]
  },
  {
   "cell_type": "code",
   "execution_count": 33,
   "id": "dcb0e33b",
   "metadata": {},
   "outputs": [
    {
     "data": {
      "text/plain": [
       "'a soothsaying spirit or a person who is possessed by such a spirit'"
      ]
     },
     "execution_count": 33,
     "metadata": {},
     "output_type": "execute_result"
    }
   ],
   "source": [
    "syn[1].definition()"
   ]
  },
  {
   "cell_type": "markdown",
   "id": "4e1573b6",
   "metadata": {},
   "source": [
    "## Printing the the actual synonymns for the words"
   ]
  },
  {
   "cell_type": "code",
   "execution_count": 34,
   "id": "4bbe38ef",
   "metadata": {},
   "outputs": [
    {
     "data": {
      "text/plain": [
       "[Synset('computer.n.01'), Synset('calculator.n.01')]"
      ]
     },
     "execution_count": 34,
     "metadata": {},
     "output_type": "execute_result"
    }
   ],
   "source": [
    "syn = wordnet.synsets('Computer')\n",
    "syn"
   ]
  },
  {
   "cell_type": "code",
   "execution_count": 42,
   "id": "e33fb876",
   "metadata": {},
   "outputs": [
    {
     "data": {
      "text/plain": [
       "[Lemma('calculator.n.01.calculator'),\n",
       " Lemma('calculator.n.01.reckoner'),\n",
       " Lemma('calculator.n.01.figurer'),\n",
       " Lemma('calculator.n.01.estimator'),\n",
       " Lemma('calculator.n.01.computer')]"
      ]
     },
     "execution_count": 42,
     "metadata": {},
     "output_type": "execute_result"
    }
   ],
   "source": [
    "syn.lemmas()"
   ]
  },
  {
   "cell_type": "code",
   "execution_count": 37,
   "id": "86f783c3",
   "metadata": {},
   "outputs": [
    {
     "name": "stdout",
     "output_type": "stream",
     "text": [
      "computer\n",
      "computing_machine\n",
      "computing_device\n",
      "data_processor\n",
      "electronic_computer\n",
      "information_processing_system\n",
      "calculator\n",
      "reckoner\n",
      "figurer\n",
      "estimator\n",
      "computer\n"
     ]
    }
   ],
   "source": [
    "for syn in wordnet.synsets('Computer'):\n",
    "    for word in syn.lemmas():\n",
    "        #print(word)\n",
    "        print(word.name())"
   ]
  },
  {
   "cell_type": "markdown",
   "id": "1de7ec12",
   "metadata": {},
   "source": [
    "## Get Antonyms from WordNet\n",
    "\n",
    "- Antonyms means opposite words"
   ]
  },
  {
   "cell_type": "code",
   "execution_count": 44,
   "id": "e210f429",
   "metadata": {},
   "outputs": [
    {
     "data": {
      "text/plain": [
       "[Synset('small.n.01'),\n",
       " Synset('small.n.02'),\n",
       " Synset('small.a.01'),\n",
       " Synset('minor.s.10'),\n",
       " Synset('little.s.03'),\n",
       " Synset('small.s.04'),\n",
       " Synset('humble.s.01'),\n",
       " Synset('little.s.07'),\n",
       " Synset('little.s.05'),\n",
       " Synset('small.s.08'),\n",
       " Synset('modest.s.02'),\n",
       " Synset('belittled.s.01'),\n",
       " Synset('small.r.01')]"
      ]
     },
     "execution_count": 44,
     "metadata": {},
     "output_type": "execute_result"
    }
   ],
   "source": [
    "syn = wordnet.synsets('small')\n",
    "syn"
   ]
  },
  {
   "cell_type": "code",
   "execution_count": 60,
   "id": "c07ea14f",
   "metadata": {},
   "outputs": [
    {
     "name": "stdout",
     "output_type": "stream",
     "text": [
      "[Lemma('large.a.01.large')]\n",
      "[Lemma('large.a.01.big')]\n",
      "[Lemma('big.r.03.big')]\n"
     ]
    }
   ],
   "source": [
    "for syn in wordnet.synsets('small'):\n",
    "    for word in syn.lemmas():\n",
    "        if word.antonyms():\n",
    "            print(word.antonyms())"
   ]
  },
  {
   "cell_type": "code",
   "execution_count": 64,
   "id": "189b7dd5",
   "metadata": {},
   "outputs": [
    {
     "name": "stdout",
     "output_type": "stream",
     "text": [
      "[Lemma('other.a.01.other')]\n",
      "[Lemma('different.a.01.different')]\n",
      "[Lemma('unlike.a.02.unlike')]\n"
     ]
    }
   ],
   "source": [
    "for syn in wordnet.synsets('same'):\n",
    "    for word in syn.lemmas():\n",
    "        if word.antonyms():\n",
    "            print(word.antonyms())"
   ]
  },
  {
   "cell_type": "markdown",
   "id": "3f6ed56e",
   "metadata": {},
   "source": [
    "## Stemming\n",
    "\n",
    "- Word Stemming means removing the extra suffixes from the text and return the root words. The roots words derived from stemming do not have any meaning"
   ]
  },
  {
   "cell_type": "code",
   "execution_count": 66,
   "id": "ea072764",
   "metadata": {},
   "outputs": [],
   "source": [
    "from nltk.stem import PorterStemmer\n",
    "stemmer = PorterStemmer()"
   ]
  },
  {
   "cell_type": "code",
   "execution_count": 67,
   "id": "b1f056a2",
   "metadata": {},
   "outputs": [
    {
     "data": {
      "text/plain": [
       "'play'"
      ]
     },
     "execution_count": 67,
     "metadata": {},
     "output_type": "execute_result"
    }
   ],
   "source": [
    "stemmer.stem('playing')"
   ]
  },
  {
   "cell_type": "code",
   "execution_count": 69,
   "id": "88f4a2d1",
   "metadata": {},
   "outputs": [
    {
     "data": {
      "text/plain": [
       "'habbit'"
      ]
     },
     "execution_count": 69,
     "metadata": {},
     "output_type": "execute_result"
    }
   ],
   "source": [
    "stemmer.stem('habbits')"
   ]
  },
  {
   "cell_type": "code",
   "execution_count": 72,
   "id": "6255019c",
   "metadata": {},
   "outputs": [
    {
     "data": {
      "text/plain": [
       "'art'"
      ]
     },
     "execution_count": 72,
     "metadata": {},
     "output_type": "execute_result"
    }
   ],
   "source": [
    "stemmer.stem('arts')"
   ]
  },
  {
   "cell_type": "code",
   "execution_count": 73,
   "id": "344ba485",
   "metadata": {},
   "outputs": [
    {
     "data": {
      "text/plain": [
       "'ad'"
      ]
     },
     "execution_count": 73,
     "metadata": {},
     "output_type": "execute_result"
    }
   ],
   "source": [
    "stemmer.stem('adding')"
   ]
  },
  {
   "cell_type": "code",
   "execution_count": 74,
   "id": "1eb32d8f",
   "metadata": {},
   "outputs": [
    {
     "data": {
      "text/plain": [
       "'increas'"
      ]
     },
     "execution_count": 74,
     "metadata": {},
     "output_type": "execute_result"
    }
   ],
   "source": [
    "stemmer.stem('increases')"
   ]
  },
  {
   "cell_type": "code",
   "execution_count": 76,
   "id": "f5d0c2a8",
   "metadata": {},
   "outputs": [
    {
     "data": {
      "text/plain": [
       "'habbitu'"
      ]
     },
     "execution_count": 76,
     "metadata": {},
     "output_type": "execute_result"
    }
   ],
   "source": [
    "stemmer.stem('habbitual')"
   ]
  },
  {
   "cell_type": "markdown",
   "id": "a3cbc003",
   "metadata": {},
   "source": [
    "## Lemmitization\n",
    "\n",
    "- Lemmitization means removing the extra suffixes from the text and return the root words. The roots words derived from lemmitization will have meaning"
   ]
  },
  {
   "cell_type": "code",
   "execution_count": 77,
   "id": "37048127",
   "metadata": {},
   "outputs": [],
   "source": [
    "from nltk.stem import WordNetLemmatizer\n",
    "lemmitizer = WordNetLemmatizer()"
   ]
  },
  {
   "cell_type": "code",
   "execution_count": 83,
   "id": "2b5fa88f",
   "metadata": {},
   "outputs": [
    {
     "data": {
      "text/plain": [
       "'playing'"
      ]
     },
     "execution_count": 83,
     "metadata": {},
     "output_type": "execute_result"
    }
   ],
   "source": [
    "lemmitizer.lemmatize('playing', pos = 'n')"
   ]
  },
  {
   "cell_type": "code",
   "execution_count": 79,
   "id": "1930e200",
   "metadata": {},
   "outputs": [
    {
     "data": {
      "text/plain": [
       "'habbitual'"
      ]
     },
     "execution_count": 79,
     "metadata": {},
     "output_type": "execute_result"
    }
   ],
   "source": [
    "lemmitizer.lemmatize('habbitual')"
   ]
  },
  {
   "cell_type": "code",
   "execution_count": 80,
   "id": "58099dc0",
   "metadata": {},
   "outputs": [
    {
     "data": {
      "text/plain": [
       "'increase'"
      ]
     },
     "execution_count": 80,
     "metadata": {},
     "output_type": "execute_result"
    }
   ],
   "source": [
    "lemmitizer.lemmatize('increases')"
   ]
  },
  {
   "cell_type": "code",
   "execution_count": 81,
   "id": "f937edf3",
   "metadata": {
    "scrolled": true
   },
   "outputs": [
    {
     "data": {
      "text/plain": [
       "'play'"
      ]
     },
     "execution_count": 81,
     "metadata": {},
     "output_type": "execute_result"
    }
   ],
   "source": [
    "lemmitizer.lemmatize('playing', pos = \"v\")"
   ]
  },
  {
   "cell_type": "code",
   "execution_count": 100,
   "id": "bf842697",
   "metadata": {},
   "outputs": [
    {
     "data": {
      "text/plain": [
       "'add'"
      ]
     },
     "execution_count": 100,
     "metadata": {},
     "output_type": "execute_result"
    }
   ],
   "source": [
    "lemmitizer.lemmatize('adding', pos = 'v')"
   ]
  },
  {
   "cell_type": "code",
   "execution_count": 105,
   "id": "4f56336c",
   "metadata": {},
   "outputs": [
    {
     "data": {
      "text/plain": [
       "'easily'"
      ]
     },
     "execution_count": 105,
     "metadata": {},
     "output_type": "execute_result"
    }
   ],
   "source": [
    "lemmitizer.lemmatize('easily', pos = 'n')"
   ]
  },
  {
   "cell_type": "markdown",
   "id": "a996978c",
   "metadata": {},
   "source": [
    "## Parts of Speech\n",
    "\n",
    "- nouns, verbs, adverbs, adjectives are the part of speech present in any text\n",
    "- a. JJ = adjective,   \n",
    "- b. NN = noun,   \n",
    "- c. RBR, RB = adverb,  \n",
    "- d. VBD = verbs, "
   ]
  },
  {
   "cell_type": "code",
   "execution_count": 117,
   "id": "e57c434a",
   "metadata": {},
   "outputs": [],
   "source": [
    "text = ['natural', 'language', 'processing', 'better', 'research', 'field', 'played', 'nicely']"
   ]
  },
  {
   "cell_type": "code",
   "execution_count": 118,
   "id": "2ebccb61",
   "metadata": {},
   "outputs": [
    {
     "data": {
      "text/plain": [
       "[('natural', 'JJ'),\n",
       " ('language', 'NN'),\n",
       " ('processing', 'NN'),\n",
       " ('better', 'RBR'),\n",
       " ('research', 'NN'),\n",
       " ('field', 'NN'),\n",
       " ('played', 'VBD'),\n",
       " ('nicely', 'RB')]"
      ]
     },
     "execution_count": 118,
     "metadata": {},
     "output_type": "execute_result"
    }
   ],
   "source": [
    "from nltk import pos_tag\n",
    "pos_tag(text)"
   ]
  },
  {
   "cell_type": "code",
   "execution_count": 108,
   "id": "454b3068",
   "metadata": {},
   "outputs": [
    {
     "name": "stderr",
     "output_type": "stream",
     "text": [
      "[nltk_data] Downloading package tagsets to\n",
      "[nltk_data]     C:\\Users\\AMANT\\AppData\\Roaming\\nltk_data...\n",
      "[nltk_data]   Package tagsets is already up-to-date!\n"
     ]
    },
    {
     "data": {
      "text/plain": [
       "True"
      ]
     },
     "execution_count": 108,
     "metadata": {},
     "output_type": "execute_result"
    }
   ],
   "source": [
    "nltk.download('tagsets')"
   ]
  },
  {
   "cell_type": "code",
   "execution_count": 109,
   "id": "9fa68ad4",
   "metadata": {},
   "outputs": [
    {
     "name": "stdout",
     "output_type": "stream",
     "text": [
      "NN: noun, common, singular or mass\n",
      "    common-carrier cabbage knuckle-duster Casino afghan shed thermostat\n",
      "    investment slide humour falloff slick wind hyena override subhumanity\n",
      "    machinist ...\n"
     ]
    }
   ],
   "source": [
    "nltk.help.upenn_tagset('NN')"
   ]
  },
  {
   "cell_type": "code",
   "execution_count": 110,
   "id": "8f1fb1c2",
   "metadata": {},
   "outputs": [
    {
     "name": "stdout",
     "output_type": "stream",
     "text": [
      "RBR: adverb, comparative\n",
      "    further gloomier grander graver greater grimmer harder harsher\n",
      "    healthier heavier higher however larger later leaner lengthier less-\n",
      "    perfectly lesser lonelier longer louder lower more ...\n"
     ]
    }
   ],
   "source": [
    "nltk.help.upenn_tagset('RBR')"
   ]
  },
  {
   "cell_type": "code",
   "execution_count": 111,
   "id": "2f0e3e3a",
   "metadata": {},
   "outputs": [
    {
     "name": "stdout",
     "output_type": "stream",
     "text": [
      "JJ: adjective or numeral, ordinal\n",
      "    third ill-mannered pre-war regrettable oiled calamitous first separable\n",
      "    ectoplasmic battery-powered participatory fourth still-to-be-named\n",
      "    multilingual multi-disciplinary ...\n"
     ]
    }
   ],
   "source": [
    "nltk.help.upenn_tagset('JJ')"
   ]
  },
  {
   "cell_type": "code",
   "execution_count": 116,
   "id": "994bb9d8",
   "metadata": {},
   "outputs": [
    {
     "name": "stdout",
     "output_type": "stream",
     "text": [
      "VBD: verb, past tense\n",
      "    dipped pleaded swiped regummed soaked tidied convened halted registered\n",
      "    cushioned exacted snubbed strode aimed adopted belied figgered\n",
      "    speculated wore appreciated contemplated ...\n"
     ]
    }
   ],
   "source": [
    "nltk.help.upenn_tagset('VBD')"
   ]
  },
  {
   "cell_type": "code",
   "execution_count": 119,
   "id": "ebb2e36e",
   "metadata": {},
   "outputs": [
    {
     "name": "stdout",
     "output_type": "stream",
     "text": [
      "RB: adverb\n",
      "    occasionally unabatingly maddeningly adventurously professedly\n",
      "    stirringly prominently technologically magisterially predominately\n",
      "    swiftly fiscally pitilessly ...\n"
     ]
    }
   ],
   "source": [
    "nltk.help.upenn_tagset('RB')"
   ]
  },
  {
   "cell_type": "markdown",
   "id": "1393642a",
   "metadata": {},
   "source": [
    "# N-grams\n",
    "\n",
    "- n-grams means sequence of n-words\n",
    "- N - grams are continuous sequence of words or symbols, or tokens in a document\n",
    "- In technical terms, they can be defined as the neighboring sequences of items in a document\n",
    "- They are used for text data in NLP tasks\n",
    "- Applications - language models, semantic features, spelling corrections, machine translations or text mining, etc"
   ]
  },
  {
   "cell_type": "code",
   "execution_count": 121,
   "id": "7cfb8f86",
   "metadata": {},
   "outputs": [
    {
     "data": {
      "text/plain": [
       "'Hari is very good in mathematics but he is not that much good in science'"
      ]
     },
     "execution_count": 121,
     "metadata": {},
     "output_type": "execute_result"
    }
   ],
   "source": [
    "my_text = 'Hari is very good in mathematics but he is not that much good in science'\n",
    "my_text"
   ]
  },
  {
   "cell_type": "code",
   "execution_count": 127,
   "id": "be9e1bc7",
   "metadata": {},
   "outputs": [],
   "source": [
    "from nltk.tokenize import word_tokenize\n",
    "my_text = word_tokenize(my_text)"
   ]
  },
  {
   "cell_type": "markdown",
   "id": "469a60f2",
   "metadata": {},
   "source": [
    "- ngrams functions takes in 2 mandatory parameters 1. text data 2. number of grams(specify as a integer)"
   ]
  },
  {
   "cell_type": "code",
   "execution_count": 128,
   "id": "4bdeb148",
   "metadata": {},
   "outputs": [
    {
     "data": {
      "text/plain": [
       "[('Hari',),\n",
       " ('is',),\n",
       " ('very',),\n",
       " ('good',),\n",
       " ('in',),\n",
       " ('mathematics',),\n",
       " ('but',),\n",
       " ('he',),\n",
       " ('is',),\n",
       " ('not',),\n",
       " ('that',),\n",
       " ('much',),\n",
       " ('good',),\n",
       " ('in',),\n",
       " ('science',)]"
      ]
     },
     "execution_count": 128,
     "metadata": {},
     "output_type": "execute_result"
    }
   ],
   "source": [
    "from nltk.util import ngrams\n",
    "list(ngrams(my_text, 1))"
   ]
  },
  {
   "cell_type": "code",
   "execution_count": 129,
   "id": "0b75aca2",
   "metadata": {},
   "outputs": [
    {
     "data": {
      "text/plain": [
       "[('Hari', 'is'),\n",
       " ('is', 'very'),\n",
       " ('very', 'good'),\n",
       " ('good', 'in'),\n",
       " ('in', 'mathematics'),\n",
       " ('mathematics', 'but'),\n",
       " ('but', 'he'),\n",
       " ('he', 'is'),\n",
       " ('is', 'not'),\n",
       " ('not', 'that'),\n",
       " ('that', 'much'),\n",
       " ('much', 'good'),\n",
       " ('good', 'in'),\n",
       " ('in', 'science')]"
      ]
     },
     "execution_count": 129,
     "metadata": {},
     "output_type": "execute_result"
    }
   ],
   "source": [
    "from nltk.util import ngrams\n",
    "list(ngrams(my_text, 2))"
   ]
  },
  {
   "cell_type": "markdown",
   "id": "a5f777f6",
   "metadata": {},
   "source": [
    "# from nltk.util import ngrams\n",
    "list(ngrams(my_text, 3))"
   ]
  },
  {
   "cell_type": "code",
   "execution_count": 131,
   "id": "35b86ba3",
   "metadata": {},
   "outputs": [
    {
     "data": {
      "text/plain": [
       "[('Hari', 'is', 'very', 'good'),\n",
       " ('is', 'very', 'good', 'in'),\n",
       " ('very', 'good', 'in', 'mathematics'),\n",
       " ('good', 'in', 'mathematics', 'but'),\n",
       " ('in', 'mathematics', 'but', 'he'),\n",
       " ('mathematics', 'but', 'he', 'is'),\n",
       " ('but', 'he', 'is', 'not'),\n",
       " ('he', 'is', 'not', 'that'),\n",
       " ('is', 'not', 'that', 'much'),\n",
       " ('not', 'that', 'much', 'good'),\n",
       " ('that', 'much', 'good', 'in'),\n",
       " ('much', 'good', 'in', 'science')]"
      ]
     },
     "execution_count": 131,
     "metadata": {},
     "output_type": "execute_result"
    }
   ],
   "source": [
    "from nltk.util import ngrams\n",
    "list(ngrams(my_text, 4))"
   ]
  },
  {
   "cell_type": "markdown",
   "id": "cbecbbfb",
   "metadata": {},
   "source": [
    "## Scraping the data from Wikipedia\n",
    "\n",
    "- Steps 1 : Entering the website using python from jupyter notebook\n",
    "- Steps 2 : Get the website content(data) into this jupyter notebook for analysis"
   ]
  },
  {
   "cell_type": "code",
   "execution_count": 134,
   "id": "2ccb6440",
   "metadata": {},
   "outputs": [],
   "source": [
    "from urllib import request"
   ]
  },
  {
   "cell_type": "code",
   "execution_count": 150,
   "id": "aaae5f67",
   "metadata": {},
   "outputs": [
    {
     "data": {
      "text/plain": [
       "<http.client.HTTPResponse at 0x2d3756f8f10>"
      ]
     },
     "execution_count": 150,
     "metadata": {},
     "output_type": "execute_result"
    }
   ],
   "source": [
    "response = request.urlopen('https://www.php.net/')\n",
    "response"
   ]
  },
  {
   "cell_type": "code",
   "execution_count": 151,
   "id": "6c7f40ea",
   "metadata": {},
   "outputs": [
    {
     "data": {
      "text/plain": [
       "b'<!DOCTYPE html>\\n<html xmlns=\"http://www.w3.org/1999/xhtml\" lang=\"en\">\\n<head>\\n\\n  <meta charset=\"utf-8\">\\n  <meta name=\"viewport\" content=\"width=device-width, initial-scale=1.0\">\\n\\n  <title>PHP: Hypertext Preprocessor</title>\\n\\n <link rel=\"icon\" type=\"image/svg+xml\" sizes=\"any\" href=\"https://www.php.net/favicon.svg?v=2\">\\n <link rel=\"icon\" type=\"image/png\" sizes=\"196x196\" href=\"https://www.php.net/favicon-196x196.png?v=2\">\\n <link rel=\"icon\" type=\"image/png\" sizes=\"32x32\" href=\"https://www.php.net/favicon-32x32.png?v=2\">\\n <link rel=\"icon\" type=\"image/png\" sizes=\"16x16\" href=\"https://www.php.net/favicon-16x16.png?v=2\">\\n <link rel=\"shortcut icon\" href=\"https://www.php.net/favicon.ico?v=2\">\\n\\n <link rel=\"search\" type=\"application/opensearchdescription+xml\" href=\"http://php.net/phpnetimprovedsearch.src\" title=\"Add PHP.net search\">\\n <link rel=\"alternate\" type=\"application/atom+xml\" href=\"https://www.php.net/releases/feed.php\" title=\"PHP Release feed\">\\n <link rel=\"alternate\" type=\"application/atom+xml\" href=\"https://www.php.net/feed.atom\" title=\"PHP: Hypertext Preprocessor\">\\n\\n <link rel=\"canonical\" href=\"https://www.php.net/index.php\">\\n <link rel=\"shorturl\" href=\"https://www.php.net/index\">\\n <link rel=\"alternate\" href=\"https://www.php.net/index\" hreflang=\"x-default\">\\n\\n\\n\\n<link rel=\"stylesheet\" type=\"text/css\" href=\"/cached.php?t=1639034403&amp;f=/fonts/Fira/fira.css\" media=\"screen\">\\n<link rel=\"stylesheet\" type=\"text/css\" href=\"/cached.php?t=1539765004&amp;f=/fonts/Font-Awesome/css/fontello.css\" media=\"screen\">\\n<link rel=\"stylesheet\" type=\"text/css\" href=\"/cached.php?t=1676992203&amp;f=/styles/theme-base.css\" media=\"screen\">\\n<link rel=\"stylesheet\" type=\"text/css\" href=\"/cached.php?t=1676992203&amp;f=/styles/theme-medium.css\" media=\"screen\">\\n<link rel=\"stylesheet\" type=\"text/css\" href=\"/cached.php?t=1662054602&amp;f=/styles/home.css\" media=\"screen\">\\n\\n <base href=\"https://www.php.net/index.php\">\\n\\n<meta name=\"Description\" content=\"PHP is a popular general-purpose scripting language that powers everything from your blog to the most popular websites in the world.\" />\\n\\n<meta name=\"twitter:card\" content=\"summary_large_image\" />\\n<meta name=\"twitter:site\" content=\"@official_php\" />\\n<meta name=\"twitter:title\" content=\"PHP: Hypertext Preprocessor\" />\\n<meta name=\"twitter:description\" content=\"PHP is a popular general-purpose scripting language that powers everything from your blog to the most popular websites in the world.\" />\\n<meta name=\"twitter:creator\" content=\"@official_php\" />\\n<meta name=\"twitter:image:src\" content=\"https://www.php.net/images/meta-image.png\" />\\n\\n<meta itemprop=\"name\" content=\"PHP: Hypertext Preprocessor\" />\\n<meta itemprop=\"description\" content=\"PHP is a popular general-purpose scripting language that powers everything from your blog to the most popular websites in the world.\" />\\n<meta itemprop=\"image\" content=\"https://www.php.net/images/meta-image.png\" />\\n\\n<meta property=\"og:image\" content=\"https://www.php.net/images/meta-image.png\" />\\n<meta property=\"og:description\" content=\"PHP is a popular general-purpose scripting language that powers everything from your blog to the most popular websites in the world.\" />\\n</head>\\n<body class=\"home \">\\n\\n<nav id=\"head-nav\" class=\"navbar navbar-fixed-top\">\\n  <div class=\"navbar-inner clearfix\">\\n    <a href=\"/\" class=\"brand\"><img src=\"/images/logos/php-logo.svg\" width=\"48\" height=\"24\" alt=\"php\"></a>\\n    <div id=\"mainmenu-toggle-overlay\"></div>\\n    <input type=\"checkbox\" id=\"mainmenu-toggle\">\\n    <ul class=\"nav\">\\n      <li class=\"\"><a href=\"/downloads\">Downloads</a></li>\\n      <li class=\"\"><a href=\"/docs.php\">Documentation</a></li>\\n      <li class=\"\"><a href=\"/get-involved\" >Get Involved</a></li>\\n      <li class=\"\"><a href=\"/support\">Help</a></li>\\n      <li class=\"\">\\n        <a href=\"/releases/8.2/index.php\">\\n          <img src=\"/images/php8/logo_php8_2.svg\" alt=\"php8.2\" height=\"22\" width=\"60\">\\n        </a>\\n      </li>\\n    </ul>\\n    <form class=\"navbar-search\" id=\"topsearch\" action=\"/search.php\">\\n      <input type=\"hidden\" name=\"show\" value=\"quickref\">\\n      <input type=\"search\" name=\"pattern\" class=\"search-query\" placeholder=\"Search\" accesskey=\"s\">\\n    </form>\\n  </div>\\n  <div id=\"flash-message\"></div>\\n</nav>\\n<nav id=\"trick\"><div><dl>\\n<dt><a href=\\'/manual/en/getting-started.php\\'>Getting Started</a></dt>\\n\\t<dd><a href=\\'/manual/en/introduction.php\\'>Introduction</a></dd>\\n\\t<dd><a href=\\'/manual/en/tutorial.php\\'>A simple tutorial</a></dd>\\n<dt><a href=\\'/manual/en/langref.php\\'>Language Reference</a></dt>\\n\\t<dd><a href=\\'/manual/en/language.basic-syntax.php\\'>Basic syntax</a></dd>\\n\\t<dd><a href=\\'/manual/en/language.types.php\\'>Types</a></dd>\\n\\t<dd><a href=\\'/manual/en/language.variables.php\\'>Variables</a></dd>\\n\\t<dd><a href=\\'/manual/en/language.constants.php\\'>Constants</a></dd>\\n\\t<dd><a href=\\'/manual/en/language.expressions.php\\'>Expressions</a></dd>\\n\\t<dd><a href=\\'/manual/en/language.operators.php\\'>Operators</a></dd>\\n\\t<dd><a href=\\'/manual/en/language.control-structures.php\\'>Control Structures</a></dd>\\n\\t<dd><a href=\\'/manual/en/language.functions.php\\'>Functions</a></dd>\\n\\t<dd><a href=\\'/manual/en/language.oop5.php\\'>Classes and Objects</a></dd>\\n\\t<dd><a href=\\'/manual/en/language.namespaces.php\\'>Namespaces</a></dd>\\n\\t<dd><a href=\\'/manual/en/language.enumerations.php\\'>Enumerations</a></dd>\\n\\t<dd><a href=\\'/manual/en/language.errors.php\\'>Errors</a></dd>\\n\\t<dd><a href=\\'/manual/en/language.exceptions.php\\'>Exceptions</a></dd>\\n\\t<dd><a href=\\'/manual/en/language.fibers.php\\'>Fibers</a></dd>\\n\\t<dd><a href=\\'/manual/en/language.generators.php\\'>Generators</a></dd>\\n\\t<dd><a href=\\'/manual/en/language.attributes.php\\'>Attributes</a></dd>\\n\\t<dd><a href=\\'/manual/en/language.references.php\\'>References Explained</a></dd>\\n\\t<dd><a href=\\'/manual/en/reserved.variables.php\\'>Predefined Variables</a></dd>\\n\\t<dd><a href=\\'/manual/en/reserved.exceptions.php\\'>Predefined Exceptions</a></dd>\\n\\t<dd><a href=\\'/manual/en/reserved.interfaces.php\\'>Predefined Interfaces and Classes</a></dd>\\n\\t<dd><a href=\\'/manual/en/reserved.attributes.php\\'>Predefined Attributes</a></dd>\\n\\t<dd><a href=\\'/manual/en/context.php\\'>Context options and parameters</a></dd>\\n\\t<dd><a href=\\'/manual/en/wrappers.php\\'>Supported Protocols and Wrappers</a></dd>\\n</dl>\\n<dl>\\n<dt><a href=\\'/manual/en/security.php\\'>Security</a></dt>\\n\\t<dd><a href=\\'/manual/en/security.intro.php\\'>Introduction</a></dd>\\n\\t<dd><a href=\\'/manual/en/security.general.php\\'>General considerations</a></dd>\\n\\t<dd><a href=\\'/manual/en/security.cgi-bin.php\\'>Installed as CGI binary</a></dd>\\n\\t<dd><a href=\\'/manual/en/security.apache.php\\'>Installed as an Apache module</a></dd>\\n\\t<dd><a href=\\'/manual/en/security.sessions.php\\'>Session Security</a></dd>\\n\\t<dd><a href=\\'/manual/en/security.filesystem.php\\'>Filesystem Security</a></dd>\\n\\t<dd><a href=\\'/manual/en/security.database.php\\'>Database Security</a></dd>\\n\\t<dd><a href=\\'/manual/en/security.errors.php\\'>Error Reporting</a></dd>\\n\\t<dd><a href=\\'/manual/en/security.variables.php\\'>User Submitted Data</a></dd>\\n\\t<dd><a href=\\'/manual/en/security.hiding.php\\'>Hiding PHP</a></dd>\\n\\t<dd><a href=\\'/manual/en/security.current.php\\'>Keeping Current</a></dd>\\n<dt><a href=\\'/manual/en/features.php\\'>Features</a></dt>\\n\\t<dd><a href=\\'/manual/en/features.http-auth.php\\'>HTTP authentication with PHP</a></dd>\\n\\t<dd><a href=\\'/manual/en/features.cookies.php\\'>Cookies</a></dd>\\n\\t<dd><a href=\\'/manual/en/features.sessions.php\\'>Sessions</a></dd>\\n\\t<dd><a href=\\'/manual/en/features.xforms.php\\'>Dealing with XForms</a></dd>\\n\\t<dd><a href=\\'/manual/en/features.file-upload.php\\'>Handling file uploads</a></dd>\\n\\t<dd><a href=\\'/manual/en/features.remote-files.php\\'>Using remote files</a></dd>\\n\\t<dd><a href=\\'/manual/en/features.connection-handling.php\\'>Connection handling</a></dd>\\n\\t<dd><a href=\\'/manual/en/features.persistent-connections.php\\'>Persistent Database Connections</a></dd>\\n\\t<dd><a href=\\'/manual/en/features.commandline.php\\'>Command line usage</a></dd>\\n\\t<dd><a href=\\'/manual/en/features.gc.php\\'>Garbage Collection</a></dd>\\n\\t<dd><a href=\\'/manual/en/features.dtrace.php\\'>DTrace Dynamic Tracing</a></dd>\\n</dl>\\n<dl>\\n<dt><a href=\\'/manual/en/funcref.php\\'>Function Reference</a></dt>\\n\\t<dd><a href=\\'/manual/en/refs.basic.php.php\\'>Affecting PHP\\'s Behaviour</a></dd>\\n\\t<dd><a href=\\'/manual/en/refs.utilspec.audio.php\\'>Audio Formats Manipulation</a></dd>\\n\\t<dd><a href=\\'/manual/en/refs.remote.auth.php\\'>Authentication Services</a></dd>\\n\\t<dd><a href=\\'/manual/en/refs.utilspec.cmdline.php\\'>Command Line Specific Extensions</a></dd>\\n\\t<dd><a href=\\'/manual/en/refs.compression.php\\'>Compression and Archive Extensions</a></dd>\\n\\t<dd><a href=\\'/manual/en/refs.crypto.php\\'>Cryptography Extensions</a></dd>\\n\\t<dd><a href=\\'/manual/en/refs.database.php\\'>Database Extensions</a></dd>\\n\\t<dd><a href=\\'/manual/en/refs.calendar.php\\'>Date and Time Related Extensions</a></dd>\\n\\t<dd><a href=\\'/manual/en/refs.fileprocess.file.php\\'>File System Related Extensions</a></dd>\\n\\t<dd><a href=\\'/manual/en/refs.international.php\\'>Human Language and Character Encoding Support</a></dd>\\n\\t<dd><a href=\\'/manual/en/refs.utilspec.image.php\\'>Image Processing and Generation</a></dd>\\n\\t<dd><a href=\\'/manual/en/refs.remote.mail.php\\'>Mail Related Extensions</a></dd>\\n\\t<dd><a href=\\'/manual/en/refs.math.php\\'>Mathematical Extensions</a></dd>\\n\\t<dd><a href=\\'/manual/en/refs.utilspec.nontext.php\\'>Non-Text MIME Output</a></dd>\\n\\t<dd><a href=\\'/manual/en/refs.fileprocess.process.php\\'>Process Control Extensions</a></dd>\\n\\t<dd><a href=\\'/manual/en/refs.basic.other.php\\'>Other Basic Extensions</a></dd>\\n\\t<dd><a href=\\'/manual/en/refs.remote.other.php\\'>Other Services</a></dd>\\n\\t<dd><a href=\\'/manual/en/refs.search.php\\'>Search Engine Extensions</a></dd>\\n\\t<dd><a href=\\'/manual/en/refs.utilspec.server.php\\'>Server Specific Extensions</a></dd>\\n\\t<dd><a href=\\'/manual/en/refs.basic.session.php\\'>Session Extensions</a></dd>\\n\\t<dd><a href=\\'/manual/en/refs.basic.text.php\\'>Text Processing</a></dd>\\n\\t<dd><a href=\\'/manual/en/refs.basic.vartype.php\\'>Variable and Type Related Extensions</a></dd>\\n\\t<dd><a href=\\'/manual/en/refs.webservice.php\\'>Web Services</a></dd>\\n\\t<dd><a href=\\'/manual/en/refs.utilspec.windows.php\\'>Windows Only Extensions</a></dd>\\n\\t<dd><a href=\\'/manual/en/refs.xml.php\\'>XML Manipulation</a></dd>\\n\\t<dd><a href=\\'/manual/en/refs.ui.php\\'>GUI Extensions</a></dd>\\n</dl>\\n<dl>\\n<dt>Keyboard Shortcuts</dt><dt>?</dt>\\n<dd>This help</dd>\\n<dt>j</dt>\\n<dd>Next menu item</dd>\\n<dt>k</dt>\\n<dd>Previous menu item</dd>\\n<dt>g p</dt>\\n<dd>Previous man page</dd>\\n<dt>g n</dt>\\n<dd>Next man page</dd>\\n<dt>G</dt>\\n<dd>Scroll to bottom</dd>\\n<dt>g g</dt>\\n<dd>Scroll to top</dd>\\n<dt>g h</dt>\\n<dd>Goto homepage</dd>\\n<dt>g s</dt>\\n<dd>Goto search<br>(current page)</dd>\\n<dt>/</dt>\\n<dd>Focus search box</dd>\\n</dl></div></nav>\\n<div id=\"goto\">\\n    <div class=\"search\">\\n         <div class=\"text\"></div>\\n         <div class=\"results\"><ul></ul></div>\\n   </div>\\n</div>\\n\\n\\n\\n<div id=\"intro\" class=\"clearfix\">\\n  <div class=\"container\">\\n      <div class=\"hero\">\\n    <img class=\"hero-logo\" src=\"/images/logos/php-logo-white.svg\" alt=\"php\" width=\"240\" height=\"120\">\\n    <p class=\"hero-text\">A <strong>popular general-purpose scripting language</strong> that is especially suited to web development.<br />Fast, flexible and pragmatic, PHP powers everything from your blog to the most popular websites in the world.</p>\\n    <div class=\"hero-actions\">\\n      <a href=\"/releases/8.2/index.php\" class=\"hero-btn hero-btn-primary\">What\\'s new in 8.2</a>\\n      <a href=\"/downloads.php\" class=\"hero-btn hero-btn-secondary\">Download</a>\\n    </div><ul class=\\'hero-versions\\'>\\n\\n            <li class=\\'hero-version\\'><a class=\\'hero-version-link\\' href=\\'/downloads.php#v8.2.4\\'>8.2.4</a> &middot; <a class=\\'notes\\' href=\\'/ChangeLog-8.php#8.2.4\\'>Changelog</a> &middot; <a class=\\'notes\\' href=\\'/migration82\\'>Upgrading</a></li>\\n\\n            <li class=\\'hero-version\\'><a class=\\'hero-version-link\\' href=\\'/downloads.php#v8.1.17\\'>8.1.17</a> &middot; <a class=\\'notes\\' href=\\'/ChangeLog-8.php#8.1.17\\'>Changelog</a> &middot; <a class=\\'notes\\' href=\\'/migration81\\'>Upgrading</a></li>\\n\\n            <li class=\\'hero-version\\'><a class=\\'hero-version-link\\' href=\\'/downloads.php#v8.0.28\\'>8.0.28</a> &middot; <a class=\\'notes\\' href=\\'/ChangeLog-8.php#8.0.28\\'>Changelog</a> &middot; <a class=\\'notes\\' href=\\'/migration80\\'>Upgrading</a></li>\\n</ul>\\n  </div>  </div>\\n</div>\\n\\n\\n<div id=\"layout\" class=\"clearfix\">\\n  <section id=\"layout-content\">\\n<div class=\\'home-content\\'><article class=\"newsentry\">\\n  <header class=\"title\">\\n    <time datetime=\"2023-03-16T13:18:09+00:00\">16 Mar 2023</time>\\n    <h2 class=\"newstitle\">\\n      <a href=\"https://www.php.net/archive/2023.php#2023-03-16-2\" id=\"2023-03-16-2\">PHP 8.2.4 Released!</a>\\n    </h2>\\n  </header>\\n  <div class=\"newscontent\">\\n    <div>\\n      <p>The PHP development team announces the immediate availability of PHP 8.2.4. This is a bug fix release.</p>\\n\\n      <p>All PHP 8.2 users are encouraged to upgrade to this version.</p>\\n\\n      <p>\\n        For source downloads of PHP 8.2.4 please visit our <a href=\"https://www.php.net/downloads.php\">downloads page</a>,\\n        Windows source and binaries can be found on <a href=\"https://windows.php.net/download/\"> windows.php.net/download/</a>.\\n        The list of changes is recorded in the <a href=\"https://www.php.net/ChangeLog-8.php#8.2.4\">ChangeLog</a>.\\n      </p>\\n    </div>\\n  \\n  </div>\\n</article><article class=\"newsentry\">\\n  <header class=\"title\">\\n    <time datetime=\"2023-03-16T12:01:57+00:00\">16 Mar 2023</time>\\n    <h2 class=\"newstitle\">\\n      <a href=\"https://www.php.net/archive/2023.php#2023-03-16-1\" id=\"2023-03-16-1\">PHP 8.1.17 Released!</a>\\n    </h2>\\n  </header>\\n  <div class=\"newscontent\">\\n    <div><p>The PHP development team announces the immediate availability of PHP 8.1.17. This is a bug fix release.</p>\\n\\n<p>All PHP 8.1 users are encouraged to upgrade to this version.</p>\\n\\n<p>For source downloads of PHP 8.1.17 please visit our <a href=\"https://www.php.net/downloads.php\">downloads page</a>,\\nWindows source and binaries can be found on <a href=\"https://windows.php.net/download/\">windows.php.net/download/</a>.\\nThe list of changes is recorded in the <a href=\"https://www.php.net/ChangeLog-8.php#8.1.17\">ChangeLog</a>.\\n</p>    </div>\\n  \\n  </div>\\n</article><article class=\"newsentry\">\\n  <header class=\"title\">\\n    <time datetime=\"2023-02-14T17:50:17+00:00\">14 Feb 2023</time>\\n    <h2 class=\"newstitle\">\\n      <a href=\"https://www.php.net/archive/2023.php#2023-02-14-3\" id=\"2023-02-14-3\">PHP 8.1.16 Released!</a>\\n    </h2>\\n  </header>\\n  <div class=\"newscontent\">\\n    <div><p>The PHP development team announces the immediate availability of PHP 8.1.16. This is a security release that addresses CVE-2023-0567, CVE-2023-0568, and CVE-2023-0662.</p>\\n\\n<p>All PHP 8.1 users are advised to upgrade to this version.</p>\\n\\n<p>For source downloads of PHP 8.1.16 please visit our <a href=\"https://www.php.net/downloads.php\">downloads page</a>,\\nWindows source and binaries can be found on <a href=\"https://windows.php.net/download/\">windows.php.net/download/</a>.\\nThe list of changes is recorded in the <a href=\"https://www.php.net/ChangeLog-8.php#8.1.16\">ChangeLog</a>.\\n</p>    </div>\\n  \\n  </div>\\n</article><article class=\"newsentry\">\\n  <header class=\"title\">\\n    <time datetime=\"2023-02-14T15:52:57+00:00\">14 Feb 2023</time>\\n    <h2 class=\"newstitle\">\\n      <a href=\"https://www.php.net/archive/2023.php#2023-02-14-2\" id=\"2023-02-14-2\">PHP 8.2.3 Released!</a>\\n    </h2>\\n  </header>\\n  <div class=\"newscontent\">\\n    <div><p>The PHP development team announces the immediate availability of PHP 8.2.3. This is a security release that addresses CVE-2023-0567, CVE-2023-0568, and CVE-2023-0662.</p>\\n\\n<p>All PHP 8.2 users are advised to upgrade to this version.</p>\\n\\n<p>For source downloads of PHP 8.2.3 please visit our <a href=\"https://www.php.net/downloads.php\">downloads page</a>,\\nWindows source and binaries can be found on <a href=\"https://windows.php.net/download/\">windows.php.net/download/</a>.\\nThe list of changes is recorded in the <a href=\"https://www.php.net/ChangeLog-8.php#8.2.3\">ChangeLog</a>.\\n</p>    </div>\\n  \\n  </div>\\n</article><article class=\"newsentry\">\\n  <header class=\"title\">\\n    <time datetime=\"2023-02-14T14:13:12+00:00\">14 Feb 2023</time>\\n    <h2 class=\"newstitle\">\\n      <a href=\"https://www.php.net/archive/2023.php#2023-02-14-1\" id=\"2023-02-14-1\">PHP 8.0.28 Released!</a>\\n    </h2>\\n  </header>\\n  <div class=\"newscontent\">\\n    <div>\\n<p>The PHP development team announces the immediate availability of PHP 8.0.28. This is a security release\\nthat addresses CVE-2023-0567, CVE-2023-0568, and CVE-2023-0662.\\n</p>\\n\\n<p>All PHP 8.0 users are advised to upgrade to this version.</p>\\n\\n<p>For source downloads of PHP 8.0.28 please visit our <a href=\"https://www.php.net/downloads.php\">downloads page</a>,\\nWindows source and binaries can be found on <a href=\"https://windows.php.net/download/\">windows.php.net/download/</a>.\\nThe list of changes is recorded in the <a href=\"https://www.php.net/ChangeLog-8.php#8.0.28\">ChangeLog</a>.\\n</p>    </div>\\n  \\n  </div>\\n</article><article class=\"newsentry\">\\n  <header class=\"title\">\\n    <time datetime=\"2023-02-02T23:57:50+00:00\">02 Feb 2023</time>\\n    <h2 class=\"newstitle\">\\n      <a href=\"https://www.php.net/archive/2023.php#2023-02-02-2\" id=\"2023-02-02-2\">PHP 8.1.15 Released!</a>\\n    </h2>\\n  </header>\\n  <div class=\"newscontent\">\\n    <div><p>The PHP development team announces the immediate availability of PHP 8.1.15. This is a bug fix release.</p>\\n\\n<p>All PHP 8.1 users are encouraged to upgrade to this version.</p>\\n\\n<p>For source downloads of PHP 8.1.15 please visit our <a href=\"https://www.php.net/downloads.php\">downloads page</a>,\\nWindows source and binaries can be found on <a href=\"https://windows.php.net/download/\">windows.php.net/download/</a>.\\nThe list of changes is recorded in the <a href=\"https://www.php.net/ChangeLog-8.php#8.1.15\">ChangeLog</a>.\\n</p>    </div>\\n  \\n  </div>\\n</article><article class=\"newsentry\">\\n  <header class=\"title\">\\n    <time datetime=\"2023-02-02T14:48:02+00:00\">02 Feb 2023</time>\\n    <h2 class=\"newstitle\">\\n      <a href=\"https://www.php.net/archive/2023.php#2023-02-02-1\" id=\"2023-02-02-1\">PHP 8.2.2 Released!</a>\\n    </h2>\\n  </header>\\n  <div class=\"newscontent\">\\n    <div>\\n      <p>The PHP development team announces the immediate availability of PHP 8.2.2. This is a bug fix release.</p>\\n\\n      <p>All PHP 8.2 users are encouraged to upgrade to this version.</p>\\n\\n      <p>For source downloads of PHP 8.2.2 please visit our <a href=\"https://www.php.net/downloads.php\">downloads page</a>,\\n        Windows source and binaries can be found on <a href=\"https://windows.php.net/download/\">windows.php.net/download/</a>.\\n        The list of changes is recorded in the <a href=\"https://www.php.net/ChangeLog-8.php#8.2.2\">ChangeLog</a>.\\n      </p>\\n    </div>\\n  \\n  </div>\\n</article><article class=\"newsentry\">\\n  <header class=\"title\">\\n    <time datetime=\"2023-01-05T19:00:22+00:00\">05 Jan 2023</time>\\n    <h2 class=\"newstitle\">\\n      <a href=\"https://www.php.net/archive/2023.php#2023-01-05-3\" id=\"2023-01-05-3\">PHP 8.0.27 Released!</a>\\n    </h2>\\n  </header>\\n  <div class=\"newscontent\">\\n    <div><p>The PHP development team announces the immediate availability of PHP 8.0.27. This is a security release.</p>\\n\\n<p>All PHP 8.0 users are encouraged to upgrade to this version.</p>\\n\\n<p>For source downloads of PHP 8.0.27 please visit our <a href=\"https://www.php.net/downloads.php\">downloads page</a>,\\nWindows source and binaries can be found on <a href=\"https://windows.php.net/download/\">windows.php.net/download/</a>.\\nThe list of changes is recorded in the <a href=\"https://www.php.net/ChangeLog-8.php#8.0.27\">ChangeLog</a>.\\n</p>    </div>\\n  \\n  </div>\\n</article><article class=\"newsentry\">\\n  <header class=\"title\">\\n    <time datetime=\"2023-01-05T18:34:21+00:00\">05 Jan 2023</time>\\n    <h2 class=\"newstitle\">\\n      <a href=\"https://www.php.net/archive/2023.php#2023-01-05-2\" id=\"2023-01-05-2\">PHP 8.2.1 Released!</a>\\n    </h2>\\n  </header>\\n  <div class=\"newscontent\">\\n    <div><p>The PHP development team announces the immediate availability of PHP 8.2.1. This is a security release.</p>\\n\\n<p>All PHP 8.2 users are encouraged to upgrade to this version.</p>\\n\\n<p>For source downloads of PHP 8.2.1 please visit our <a href=\"https://www.php.net/downloads.php\">downloads page</a>,\\nWindows source and binaries can be found on <a href=\"https://windows.php.net/download/\">windows.php.net/download/</a>.\\nThe list of changes is recorded in the <a href=\"https://www.php.net/ChangeLog-8.php#8.2.1\">ChangeLog</a>.\\n</p>    </div>\\n  \\n  </div>\\n</article><article class=\"newsentry\">\\n  <header class=\"title\">\\n    <time datetime=\"2023-01-05T17:47:14+00:00\">05 Jan 2023</time>\\n    <h2 class=\"newstitle\">\\n      <a href=\"https://www.php.net/archive/2023.php#2023-01-05-1\" id=\"2023-01-05-1\">PHP 8.1.14 Released!</a>\\n    </h2>\\n  </header>\\n  <div class=\"newscontent\">\\n    <div><p>The PHP development team announces the immediate availability of PHP 8.1.14. This is a security release.</p>\\n\\n<p>All PHP 8.1 users are encouraged to upgrade to this version.</p>\\n\\n<p>For source downloads of PHP 8.1.14 please visit our <a href=\"https://www.php.net/downloads.php\">downloads page</a>,\\nWindows source and binaries can be found on <a href=\"https://windows.php.net/download/\">windows.php.net/download/</a>.\\nThe list of changes is recorded in the <a href=\"https://www.php.net/ChangeLog-8.php#8.1.14\">ChangeLog</a>.\\n</p>    </div>\\n  \\n  </div>\\n</article><article class=\"newsentry\">\\n  <header class=\"title\">\\n    <time datetime=\"2022-12-08T06:26:27+00:00\">08 Dec 2022</time>\\n    <h2 class=\"newstitle\">\\n      <a href=\"https://www.php.net/archive/2022.php#2022-12-08-1\" id=\"2022-12-08-1\">PHP 8.2.0 Released!</a>\\n    </h2>\\n  </header>\\n  <div class=\"newscontent\">\\n    <div>\\n      <p>The PHP development team announces the immediate availability of PHP 8.2.0. This release marks the latest minor release of the PHP language.</p>\\n      <p>PHP 8.2 comes with numerous improvements and new features such as:</p>\\n      <ul>\\n        <li><a href=\"https://www.php.net/manual/en/language.oop5.basic.php#language.oop5.basic.class.readonly\">Readonly classes</a></li>\\n        <li><a href=\"https://www.php.net/manual/en/migration82.new-features.php#migration82.new-features.core.type-system\">Disjunctive Normal Form (DNF) Types</a></li>\\n        <li>New stand-alone types: <a href=\"https://wiki.php.net/rfc/null-false-standalone-types\">null, false</a>, and <a href=\"https://wiki.php.net/rfc/true-type\">true</a></li>\\n        <li><a href=\"https://www.php.net/manual/en/book.random.php\">New \"Random\" extension</a></li>\\n        <li><a href=\"https://www.php.net/manual/en/migration82.new-features.php#migration82.new-features.core.constant-in-traits\">Constants in traits</a></li>\\n        <li><a href=\"https://www.php.net/manual/en/migration82.deprecated.php#migration82.deprecated.core.dynamic-properties\">Deprecate dynamic properties</a></li>\\n        <li>And much much more...</li>\\n      </ul>\\n      <p>\\n        For source downloads of PHP 8.2.0 please visit our <a href=\"https://www.php.net/downloads.php\">downloads page</a>,\\n        Windows source and binaries can be found on <a href=\"https://windows.php.net/download/\">windows.php.net/download/</a>.\\n        The list of changes is recorded in the <a href=\"https://www.php.net/ChangeLog-8.php#8.2.0\">ChangeLog</a>.\\n      </p>\\n      <p>\\n        The <a href=\"https://php.net/manual/en/migration82.php\">migration guide</a> is available in the PHP Manual.\\n        Please consult it for the detailed list of new features and backward incompatible changes.\\n      </p>\\n      <p>Kudos to all the contributors and supporters!</p>\\n    </div>\\n  \\n  </div>\\n</article><article class=\"newsentry\">\\n  <header class=\"title\">\\n    <time datetime=\"2022-11-26T17:48:14+00:00\">26 Nov 2022</time>\\n    <h2 class=\"newstitle\">\\n      <a href=\"https://www.php.net/archive/2022.php#2022-11-26-1\" id=\"2022-11-26-1\">PHP 8.0.26 Released!</a>\\n    </h2>\\n  </header>\\n  <div class=\"newscontent\">\\n    <div><p>The PHP development team announces the immediate availability of PHP 8.0.26. This is a bug fix release.</p>\\n\\n<p>All PHP 8.0 users are encouraged to upgrade to this version.</p>\\n\\n<p>For source downloads of PHP 8.0.26 please visit our <a href=\"https://www.php.net/downloads.php\">downloads page</a>,\\nWindows source and binaries can be found on <a href=\"https://windows.php.net/download/\">windows.php.net/download/</a>.\\nThe list of changes is recorded in the <a href=\"https://www.php.net/ChangeLog-8.php#8.0.26\">ChangeLog</a>.\\n</p>    \\n\\n<p>Please note, this is the last bug-fix release for the 8.0.x series.\\nSecurity fix support will continue until 26 Nov 2023.\\nFor more information, please check our\\n<a href=\"https://www.php.net/supported-versions.php\">Supported Versions</a> page.</p>\\n     </div>\\n  \\n  </div>\\n</article><article class=\"newsentry\">\\n  <header class=\"title\">\\n    <time datetime=\"2022-11-24T15:43:33+00:00\">24 Nov 2022</time>\\n    <h2 class=\"newstitle\">\\n      <a href=\"https://www.php.net/archive/2022.php#2022-11-24-2\" id=\"2022-11-24-2\">PHP 8.2.0 RC7 available for testing</a>\\n    </h2>\\n  </header>\\n  <div class=\"newscontent\">\\n    <div>\\n     <p>\\n      The PHP team is pleased to announce the release of PHP 8.2.0, RC 7.\\n      This is the seventh release candidate, continuing the PHP 8.2\\n      release cycle, the rough outline of which is specified in the\\n      <a href=\"https://wiki.php.net/todo/php82\">PHP Wiki</a>.\\n     </p>\\n     <p>\\n      For source downloads of PHP 8.2.0, RC 7 please visit the\\n      <a href=\"https://downloads.php.net/~pierrick/\">download page</a>.\\n     </p>\\n     <p>\\n      Please carefully test this version and report any issues found in the\\n      <a href=\"https://github.com/php/php-src/issues\">bug reporting system</a>.\\n     </p>\\n     <p><b>Please DO NOT use this version in production, it is an early test version.</b></p>\\n     <p>\\n      For more information on the new features and other changes, you can read the\\n      <a href=\"https://github.com/php/php-src/blob/php-8.2.0RC7/NEWS\">NEWS</a> file\\n      or the <a href=\"https://github.com/php/php-src/blob/php-8.2.0RC7/UPGRADING\">UPGRADING</a>\\n      file for a complete list of upgrading notes. These files can also be\\n      found in the release archive.\\n     </p>\\n     <p>\\n      The next release will be the production-ready, general availability\\n      release, planned for December 8th 2022.\\n     </p>\\n     <p>\\n      The signatures for the release can be found in\\n      <a href=\"https://gist.github.com/adoy/4d1230e5a9afceb95f1fd028b05d1a07\">the manifest</a>\\n       or on <a href=\"https://qa.php.net/\">the QA site</a>.\\n     </p>\\n     <p>Thank you for helping us make PHP better.</p>\\n    </div>\\n  \\n  </div>\\n</article><article class=\"newsentry\">\\n  <header class=\"title\">\\n    <time datetime=\"2022-11-24T14:21:02+00:00\">24 Nov 2022</time>\\n    <h2 class=\"newstitle\">\\n      <a href=\"https://www.php.net/archive/2022.php#2022-11-24-1\" id=\"2022-11-24-1\">PHP 8.1.13 Released!</a>\\n    </h2>\\n  </header>\\n  <div class=\"newscontent\">\\n    <div><p>The PHP development team announces the immediate availability of PHP 8.1.13. This is a bug fix release.</p>\\n\\n<p>All PHP 8.1 users are encouraged to upgrade to this version.</p>\\n\\n<p>For source downloads of PHP 8.1.13 please visit our <a href=\"https://www.php.net/downloads.php\">downloads page</a>,\\nWindows source and binaries can be found on <a href=\"https://windows.php.net/download/\">windows.php.net/download/</a>.\\nThe list of changes is recorded in the <a href=\"https://www.php.net/ChangeLog-8.php#8.1.13\">ChangeLog</a>.\\n</p>    </div>\\n  \\n  </div>\\n</article><article class=\"newsentry\">\\n  <header class=\"title\">\\n    <time datetime=\"2022-11-10T13:30:00+00:00\">10 Nov 2022</time>\\n    <h2 class=\"newstitle\">\\n      <a href=\"https://www.php.net/archive/2022.php#2022-11-10-1\" id=\"2022-11-10-1\">PHP 8.2.0 RC 6 available for testing</a>\\n    </h2>\\n  </header>\\n  <div class=\"newscontent\">\\n    <div>\\n     <p>\\n      The PHP team is pleased to announce the release of PHP 8.2.0, RC 6.\\n      This is the sixth release candidate, continuing the PHP 8.2\\n      release cycle, the rough outline of which is specified in the\\n      <a href=\"https://wiki.php.net/todo/php82\">PHP Wiki</a>.\\n     </p>\\n     <p>\\n      For source downloads of PHP 8.2.0, RC 6 please visit the\\n      <a href=\"https://downloads.php.net/~sergey/\">download page</a>.\\n     </p>\\n     <p>\\n      Please carefully test this version and report any issues found in the\\n      <a href=\"https://github.com/php/php-src/issues\">bug reporting system</a>.\\n     </p>\\n     <p><b>Please DO NOT use this version in production, it is an early test version.</b></p>\\n     <p>\\n      For more information on the new features and other changes, you can read the\\n      <a href=\"https://github.com/php/php-src/blob/php-8.2.0RC6/NEWS\">NEWS</a> file\\n      or the <a href=\"https://github.com/php/php-src/blob/php-8.2.0RC6/UPGRADING\">UPGRADING</a>\\n      file for a complete list of upgrading notes. These files can also be\\n      found in the release archive.\\n     </p>\\n     <p>\\n      The next release will be the seventh release candidate (RC 7), planned for Nov 24th 2022.\\n     </p>\\n     <p>\\n      The signatures for the release can be found in\\n      <a href=\"https://gist.github.com/saundefined/2195c0175f329aaaab302c191c221e13\">the manifest</a>\\n      or on <a href=\"https://qa.php.net/\">the QA site</a>.\\n     </p>\\n     <p>Thank you for helping us make PHP better.</p>\\n    </div>\\n  \\n  </div>\\n</article><article class=\"newsentry\">\\n  <header class=\"title\">\\n    <time datetime=\"2022-11-03T08:28:02+00:00\">03 Nov 2022</time>\\n    <h2 class=\"newstitle\">\\n      <a href=\"https://www.php.net/archive/2022.php#2022-11-03-1\" id=\"2022-11-03-1\">PHP 7.4.33 Released!</a>\\n    </h2>\\n  </header>\\n  <div class=\"newscontent\">\\n    <div><p>The PHP development team announces the immediate availability of PHP 7.4.33.</p>\\n\\n<p>This is security release that fixes an OOB read due to insufficient\\ninput validation in imageloadfont(), and a buffer overflow in\\nhash_update() on long parameter.</p>\\n\\n<p>All PHP 7.4 users are encouraged to upgrade to this version.</p>\\n\\n<p>For source downloads of PHP 7.4.33 please visit our <a href=\"https://www.php.net/downloads.php\">downloads page</a>,\\nWindows source and binaries can be found on <a href=\"https://windows.php.net/download/\">windows.php.net/download/</a>.\\nThe list of changes is recorded in the <a href=\"https://www.php.net/ChangeLog-7.php#7.4.33\">ChangeLog</a>.\\n</p>    </div>\\n  \\n  </div>\\n</article><article class=\"newsentry\">\\n  <header class=\"title\">\\n    <time datetime=\"2022-10-28T14:20:26+00:00\">28 Oct 2022</time>\\n    <h2 class=\"newstitle\">\\n      <a href=\"https://www.php.net/archive/2022.php#2022-10-28-2\" id=\"2022-10-28-2\">PHP 8.1.12 Released!</a>\\n    </h2>\\n  </header>\\n  <div class=\"newscontent\">\\n    <div><p>The PHP development team announces the immediate availability of PHP 8.1.12. This is a security release.</p>\\n\\n<p>All PHP 8.1 users are encouraged to upgrade to this version.</p>\\n\\n<p>For source downloads of PHP 8.1.12 please visit our <a href=\"https://www.php.net/downloads.php\">downloads page</a>,\\nWindows source and binaries can be found on <a href=\"https://windows.php.net/download/\">windows.php.net/download/</a>.\\nThe list of changes is recorded in the <a href=\"https://www.php.net/ChangeLog-8.php#8.1.12\">ChangeLog</a>.\\n</p>    </div>\\n  \\n  </div>\\n</article><article class=\"newsentry\">\\n  <header class=\"title\">\\n    <time datetime=\"2022-10-28T09:40:48+00:00\">28 Oct 2022</time>\\n    <h2 class=\"newstitle\">\\n      <a href=\"https://www.php.net/archive/2022.php#2022-10-28-1\" id=\"2022-10-28-1\">PHP 8.0.25 Released!</a>\\n    </h2>\\n  </header>\\n  <div class=\"newscontent\">\\n    <div><p>The PHP development team announces the immediate availability of PHP 8.0.25. This is a security fix release.</p>\\n\\n<p>All PHP 8.0 users are encouraged to upgrade to this version.</p>\\n\\n<p>For source downloads of PHP 8.0.25 please visit our <a href=\"https://www.php.net/downloads.php\">downloads page</a>,\\nWindows source and binaries can be found on <a href=\"https://windows.php.net/download/\">windows.php.net/download/</a>.\\nThe list of changes is recorded in the <a href=\"https://www.php.net/ChangeLog-8.php#8.0.25\">ChangeLog</a>.\\n</p>    </div>\\n  \\n  </div>\\n</article><article class=\"newsentry\">\\n  <header class=\"title\">\\n    <time datetime=\"2022-10-27T17:48:08+00:00\">27 Oct 2022</time>\\n    <h2 class=\"newstitle\">\\n      <a href=\"https://www.php.net/archive/2022.php#2022-10-27-1\" id=\"2022-10-27-1\">PHP 8.2.0 RC5 available for testing</a>\\n    </h2>\\n  </header>\\n  <div class=\"newscontent\">\\n    <div>\\n     <p>The PHP team is pleased to announce the fifth release candidate of PHP 8.2.0, RC 5. This continues the PHP 8.2 release cycle, the rough outline of which is specified in the <a href=\"https://wiki.php.net/todo/php82\">PHP Wiki</a>.</p>\\n     <p>For source downloads of PHP 8.2.0 RC5 please visit the <a href=\"https://downloads.php.net/~pierrick\">download page</a>.</p>\\n     <p>Please carefully test this version and report any issues found in the <a href=\"https://github.com/php/php-src/issues\">bug reporting system</a>.</p>\\n     <p><strong>Please DO NOT use this version in production, it is an early test version.</strong></p>\\n     <p>For more information on the new features and other changes, you can read the <a href=\"https://github.com/php/php-src/blob/php-8.2.0RC5/NEWS\">NEWS</a> file, or the <a href=\"https://github.com/php/php-src/blob/php-8.2.0RC5/UPGRADING\">UPGRADING</a> file for a complete list of upgrading notes. These files can also be found in the release archive.</p>\\n     <p>The next release will be the sixth release candidate (RC 6), planned for Nov 10th 2022.</p>\\n     <p>The signatures for the release can be found in the <a href=\"https://gist.github.com/adoy/81b78cd31b6e74b6a7ba791f62f726a0\">manifest</a> or on the <a href=\"https://qa.php.net/\">QA site</a>.</p>\\n     <p>Thank you for helping us make PHP better.</p>\\n    </div>\\n  \\n  </div>\\n</article><article class=\"newsentry\">\\n  <header class=\"title\">\\n    <time datetime=\"2022-10-13T09:05:11+00:00\">13 Oct 2022</time>\\n    <h2 class=\"newstitle\">\\n      <a href=\"https://www.php.net/archive/2022.php#2022-10-13-1\" id=\"2022-10-13-1\">PHP 8.2.0 RC 4 available for testing</a>\\n    </h2>\\n  </header>\\n  <div class=\"newscontent\">\\n    <div>\\n     <p>\\n     \\tThe PHP team is pleased to announce the release of PHP 8.2.0, RC 4.\\n     \\tThis is the fourth release candidate, continuing the PHP 8.2 release cycle,\\n     \\tthe rough outline of which is specified in the\\n     \\t<a href=\"https://wiki.php.net/todo/php82\">PHP Wiki</a>.\\n     </p>\\n     <p>\\n     \\tFor source downloads of PHP 8.2.0, RC 4 please visit the\\n     \\t<a href=\"https://downloads.php.net/~sergey/\">download page</a>.\\n     </p>\\n     <p>\\n     \\tPlease carefully test this version and report any issues found in the\\n     \\t<a href=\"https://github.com/php/php-src/issues\">bug reporting system</a>.\\n     </p>\\n     <p><b>Please DO NOT use this version in production, it is an early test version.</b></p>\\n     <p>\\n     \\tFor more information on the new features and other changes, you can read the\\n     \\t<a href=\"https://github.com/php/php-src/blob/php-8.2.0RC4/NEWS\">NEWS</a> file\\n     \\tor the <a href=\"https://github.com/php/php-src/blob/php-8.2.0RC4/UPGRADING\">UPGRADING</a>\\n     \\tfile for a complete list of upgrading notes. These files can also be\\n     \\tfound in the release archive.\\n     </p>\\n     <p>\\n     \\tThe next release will be the fifth release candidate (RC 5), planned\\n     \\tfor 27 October 2022.\\n     </p>\\n     <p>\\n     \\tThe signatures for the release can be found in\\n     \\t<a href=\"https://gist.github.com/saundefined/ce2995354d384b5c8feafd3f246cc3d2\">the manifest</a>\\n     \\tor on <a href=\"https://qa.php.net/\">the QA site</a>.\\n     </p>\\n     <p>Thank you for helping us make PHP better.</p>\\n    </div>\\n  \\n  </div>\\n</article><article class=\"newsentry\">\\n  <header class=\"title\">\\n    <time datetime=\"2022-09-30T03:13:42+00:00\">30 Sep 2022</time>\\n    <h2 class=\"newstitle\">\\n      <a href=\"https://www.php.net/archive/2022.php#2022-09-30-1\" id=\"2022-09-30-1\">PHP 8.0.24 Released!</a>\\n    </h2>\\n  </header>\\n  <div class=\"newscontent\">\\n    <div><p>The PHP development team announces the immediate availability of PHP 8.0.24. This is a security release.</p>\\n\\n<p>All PHP 8.0 users are encouraged to upgrade to this version.</p>\\n\\n<p>For source downloads of PHP 8.0.24 please visit our <a href=\"https://www.php.net/downloads.php\">downloads page</a>,\\nWindows source and binaries can be found on <a href=\"https://windows.php.net/download/\">windows.php.net/download/</a>.\\nThe list of changes is recorded in the <a href=\"https://www.php.net/ChangeLog-8.php#8.0.24\">ChangeLog</a>.\\n</p>    </div>\\n  \\n  </div>\\n</article><article class=\"newsentry\">\\n  <header class=\"title\">\\n    <time datetime=\"2022-09-29T17:26:40+00:00\">29 Sep 2022</time>\\n    <h2 class=\"newstitle\">\\n      <a href=\"https://www.php.net/archive/2022.php#2022-09-29-3\" id=\"2022-09-29-3\">PHP 8.2.0 RC3 available for testing</a>\\n    </h2>\\n  </header>\\n  <div class=\"newscontent\">\\n    <div>\\n     <p>The PHP team is pleased to announce the third release candidate of PHP 8.2.0, RC 3. This continues the PHP 8.2 release cycle, the rough outline of which is specified in the <a href=\"https://wiki.php.net/todo/php82\">PHP Wiki</a>.</p>\\n     <p>For source downloads of PHP 8.2.0 RC3 please visit the <a href=\"https://downloads.php.net/~pierrick\">download page</a>.</p>\\n     <p>Please carefully test this version and report any issues found in the <a href=\"https://github.com/php/php-src/issues\">bug reporting system</a>.</p>\\n     <p><strong>Please DO NOT use this version in production, it is an early test version.</strong></p>\\n     <p>For more information on the new features and other changes, you can read the <a href=\"https://github.com/php/php-src/blob/php-8.2.0RC3/NEWS\">NEWS</a> file, or the <a href=\"https://github.com/php/php-src/blob/php-8.2.0RC3/UPGRADING\">UPGRADING</a> file for a complete list of upgrading notes. These files can also be found in the release archive.</p>\\n     <p>The next release will be the fourth release candidate (RC 4), planned for Oct 13th 2022.</p>\\n     <p>The signatures for the release can be found in the <a href=\"https://gist.github.com/adoy/d1e85cad30593765c73042f4616b2ee9\">manifest</a> or on the <a href=\"https://qa.php.net/\">QA site</a>.</p>\\n     <p>Thank you for helping us make PHP better.</p>\\n    </div>\\n  \\n  </div>\\n</article><article class=\"newsentry\">\\n  <header class=\"title\">\\n    <time datetime=\"2022-09-29T15:28:59+00:00\">29 Sep 2022</time>\\n    <h2 class=\"newstitle\">\\n      <a href=\"https://www.php.net/archive/2022.php#2022-09-29-2\" id=\"2022-09-29-2\">PHP 8.1.11 Released!</a>\\n    </h2>\\n  </header>\\n  <div class=\"newscontent\">\\n    <div><p>The PHP development team announces the immediate availability of PHP 8.1.11. This is a security release.</p>\\n\\n<p>All PHP 8.1 users are encouraged to upgrade to this version.</p>\\n\\n<p>For source downloads of PHP 8.1.11 please visit our <a href=\"https://www.php.net/downloads.php\">downloads page</a>,\\nWindows source and binaries can be found on <a href=\"https://windows.php.net/download/\">windows.php.net/download/</a>.\\nThe list of changes is recorded in the <a href=\"https://www.php.net/ChangeLog-8.php#8.1.11\">ChangeLog</a>.\\n</p>    </div>\\n  \\n  </div>\\n</article><article class=\"newsentry\">\\n  <header class=\"title\">\\n    <time datetime=\"2022-09-29T09:39:00+00:00\">29 Sep 2022</time>\\n    <h2 class=\"newstitle\">\\n      <a href=\"https://www.php.net/archive/2022.php#2022-09-29-1\" id=\"2022-09-29-1\">PHP 7.4.32 Released!</a>\\n    </h2>\\n  </header>\\n  <div class=\"newscontent\">\\n    <div><p>The PHP development team announces the immediate availability of PHP 7.4.32. This is a security release.</p>\\n\\n<p>This release addresses an infinite recursion with specially\\nconstructed phar files, and prevents a clash with variable name mangling for\\nthe __Host/__Secure HTTP headers.</p>\\n\\n<p>All PHP 7.4 users are encouraged to upgrade to this version.</p>\\n\\n<p>For source downloads of PHP 7.4.32 please visit our <a href=\"https://www.php.net/downloads.php\">downloads page</a>,\\nWindows source and binaries can be found on <a href=\"https://windows.php.net/download/\">windows.php.net/download/</a>.\\nThe list of changes is recorded in the <a href=\"https://www.php.net/ChangeLog-7.php#7.4.32\">ChangeLog</a>.\\n</p>    </div>\\n  \\n  </div>\\n</article><article class=\"newsentry\">\\n  <header class=\"title\">\\n    <time datetime=\"2022-09-15T07:15:53+00:00\">15 Sep 2022</time>\\n    <h2 class=\"newstitle\">\\n      <a href=\"https://www.php.net/archive/2022.php#2022-09-15-1\" id=\"2022-09-15-1\">PHP 8.2.0 RC2 available for testing</a>\\n    </h2>\\n  </header>\\n  <div class=\"newscontent\">\\n    <div>\\n      <p>\\n        The PHP team is pleased to announce the release of PHP 8.2.0, RC 2.\\n        This is the second release candidate, continuing the PHP 8.2 release cycle,\\n        the rough outline of which is specified in the\\n        <a href=\"https://wiki.php.net/todo/php82\">PHP Wiki</a>.\\n      </p>\\n      <p>\\n        For source downloads of PHP 8.2.0, RC 2 please visit the\\n        <a href=\"https://downloads.php.net/~sergey/\">download page</a>.\\n      </p>\\n      <p>\\n        Please carefully test this version and report any issues found in the\\n        <a href=\"https://github.com/php/php-src/issues\">bug reporting system</a>.\\n      </p>\\n      <p>\\n        <b>Please DO NOT use this version in production, it is an early test version.</b>\\n      </p>\\n      <p>\\n        For more information on the new features and other changes, you can read the\\n        <a href=\"https://github.com/php/php-src/blob/php-8.2.0RC2/NEWS\">NEWS</a>\\n        file\\n        or the\\n        <a href=\"https://github.com/php/php-src/blob/php-8.2.0RC2/UPGRADING\">UPGRADING</a>\\n        file for a complete list of upgrading notes. These files can also be\\n        found in the release archive.\\n      </p>\\n      <p>\\n        The next release will be the third release candidate (RC 3), planned\\n        for 29 September 2022.\\n      </p>\\n      <p>\\n        The signatures for the release can be found in\\n        <a href=\"https://gist.github.com/saundefined/d86e6eeab140eaf90f6924fe1343ee92\">the manifest</a>\\n        or on <a href=\"https://qa.php.net/\">the QA site</a>.\\n      </p>\\n      <p>Thank you for helping us make PHP better.</p>\\n    </div>\\n  \\n  </div>\\n</article><p class=\"archive\"><a href=\"/archive/\">Older News Entries</a></p></div>    </section><!-- layout-content -->\\n    \\n<aside class=\"tips\">\\n    <div class=\"inner\">\\n<div class=\"panel\">  <a href=\"/conferences\" class=\"headline\" title=\"Upcoming conferences\">Upcoming conferences</a><div class=\"body\"><ul><li><a href=\\'https://www.php.net/conferences/index.php#id2023-02-15-3\\' title=\\'SymfonyCon Brussels 2023\\'>SymfonyCon Brussels 2023</a></li><li><a href=\\'https://www.php.net/conferences/index.php#id2023-02-15-2\\' title=\\'SymfonyOnline June 2023\\'>SymfonyOnline June 2023</a></li><li><a href=\\'https://www.php.net/conferences/index.php#2022-12-06-1\\' title=\\'International PHP Conference Berlin 2023\\'>International PHP Conference Berlin 2023</a></li><li><a href=\\'https://www.php.net/conferences/index.php#2022-10-19-2\\' title=\\'php[tek] 2023 - Chicago, IL\\'>php[tek] 2023 - Chicago, IL</a></li></ul></div></div>\\n    <p class=\\'panel\\'><a href=\\'/cal.php\\'>User Group Events</a></p>\\n    <p class=\\'panel\\'><a href=\\'/thanks.php\\'>Special Thanks</a></p>\\n    <div class=\\'panel social-media\\'>\\n      <span class=\\'headline\\'>Social media</span>\\n      <div class=\\'body\\'>\\n        <ul>\\n          <li>\\n            <a href=\"https://twitter.com/official_php\">\\n              <i class=\"icon-twitter\"></i>\\n              @official_php\\n            </a>\\n          </li>\\n        </ul>\\n      </div>\\n    </div>\\n</div>\\n</aside>\\n\\n  </div><!-- layout -->\\n\\n  <footer>\\n    <div class=\"container footer-content\">\\n      <div class=\"row-fluid\">\\n      <ul class=\"footmenu\">\\n        <li><a href=\"/copyright.php\">Copyright &copy; 2001-2023 The PHP Group</a></li>\\n        <li><a href=\"/my.php\">My PHP.net</a></li>\\n        <li><a href=\"/contact.php\">Contact</a></li>\\n        <li><a href=\"/sites.php\">Other PHP.net sites</a></li>\\n        <li><a href=\"/privacy.php\">Privacy policy</a></li>\\n        <li><a href=\"https://github.com/php/web-php/blob/master/index.php\">View Source</a></li>\\n      </ul>\\n      </div>\\n    </div>\\n  </footer>\\n\\n    <div class=\\'elephpants\\'><div class=images></div></div>\\n <!-- External and third party libraries. -->\\n <script src=\"https://code.jquery.com/jquery-3.6.0.min.js\" integrity=\"sha256-/xUj+3OJU5yExlq6GSYGSHk7tPXikynS7ogEvDej/m4=\" crossorigin=\"anonymous\"></script>\\n<script src=\"/cached.php?t=1657730402&amp;f=/js/ext/hogan-3.0.2.min.js\"></script>\\n<script src=\"/cached.php?t=1421837618&amp;f=/js/ext/typeahead.min.js\"></script>\\n<script src=\"/cached.php?t=1657876202&amp;f=/js/ext/mousetrap.min.js\"></script>\\n<script src=\"/cached.php?t=1657730402&amp;f=/js/ext/jquery.scrollTo.min.js\"></script>\\n<script src=\"/cached.php?t=1653918602&amp;f=/js/search.js\"></script>\\n<script src=\"/cached.php?t=1671018002&amp;f=/js/common.js\"></script>\\n\\n<a id=\"toTop\" href=\"javascript:;\"><span id=\"toTopHover\"></span><img width=\"40\" height=\"40\" alt=\"To Top\" src=\"/images/to-top@2x.png\"></a>\\n\\n</body>\\n</html>\\n'"
      ]
     },
     "execution_count": 151,
     "metadata": {},
     "output_type": "execute_result"
    }
   ],
   "source": [
    "html = response.read()\n",
    "html"
   ]
  },
  {
   "cell_type": "code",
   "execution_count": 153,
   "id": "b7eb7e61",
   "metadata": {},
   "outputs": [
    {
     "name": "stdout",
     "output_type": "stream",
     "text": [
      "PHP: Hypertext PreprocessorDownloadsDocumentationGet InvolvedHelpGetting StartedIntroductionA simple tutorialLanguage ReferenceBasic syntaxTypesVariablesConstantsExpressionsOperatorsControl StructuresFunctionsClasses and ObjectsNamespacesEnumerationsErrorsExceptionsFibersGeneratorsAttributesReferences ExplainedPredefined VariablesPredefined ExceptionsPredefined Interfaces and ClassesPredefined AttributesContext options and parametersSupported Protocols and WrappersSecurityIntroductionGeneral considerationsInstalled as CGI binaryInstalled as an Apache moduleSession SecurityFilesystem SecurityDatabase SecurityError ReportingUser Submitted DataHiding PHPKeeping CurrentFeaturesHTTP authentication with PHPCookiesSessionsDealing with XFormsHandling file uploadsUsing remote filesConnection handlingPersistent Database ConnectionsCommand line usageGarbage CollectionDTrace Dynamic TracingFunction ReferenceAffecting PHP's BehaviourAudio Formats ManipulationAuthentication ServicesCommand Line Specific ExtensionsCompression and Archive ExtensionsCryptography ExtensionsDatabase ExtensionsDate and Time Related ExtensionsFile System Related ExtensionsHuman Language and Character Encoding SupportImage Processing and GenerationMail Related ExtensionsMathematical ExtensionsNon-Text MIME OutputProcess Control ExtensionsOther Basic ExtensionsOther ServicesSearch Engine ExtensionsServer Specific ExtensionsSession ExtensionsText ProcessingVariable and Type Related ExtensionsWeb ServicesWindows Only ExtensionsXML ManipulationGUI ExtensionsKeyboard Shortcuts?This helpjNext menu itemkPrevious menu itemg pPrevious man pageg nNext man pageGScroll to bottomg gScroll to topg hGoto homepageg sGoto search(current page)/Focus search boxApopular general-purpose scripting languagethat is especially suited to web development.Fast, flexible and pragmatic, PHP powers everything from your blog to the most popular websites in the world.What's new in 8.2Download8.2.4·Changelog·Upgrading8.1.17·Changelog·Upgrading8.0.28·Changelog·Upgrading16 Mar 2023PHP 8.2.4 Released!The PHP development team announces the immediate availability of PHP 8.2.4. This is a bug fix release.All PHP 8.2 users are encouraged to upgrade to this version.For source downloads of PHP 8.2.4 please visit ourdownloads page,\n",
      "        Windows source and binaries can be found onwindows.php.net/download/.\n",
      "        The list of changes is recorded in theChangeLog.16 Mar 2023PHP 8.1.17 Released!The PHP development team announces the immediate availability of PHP 8.1.17. This is a bug fix release.All PHP 8.1 users are encouraged to upgrade to this version.For source downloads of PHP 8.1.17 please visit ourdownloads page,\n",
      "Windows source and binaries can be found onwindows.php.net/download/.\n",
      "The list of changes is recorded in theChangeLog.14 Feb 2023PHP 8.1.16 Released!The PHP development team announces the immediate availability of PHP 8.1.16. This is a security release that addresses CVE-2023-0567, CVE-2023-0568, and CVE-2023-0662.All PHP 8.1 users are advised to upgrade to this version.For source downloads of PHP 8.1.16 please visit ourdownloads page,\n",
      "Windows source and binaries can be found onwindows.php.net/download/.\n",
      "The list of changes is recorded in theChangeLog.14 Feb 2023PHP 8.2.3 Released!The PHP development team announces the immediate availability of PHP 8.2.3. This is a security release that addresses CVE-2023-0567, CVE-2023-0568, and CVE-2023-0662.All PHP 8.2 users are advised to upgrade to this version.For source downloads of PHP 8.2.3 please visit ourdownloads page,\n",
      "Windows source and binaries can be found onwindows.php.net/download/.\n",
      "The list of changes is recorded in theChangeLog.14 Feb 2023PHP 8.0.28 Released!The PHP development team announces the immediate availability of PHP 8.0.28. This is a security release\n",
      "that addresses CVE-2023-0567, CVE-2023-0568, and CVE-2023-0662.All PHP 8.0 users are advised to upgrade to this version.For source downloads of PHP 8.0.28 please visit ourdownloads page,\n",
      "Windows source and binaries can be found onwindows.php.net/download/.\n",
      "The list of changes is recorded in theChangeLog.02 Feb 2023PHP 8.1.15 Released!The PHP development team announces the immediate availability of PHP 8.1.15. This is a bug fix release.All PHP 8.1 users are encouraged to upgrade to this version.For source downloads of PHP 8.1.15 please visit ourdownloads page,\n",
      "Windows source and binaries can be found onwindows.php.net/download/.\n",
      "The list of changes is recorded in theChangeLog.02 Feb 2023PHP 8.2.2 Released!The PHP development team announces the immediate availability of PHP 8.2.2. This is a bug fix release.All PHP 8.2 users are encouraged to upgrade to this version.For source downloads of PHP 8.2.2 please visit ourdownloads page,\n",
      "        Windows source and binaries can be found onwindows.php.net/download/.\n",
      "        The list of changes is recorded in theChangeLog.05 Jan 2023PHP 8.0.27 Released!The PHP development team announces the immediate availability of PHP 8.0.27. This is a security release.All PHP 8.0 users are encouraged to upgrade to this version.For source downloads of PHP 8.0.27 please visit ourdownloads page,\n",
      "Windows source and binaries can be found onwindows.php.net/download/.\n",
      "The list of changes is recorded in theChangeLog.05 Jan 2023PHP 8.2.1 Released!The PHP development team announces the immediate availability of PHP 8.2.1. This is a security release.All PHP 8.2 users are encouraged to upgrade to this version.For source downloads of PHP 8.2.1 please visit ourdownloads page,\n",
      "Windows source and binaries can be found onwindows.php.net/download/.\n",
      "The list of changes is recorded in theChangeLog.05 Jan 2023PHP 8.1.14 Released!The PHP development team announces the immediate availability of PHP 8.1.14. This is a security release.All PHP 8.1 users are encouraged to upgrade to this version.For source downloads of PHP 8.1.14 please visit ourdownloads page,\n",
      "Windows source and binaries can be found onwindows.php.net/download/.\n",
      "The list of changes is recorded in theChangeLog.08 Dec 2022PHP 8.2.0 Released!The PHP development team announces the immediate availability of PHP 8.2.0. This release marks the latest minor release of the PHP language.PHP 8.2 comes with numerous improvements and new features such as:Readonly classesDisjunctive Normal Form (DNF) TypesNew stand-alone types:null, false, andtrueNew \"Random\" extensionConstants in traitsDeprecate dynamic propertiesAnd much much more...For source downloads of PHP 8.2.0 please visit ourdownloads page,\n",
      "        Windows source and binaries can be found onwindows.php.net/download/.\n",
      "        The list of changes is recorded in theChangeLog.Themigration guideis available in the PHP Manual.\n",
      "        Please consult it for the detailed list of new features and backward incompatible changes.Kudos to all the contributors and supporters!26 Nov 2022PHP 8.0.26 Released!The PHP development team announces the immediate availability of PHP 8.0.26. This is a bug fix release.All PHP 8.0 users are encouraged to upgrade to this version.For source downloads of PHP 8.0.26 please visit ourdownloads page,\n",
      "Windows source and binaries can be found onwindows.php.net/download/.\n",
      "The list of changes is recorded in theChangeLog.Please note, this is the last bug-fix release for the 8.0.x series.\n",
      "Security fix support will continue until 26 Nov 2023.\n",
      "For more information, please check ourSupported Versionspage.24 Nov 2022PHP 8.2.0 RC7 available for testingThe PHP team is pleased to announce the release of PHP 8.2.0, RC 7.\n",
      "      This is the seventh release candidate, continuing the PHP 8.2\n",
      "      release cycle, the rough outline of which is specified in thePHP Wiki.For source downloads of PHP 8.2.0, RC 7 please visit thedownload page.Please carefully test this version and report any issues found in thebug reporting system.Please DO NOT use this version in production, it is an early test version.For more information on the new features and other changes, you can read theNEWSfile\n",
      "      or theUPGRADINGfile for a complete list of upgrading notes. These files can also be\n",
      "      found in the release archive.The next release will be the production-ready, general availability\n",
      "      release, planned for December 8th 2022.The signatures for the release can be found inthe manifestor onthe QA site.Thank you for helping us make PHP better.24 Nov 2022PHP 8.1.13 Released!The PHP development team announces the immediate availability of PHP 8.1.13. This is a bug fix release.All PHP 8.1 users are encouraged to upgrade to this version.For source downloads of PHP 8.1.13 please visit ourdownloads page,\n",
      "Windows source and binaries can be found onwindows.php.net/download/.\n",
      "The list of changes is recorded in theChangeLog.10 Nov 2022PHP 8.2.0 RC 6 available for testingThe PHP team is pleased to announce the release of PHP 8.2.0, RC 6.\n",
      "      This is the sixth release candidate, continuing the PHP 8.2\n",
      "      release cycle, the rough outline of which is specified in thePHP Wiki.For source downloads of PHP 8.2.0, RC 6 please visit thedownload page.Please carefully test this version and report any issues found in thebug reporting system.Please DO NOT use this version in production, it is an early test version.For more information on the new features and other changes, you can read theNEWSfile\n",
      "      or theUPGRADINGfile for a complete list of upgrading notes. These files can also be\n",
      "      found in the release archive.The next release will be the seventh release candidate (RC 7), planned for Nov 24th 2022.The signatures for the release can be found inthe manifestor onthe QA site.Thank you for helping us make PHP better.03 Nov 2022PHP 7.4.33 Released!The PHP development team announces the immediate availability of PHP 7.4.33.This is security release that fixes an OOB read due to insufficient\n",
      "input validation in imageloadfont(), and a buffer overflow in\n",
      "hash_update() on long parameter.All PHP 7.4 users are encouraged to upgrade to this version.For source downloads of PHP 7.4.33 please visit ourdownloads page,\n",
      "Windows source and binaries can be found onwindows.php.net/download/.\n",
      "The list of changes is recorded in theChangeLog.28 Oct 2022PHP 8.1.12 Released!The PHP development team announces the immediate availability of PHP 8.1.12. This is a security release.All PHP 8.1 users are encouraged to upgrade to this version.For source downloads of PHP 8.1.12 please visit ourdownloads page,\n",
      "Windows source and binaries can be found onwindows.php.net/download/.\n",
      "The list of changes is recorded in theChangeLog.28 Oct 2022PHP 8.0.25 Released!The PHP development team announces the immediate availability of PHP 8.0.25. This is a security fix release.All PHP 8.0 users are encouraged to upgrade to this version.For source downloads of PHP 8.0.25 please visit ourdownloads page,\n",
      "Windows source and binaries can be found onwindows.php.net/download/.\n",
      "The list of changes is recorded in theChangeLog.27 Oct 2022PHP 8.2.0 RC5 available for testingThe PHP team is pleased to announce the fifth release candidate of PHP 8.2.0, RC 5. This continues the PHP 8.2 release cycle, the rough outline of which is specified in thePHP Wiki.For source downloads of PHP 8.2.0 RC5 please visit thedownload page.Please carefully test this version and report any issues found in thebug reporting system.Please DO NOT use this version in production, it is an early test version.For more information on the new features and other changes, you can read theNEWSfile, or theUPGRADINGfile for a complete list of upgrading notes. These files can also be found in the release archive.The next release will be the sixth release candidate (RC 6), planned for Nov 10th 2022.The signatures for the release can be found in themanifestor on theQA site.Thank you for helping us make PHP better.13 Oct 2022PHP 8.2.0 RC 4 available for testingThe PHP team is pleased to announce the release of PHP 8.2.0, RC 4.\n",
      "     \tThis is the fourth release candidate, continuing the PHP 8.2 release cycle,\n",
      "     \tthe rough outline of which is specified in thePHP Wiki.For source downloads of PHP 8.2.0, RC 4 please visit thedownload page.Please carefully test this version and report any issues found in thebug reporting system.Please DO NOT use this version in production, it is an early test version.For more information on the new features and other changes, you can read theNEWSfile\n",
      "     \tor theUPGRADINGfile for a complete list of upgrading notes. These files can also be\n",
      "     \tfound in the release archive.The next release will be the fifth release candidate (RC 5), planned\n",
      "     \tfor 27 October 2022.The signatures for the release can be found inthe manifestor onthe QA site.Thank you for helping us make PHP better.30 Sep 2022PHP 8.0.24 Released!The PHP development team announces the immediate availability of PHP 8.0.24. This is a security release.All PHP 8.0 users are encouraged to upgrade to this version.For source downloads of PHP 8.0.24 please visit ourdownloads page,\n",
      "Windows source and binaries can be found onwindows.php.net/download/.\n",
      "The list of changes is recorded in theChangeLog.29 Sep 2022PHP 8.2.0 RC3 available for testingThe PHP team is pleased to announce the third release candidate of PHP 8.2.0, RC 3. This continues the PHP 8.2 release cycle, the rough outline of which is specified in thePHP Wiki.For source downloads of PHP 8.2.0 RC3 please visit thedownload page.Please carefully test this version and report any issues found in thebug reporting system.Please DO NOT use this version in production, it is an early test version.For more information on the new features and other changes, you can read theNEWSfile, or theUPGRADINGfile for a complete list of upgrading notes. These files can also be found in the release archive.The next release will be the fourth release candidate (RC 4), planned for Oct 13th 2022.The signatures for the release can be found in themanifestor on theQA site.Thank you for helping us make PHP better.29 Sep 2022PHP 8.1.11 Released!The PHP development team announces the immediate availability of PHP 8.1.11. This is a security release.All PHP 8.1 users are encouraged to upgrade to this version.For source downloads of PHP 8.1.11 please visit ourdownloads page,\n",
      "Windows source and binaries can be found onwindows.php.net/download/.\n",
      "The list of changes is recorded in theChangeLog.29 Sep 2022PHP 7.4.32 Released!The PHP development team announces the immediate availability of PHP 7.4.32. This is a security release.This release addresses an infinite recursion with specially\n",
      "constructed phar files, and prevents a clash with variable name mangling for\n",
      "the __Host/__Secure HTTP headers.All PHP 7.4 users are encouraged to upgrade to this version.For source downloads of PHP 7.4.32 please visit ourdownloads page,\n",
      "Windows source and binaries can be found onwindows.php.net/download/.\n",
      "The list of changes is recorded in theChangeLog.15 Sep 2022PHP 8.2.0 RC2 available for testingThe PHP team is pleased to announce the release of PHP 8.2.0, RC 2.\n",
      "        This is the second release candidate, continuing the PHP 8.2 release cycle,\n",
      "        the rough outline of which is specified in thePHP Wiki.For source downloads of PHP 8.2.0, RC 2 please visit thedownload page.Please carefully test this version and report any issues found in thebug reporting system.Please DO NOT use this version in production, it is an early test version.For more information on the new features and other changes, you can read theNEWSfile\n",
      "        or theUPGRADINGfile for a complete list of upgrading notes. These files can also be\n",
      "        found in the release archive.The next release will be the third release candidate (RC 3), planned\n",
      "        for 29 September 2022.The signatures for the release can be found inthe manifestor onthe QA site.Thank you for helping us make PHP better.Older News EntriesUpcoming conferencesSymfonyCon Brussels 2023SymfonyOnline June 2023International PHP Conference Berlin 2023php[tek] 2023 - Chicago, ILUser Group EventsSpecial ThanksSocial media@official_phpCopyright © 2001-2023 The PHP GroupMy PHP.netContactOther PHP.net sitesPrivacy policyView Source\n"
     ]
    }
   ],
   "source": [
    "from bs4 import BeautifulSoup\n",
    "soup = BeautifulSoup(html, 'html5lib')\n",
    "text = soup.get_text(strip = True)\n",
    "print(text)"
   ]
  },
  {
   "cell_type": "code",
   "execution_count": 154,
   "id": "78e6d594",
   "metadata": {},
   "outputs": [
    {
     "name": "stdout",
     "output_type": "stream",
     "text": [
      "\n",
      "<html><head><title>The NLP story</title></head>\n",
      "<body>\n",
      "<p class=\"title\"><b>The NLP story</b></p>\n",
      "<p class=\"story\">Once upon a time there were three little  techniques; and their names were\n",
      "<a href=\"http://example.com/elsie\" class=\"sister\" id=\"link1\">Elsie</a>,\n",
      "<a href=\"http://example.com/lacie\" class=\"sister\" id=\"link2\">Lacie</a> and\n",
      "<a href=\"http://example.com/tillie\" class=\"sister\" id=\"link3\">Tillie</a>;\n",
      "and they lived till the next conference.</p>\n",
      "<p class=\"story\">...</p>\n",
      "\n"
     ]
    }
   ],
   "source": [
    "text = \"\"\"\n",
    "<html><head><title>The NLP story</title></head>\n",
    "<body>\n",
    "<p class=\"title\"><b>The NLP story</b></p>\n",
    "<p class=\"story\">Once upon a time there were three little  techniques; and their names were\n",
    "<a href=\"http://example.com/elsie\" class=\"sister\" id=\"link1\">Elsie</a>,\n",
    "<a href=\"http://example.com/lacie\" class=\"sister\" id=\"link2\">Lacie</a> and\n",
    "<a href=\"http://example.com/tillie\" class=\"sister\" id=\"link3\">Tillie</a>;\n",
    "and they lived till the next conference.</p>\n",
    "<p class=\"story\">...</p>\n",
    "\"\"\"\n",
    "\n",
    "print(text)"
   ]
  },
  {
   "cell_type": "code",
   "execution_count": 156,
   "id": "9b5baba3",
   "metadata": {},
   "outputs": [
    {
     "name": "stdout",
     "output_type": "stream",
     "text": [
      "The NLP story\n",
      "\n",
      "The NLP story\n",
      "Once upon a time there were three little  techniques; and their names were\n",
      "Elsie,\n",
      "Lacie and\n",
      "Tillie;\n",
      "and they lived till the next conference.\n",
      "...\n",
      "\n"
     ]
    }
   ],
   "source": [
    "from bs4 import BeautifulSoup\n",
    "text = BeautifulSoup(text, \"html\").text# for HTML decoding\n",
    "print(text)"
   ]
  },
  {
   "cell_type": "markdown",
   "id": "772df21b",
   "metadata": {},
   "source": [
    "## Removing the urls"
   ]
  },
  {
   "cell_type": "code",
   "execution_count": 157,
   "id": "08c97e9c",
   "metadata": {},
   "outputs": [
    {
     "data": {
      "text/plain": [
       "'Shall i search the answer on www.google.com ?'"
      ]
     },
     "execution_count": 157,
     "metadata": {},
     "output_type": "execute_result"
    }
   ],
   "source": [
    "text = 'Shall i search the answer on www.google.com ?'\n",
    "text"
   ]
  },
  {
   "cell_type": "code",
   "execution_count": 158,
   "id": "9bfc4d57",
   "metadata": {},
   "outputs": [
    {
     "data": {
      "text/plain": [
       "'Shall i search the answer on  ?'"
      ]
     },
     "execution_count": 158,
     "metadata": {},
     "output_type": "execute_result"
    }
   ],
   "source": [
    "import re\n",
    "re.sub(r'https?://\\S+|www\\.\\S+', \"\", text)"
   ]
  },
  {
   "cell_type": "code",
   "execution_count": null,
   "id": "6a3ff1e9",
   "metadata": {},
   "outputs": [],
   "source": []
  }
 ],
 "metadata": {
  "kernelspec": {
   "display_name": "Python 3 (ipykernel)",
   "language": "python",
   "name": "python3"
  },
  "language_info": {
   "codemirror_mode": {
    "name": "ipython",
    "version": 3
   },
   "file_extension": ".py",
   "mimetype": "text/x-python",
   "name": "python",
   "nbconvert_exporter": "python",
   "pygments_lexer": "ipython3",
   "version": "3.9.16"
  }
 },
 "nbformat": 4,
 "nbformat_minor": 5
}
