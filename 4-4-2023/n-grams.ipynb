{
 "cells": [
  {
   "cell_type": "code",
   "execution_count": 21,
   "id": "c4aadd14",
   "metadata": {},
   "outputs": [],
   "source": [
    "import nltk\n",
    "from nltk.util import ngrams"
   ]
  },
  {
   "cell_type": "markdown",
   "id": "b11e4122",
   "metadata": {},
   "source": [
    "- n-grams means sequence of n - words  \n",
    "N-grams are continuous sequences of words or symbols, or tokens in a document.   \n",
    "In technical terms, they can be defined as the neighboring sequences of items in a document.   \n",
    "They come into play when we deal with text data in NLP (Natural Language Processing) tasks.  \n",
    "They have a wide range of applications, like language models, semantic features, spelling correction, machine translation, text mining, etc"
   ]
  },
  {
   "cell_type": "code",
   "execution_count": 7,
   "id": "36192149",
   "metadata": {},
   "outputs": [],
   "source": [
    "My_text = 'Jack is very good in mathematics but he is not that much good in science'"
   ]
  },
  {
   "cell_type": "code",
   "execution_count": 14,
   "id": "79e785e5",
   "metadata": {},
   "outputs": [
    {
     "data": {
      "text/plain": [
       "<zip at 0x246c4e356c0>"
      ]
     },
     "execution_count": 14,
     "metadata": {},
     "output_type": "execute_result"
    }
   ],
   "source": [
    "n_grams = ngrams(nltk.word_tokenize(My_text),1)\n",
    "n_grams"
   ]
  },
  {
   "cell_type": "code",
   "execution_count": 15,
   "id": "144a5630",
   "metadata": {},
   "outputs": [
    {
     "data": {
      "text/plain": [
       "['Jack',\n",
       " 'is',\n",
       " 'very',\n",
       " 'good',\n",
       " 'in',\n",
       " 'mathematics',\n",
       " 'but',\n",
       " 'he',\n",
       " 'is',\n",
       " 'not',\n",
       " 'that',\n",
       " 'much',\n",
       " 'good',\n",
       " 'in',\n",
       " 'science']"
      ]
     },
     "execution_count": 15,
     "metadata": {},
     "output_type": "execute_result"
    }
   ],
   "source": [
    "[ ' '.join(grams) for grams in n_grams]"
   ]
  },
  {
   "cell_type": "code",
   "execution_count": 16,
   "id": "09df3c41",
   "metadata": {},
   "outputs": [
    {
     "data": {
      "text/plain": [
       "['Jack is',\n",
       " 'is very',\n",
       " 'very good',\n",
       " 'good in',\n",
       " 'in mathematics',\n",
       " 'mathematics but',\n",
       " 'but he',\n",
       " 'he is',\n",
       " 'is not',\n",
       " 'not that',\n",
       " 'that much',\n",
       " 'much good',\n",
       " 'good in',\n",
       " 'in science']"
      ]
     },
     "execution_count": 16,
     "metadata": {},
     "output_type": "execute_result"
    }
   ],
   "source": [
    "n_grams = ngrams(nltk.word_tokenize(My_text),2)\n",
    "[ ' '.join(grams) for grams in n_grams]"
   ]
  },
  {
   "cell_type": "code",
   "execution_count": 17,
   "id": "fa06e0df",
   "metadata": {},
   "outputs": [
    {
     "data": {
      "text/plain": [
       "['Jack is very',\n",
       " 'is very good',\n",
       " 'very good in',\n",
       " 'good in mathematics',\n",
       " 'in mathematics but',\n",
       " 'mathematics but he',\n",
       " 'but he is',\n",
       " 'he is not',\n",
       " 'is not that',\n",
       " 'not that much',\n",
       " 'that much good',\n",
       " 'much good in',\n",
       " 'good in science']"
      ]
     },
     "execution_count": 17,
     "metadata": {},
     "output_type": "execute_result"
    }
   ],
   "source": [
    "n_grams = ngrams(nltk.word_tokenize(My_text),3)\n",
    "[ ' '.join(grams) for grams in n_grams]"
   ]
  },
  {
   "cell_type": "code",
   "execution_count": 23,
   "id": "185cf57e",
   "metadata": {},
   "outputs": [
    {
     "data": {
      "text/plain": [
       "[('J', 'a'),\n",
       " ('a', 'c'),\n",
       " ('c', 'k'),\n",
       " ('k', ' '),\n",
       " (' ', 'i'),\n",
       " ('i', 's'),\n",
       " ('s', ' '),\n",
       " (' ', 'v'),\n",
       " ('v', 'e'),\n",
       " ('e', 'r'),\n",
       " ('r', 'y'),\n",
       " ('y', ' '),\n",
       " (' ', 'g'),\n",
       " ('g', 'o'),\n",
       " ('o', 'o'),\n",
       " ('o', 'd'),\n",
       " ('d', ' '),\n",
       " (' ', 'i'),\n",
       " ('i', 'n'),\n",
       " ('n', ' '),\n",
       " (' ', 'm'),\n",
       " ('m', 'a'),\n",
       " ('a', 't'),\n",
       " ('t', 'h'),\n",
       " ('h', 'e'),\n",
       " ('e', 'm'),\n",
       " ('m', 'a'),\n",
       " ('a', 't'),\n",
       " ('t', 'i'),\n",
       " ('i', 'c'),\n",
       " ('c', 's'),\n",
       " ('s', ' '),\n",
       " (' ', 'b'),\n",
       " ('b', 'u'),\n",
       " ('u', 't'),\n",
       " ('t', ' '),\n",
       " (' ', 'h'),\n",
       " ('h', 'e'),\n",
       " ('e', ' '),\n",
       " (' ', 'i'),\n",
       " ('i', 's'),\n",
       " ('s', ' '),\n",
       " (' ', 'n'),\n",
       " ('n', 'o'),\n",
       " ('o', 't'),\n",
       " ('t', ' '),\n",
       " (' ', 't'),\n",
       " ('t', 'h'),\n",
       " ('h', 'a'),\n",
       " ('a', 't'),\n",
       " ('t', ' '),\n",
       " (' ', 'm'),\n",
       " ('m', 'u'),\n",
       " ('u', 'c'),\n",
       " ('c', 'h'),\n",
       " ('h', ' '),\n",
       " (' ', 'g'),\n",
       " ('g', 'o'),\n",
       " ('o', 'o'),\n",
       " ('o', 'd'),\n",
       " ('d', ' '),\n",
       " (' ', 'i'),\n",
       " ('i', 'n'),\n",
       " ('n', ' '),\n",
       " (' ', 's'),\n",
       " ('s', 'c'),\n",
       " ('c', 'i'),\n",
       " ('i', 'e'),\n",
       " ('e', 'n'),\n",
       " ('n', 'c'),\n",
       " ('c', 'e')]"
      ]
     },
     "execution_count": 23,
     "metadata": {},
     "output_type": "execute_result"
    }
   ],
   "source": [
    "from nltk.util import bigrams\n",
    "list(bigrams(My_text))"
   ]
  },
  {
   "cell_type": "code",
   "execution_count": null,
   "id": "18e1f39d",
   "metadata": {},
   "outputs": [],
   "source": []
  }
 ],
 "metadata": {
  "kernelspec": {
   "display_name": "Python 3 (ipykernel)",
   "language": "python",
   "name": "python3"
  },
  "language_info": {
   "codemirror_mode": {
    "name": "ipython",
    "version": 3
   },
   "file_extension": ".py",
   "mimetype": "text/x-python",
   "name": "python",
   "nbconvert_exporter": "python",
   "pygments_lexer": "ipython3",
   "version": "3.9.16"
  }
 },
 "nbformat": 4,
 "nbformat_minor": 5
}
