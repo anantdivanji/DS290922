{
 "cells": [
  {
   "cell_type": "markdown",
   "id": "395470b0",
   "metadata": {},
   "source": [
    "## Loading the standard libraries"
   ]
  },
  {
   "cell_type": "markdown",
   "id": "f37631c4",
   "metadata": {},
   "source": [
    "## Loading the dataset"
   ]
  },
  {
   "cell_type": "markdown",
   "id": "9dfd46ec",
   "metadata": {},
   "source": [
    "## Create the pipelines for Numerical data\n",
    "- Steps\n",
    "    1. Missing value \n",
    "    2. Scaling"
   ]
  },
  {
   "cell_type": "markdown",
   "id": "d1beaee1",
   "metadata": {},
   "source": [
    "### Import the libraries for the steps"
   ]
  },
  {
   "cell_type": "code",
   "execution_count": 4,
   "id": "b9d5312f",
   "metadata": {},
   "outputs": [],
   "source": [
    "from sklearn.impute import SimpleImputer\n",
    "sim_imp = SimpleImputer(strategy = 'median')"
   ]
  },
  {
   "cell_type": "code",
   "execution_count": 5,
   "id": "57cf9a75",
   "metadata": {},
   "outputs": [],
   "source": [
    "from sklearn.preprocessing import StandardScaler\n",
    "ss = StandardScaler()"
   ]
  },
  {
   "cell_type": "markdown",
   "id": "498e6b1c",
   "metadata": {},
   "source": [
    "## Specify the steps"
   ]
  },
  {
   "cell_type": "code",
   "execution_count": 6,
   "id": "f83ecc2c",
   "metadata": {},
   "outputs": [],
   "source": [
    "steps = [('imputer', sim_imp), ('Scaler', ss)]"
   ]
  },
  {
   "cell_type": "markdown",
   "id": "c3dd8bc6",
   "metadata": {},
   "source": [
    "## Create a pipeline"
   ]
  },
  {
   "cell_type": "code",
   "execution_count": 7,
   "id": "a37fcc81",
   "metadata": {},
   "outputs": [],
   "source": [
    "from sklearn.pipeline import Pipeline\n",
    "pipe_num = Pipeline(steps)"
   ]
  },
  {
   "cell_type": "markdown",
   "id": "06a9cbec",
   "metadata": {},
   "source": [
    "## Creating pipeline for Categorical data\n",
    "- Steps\n",
    "    1. Missing Value Treatment\n",
    "    2. One Hot Encoding"
   ]
  },
  {
   "cell_type": "markdown",
   "id": "66012b0a",
   "metadata": {},
   "source": [
    "## Import the libraries for steps"
   ]
  },
  {
   "cell_type": "code",
   "execution_count": 8,
   "id": "36cc8739",
   "metadata": {},
   "outputs": [],
   "source": [
    "from sklearn.impute import SimpleImputer\n",
    "imp_cat = SimpleImputer(strategy = 'most_frequent')"
   ]
  },
  {
   "cell_type": "code",
   "execution_count": 9,
   "id": "5ce76497",
   "metadata": {},
   "outputs": [],
   "source": [
    "from sklearn.preprocessing import OneHotEncoder\n",
    "ohe = OneHotEncoder()"
   ]
  },
  {
   "cell_type": "markdown",
   "id": "a1af0e49",
   "metadata": {},
   "source": [
    "## specify the steps"
   ]
  },
  {
   "cell_type": "code",
   "execution_count": 10,
   "id": "85a2cd79",
   "metadata": {},
   "outputs": [],
   "source": [
    "steps = [('Cat_imputer',imp_cat), (\"Encoder\",ohe)]"
   ]
  },
  {
   "cell_type": "markdown",
   "id": "d849eef9",
   "metadata": {},
   "source": [
    "## Create a pipeline"
   ]
  },
  {
   "cell_type": "code",
   "execution_count": 11,
   "id": "2eb02f7d",
   "metadata": {},
   "outputs": [],
   "source": [
    "from sklearn.pipeline import Pipeline\n",
    "pipe_cat = Pipeline(steps)"
   ]
  },
  {
   "cell_type": "markdown",
   "id": "b163432b",
   "metadata": {},
   "source": [
    "# Column Transformation"
   ]
  },
  {
   "cell_type": "markdown",
   "id": "0e22fdcf",
   "metadata": {},
   "source": [
    "## Step 1: Specify your num and cat columns"
   ]
  },
  {
   "cell_type": "markdown",
   "id": "e294dfbc",
   "metadata": {},
   "source": [
    "## Step 2 : perform Column Transformation"
   ]
  },
  {
   "cell_type": "code",
   "execution_count": 15,
   "id": "147b6a8e",
   "metadata": {},
   "outputs": [],
   "source": [
    "from sklearn.compose import ColumnTransformer\n",
    "\n",
    "full_pipeline = ColumnTransformer([('num_transform', pipe_num, num_features), \n",
    "                   ('cat_transform', pipe_cat, cat_features)])"
   ]
  },
  {
   "cell_type": "markdown",
   "id": "f2111eda",
   "metadata": {},
   "source": [
    "## Step 3 : Fit the full_pipeline on the data"
   ]
  },
  {
   "cell_type": "code",
   "execution_count": null,
   "id": "2b717762",
   "metadata": {},
   "outputs": [],
   "source": []
  }
 ],
 "metadata": {
  "kernelspec": {
   "display_name": "Python 3 (ipykernel)",
   "language": "python",
   "name": "python3"
  },
  "language_info": {
   "codemirror_mode": {
    "name": "ipython",
    "version": 3
   },
   "file_extension": ".py",
   "mimetype": "text/x-python",
   "name": "python",
   "nbconvert_exporter": "python",
   "pygments_lexer": "ipython3",
   "version": "3.9.12"
  }
 },
 "nbformat": 4,
 "nbformat_minor": 5
}
