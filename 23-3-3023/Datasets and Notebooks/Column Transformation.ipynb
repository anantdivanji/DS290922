{
 "cells": [
  {
   "cell_type": "markdown",
   "id": "395470b0",
   "metadata": {},
   "source": [
    "## Loading the standard libraries"
   ]
  },
  {
   "cell_type": "code",
   "execution_count": 1,
   "id": "b5d768f4",
   "metadata": {},
   "outputs": [],
   "source": [
    "import pandas as pd\n",
    "import numpy as np\n",
    "import matplotlib.pyplot as plt\n",
    "import seaborn as sns\n",
    "import warnings\n",
    "warnings.filterwarnings('ignore')"
   ]
  },
  {
   "cell_type": "markdown",
   "id": "f37631c4",
   "metadata": {},
   "source": [
    "## Loading the dataset"
   ]
  },
  {
   "cell_type": "code",
   "execution_count": 13,
   "id": "03ca4e7b",
   "metadata": {},
   "outputs": [
    {
     "data": {
      "text/html": [
       "<div>\n",
       "<style scoped>\n",
       "    .dataframe tbody tr th:only-of-type {\n",
       "        vertical-align: middle;\n",
       "    }\n",
       "\n",
       "    .dataframe tbody tr th {\n",
       "        vertical-align: top;\n",
       "    }\n",
       "\n",
       "    .dataframe thead th {\n",
       "        text-align: right;\n",
       "    }\n",
       "</style>\n",
       "<table border=\"1\" class=\"dataframe\">\n",
       "  <thead>\n",
       "    <tr style=\"text-align: right;\">\n",
       "      <th></th>\n",
       "      <th>Survived</th>\n",
       "      <th>Sex</th>\n",
       "      <th>Age</th>\n",
       "      <th>Fare</th>\n",
       "      <th>Embarked</th>\n",
       "    </tr>\n",
       "  </thead>\n",
       "  <tbody>\n",
       "    <tr>\n",
       "      <th>0</th>\n",
       "      <td>0</td>\n",
       "      <td>male</td>\n",
       "      <td>22.0</td>\n",
       "      <td>7.2500</td>\n",
       "      <td>S</td>\n",
       "    </tr>\n",
       "    <tr>\n",
       "      <th>1</th>\n",
       "      <td>1</td>\n",
       "      <td>female</td>\n",
       "      <td>38.0</td>\n",
       "      <td>71.2833</td>\n",
       "      <td>C</td>\n",
       "    </tr>\n",
       "    <tr>\n",
       "      <th>2</th>\n",
       "      <td>1</td>\n",
       "      <td>female</td>\n",
       "      <td>26.0</td>\n",
       "      <td>7.9250</td>\n",
       "      <td>S</td>\n",
       "    </tr>\n",
       "    <tr>\n",
       "      <th>3</th>\n",
       "      <td>1</td>\n",
       "      <td>female</td>\n",
       "      <td>35.0</td>\n",
       "      <td>53.1000</td>\n",
       "      <td>S</td>\n",
       "    </tr>\n",
       "    <tr>\n",
       "      <th>4</th>\n",
       "      <td>0</td>\n",
       "      <td>male</td>\n",
       "      <td>35.0</td>\n",
       "      <td>8.0500</td>\n",
       "      <td>S</td>\n",
       "    </tr>\n",
       "  </tbody>\n",
       "</table>\n",
       "</div>"
      ],
      "text/plain": [
       "   Survived     Sex   Age     Fare Embarked\n",
       "0         0    male  22.0   7.2500        S\n",
       "1         1  female  38.0  71.2833        C\n",
       "2         1  female  26.0   7.9250        S\n",
       "3         1  female  35.0  53.1000        S\n",
       "4         0    male  35.0   8.0500        S"
      ]
     },
     "execution_count": 13,
     "metadata": {},
     "output_type": "execute_result"
    }
   ],
   "source": [
    "data = pd.read_csv('train.csv', usecols = ['Sex', 'Age', 'Fare', 'Embarked', 'Survived'])\n",
    "data.head()"
   ]
  },
  {
   "cell_type": "markdown",
   "id": "9dfd46ec",
   "metadata": {},
   "source": [
    "## Create the pipelines for Numerical data\n",
    "- Steps\n",
    "    1. Missing value \n",
    "    2. Scaling"
   ]
  },
  {
   "cell_type": "markdown",
   "id": "d1beaee1",
   "metadata": {},
   "source": [
    "### Import the libraries for the steps"
   ]
  },
  {
   "cell_type": "code",
   "execution_count": 4,
   "id": "b9d5312f",
   "metadata": {},
   "outputs": [],
   "source": [
    "from sklearn.impute import SimpleImputer\n",
    "sim_imp = SimpleImputer(strategy = 'median')"
   ]
  },
  {
   "cell_type": "code",
   "execution_count": 5,
   "id": "57cf9a75",
   "metadata": {},
   "outputs": [],
   "source": [
    "from sklearn.preprocessing import StandardScaler\n",
    "ss = StandardScaler()"
   ]
  },
  {
   "cell_type": "markdown",
   "id": "498e6b1c",
   "metadata": {},
   "source": [
    "## Specify the steps"
   ]
  },
  {
   "cell_type": "code",
   "execution_count": 6,
   "id": "f83ecc2c",
   "metadata": {},
   "outputs": [],
   "source": [
    "steps = [('imputer', sim_imp), ('Scaler', ss)]"
   ]
  },
  {
   "cell_type": "markdown",
   "id": "c3dd8bc6",
   "metadata": {},
   "source": [
    "## Create a pipeline"
   ]
  },
  {
   "cell_type": "code",
   "execution_count": 7,
   "id": "a37fcc81",
   "metadata": {},
   "outputs": [],
   "source": [
    "from sklearn.pipeline import Pipeline\n",
    "pipe_num = Pipeline(steps)"
   ]
  },
  {
   "cell_type": "markdown",
   "id": "06a9cbec",
   "metadata": {},
   "source": [
    "## Creating pipeline for Categorical data\n",
    "- Steps\n",
    "    1. Missing Value Treatment\n",
    "    2. One Hot Encoding"
   ]
  },
  {
   "cell_type": "markdown",
   "id": "66012b0a",
   "metadata": {},
   "source": [
    "## Import the libraries for steps"
   ]
  },
  {
   "cell_type": "code",
   "execution_count": 8,
   "id": "36cc8739",
   "metadata": {},
   "outputs": [],
   "source": [
    "from sklearn.impute import SimpleImputer\n",
    "imp_cat = SimpleImputer(strategy = 'most_frequent')"
   ]
  },
  {
   "cell_type": "code",
   "execution_count": 9,
   "id": "5ce76497",
   "metadata": {},
   "outputs": [],
   "source": [
    "from sklearn.preprocessing import OneHotEncoder\n",
    "ohe = OneHotEncoder()"
   ]
  },
  {
   "cell_type": "markdown",
   "id": "a1af0e49",
   "metadata": {},
   "source": [
    "## specify the steps"
   ]
  },
  {
   "cell_type": "code",
   "execution_count": 10,
   "id": "85a2cd79",
   "metadata": {},
   "outputs": [],
   "source": [
    "steps = [('Cat_imputer',imp_cat), (\"Encoder\",ohe)]"
   ]
  },
  {
   "cell_type": "markdown",
   "id": "d849eef9",
   "metadata": {},
   "source": [
    "## Create a pipeline"
   ]
  },
  {
   "cell_type": "code",
   "execution_count": 11,
   "id": "2eb02f7d",
   "metadata": {},
   "outputs": [],
   "source": [
    "from sklearn.pipeline import Pipeline\n",
    "pipe_cat = Pipeline(steps)"
   ]
  },
  {
   "cell_type": "markdown",
   "id": "b163432b",
   "metadata": {},
   "source": [
    "# Column Transformation"
   ]
  },
  {
   "cell_type": "markdown",
   "id": "0e22fdcf",
   "metadata": {},
   "source": [
    "## Step 1: Specify your num and cat columns"
   ]
  },
  {
   "cell_type": "code",
   "execution_count": 14,
   "id": "c47f348e",
   "metadata": {},
   "outputs": [
    {
     "data": {
      "text/plain": [
       "['Age', 'Fare', 'Sex', 'Embarked']"
      ]
     },
     "execution_count": 14,
     "metadata": {},
     "output_type": "execute_result"
    }
   ],
   "source": [
    "num_features = ['Age', 'Fare']\n",
    "cat_features = ['Sex', 'Embarked']\n",
    "all_features = num_features + cat_features\n",
    "all_features"
   ]
  },
  {
   "cell_type": "markdown",
   "id": "e294dfbc",
   "metadata": {},
   "source": [
    "## Step 2 : perform Column Transformation"
   ]
  },
  {
   "cell_type": "code",
   "execution_count": 15,
   "id": "147b6a8e",
   "metadata": {},
   "outputs": [],
   "source": [
    "from sklearn.compose import ColumnTransformer\n",
    "\n",
    "full_pipeline = ColumnTransformer([('num_transform', pipe_num, num_features), \n",
    "                   ('cat_transform', pipe_cat, cat_features)])"
   ]
  },
  {
   "cell_type": "markdown",
   "id": "f2111eda",
   "metadata": {},
   "source": [
    "## Step 3 : Fit the full_pipeline on the data"
   ]
  },
  {
   "cell_type": "code",
   "execution_count": 16,
   "id": "7a5b9447",
   "metadata": {},
   "outputs": [
    {
     "data": {
      "text/plain": [
       "array([[-0.56573646, -0.50244517,  0.        , ...,  0.        ,\n",
       "         0.        ,  1.        ],\n",
       "       [ 0.66386103,  0.78684529,  1.        , ...,  1.        ,\n",
       "         0.        ,  0.        ],\n",
       "       [-0.25833709, -0.48885426,  1.        , ...,  0.        ,\n",
       "         0.        ,  1.        ],\n",
       "       ...,\n",
       "       [-0.1046374 , -0.17626324,  1.        , ...,  0.        ,\n",
       "         0.        ,  1.        ],\n",
       "       [-0.25833709, -0.04438104,  0.        , ...,  1.        ,\n",
       "         0.        ,  0.        ],\n",
       "       [ 0.20276197, -0.49237783,  0.        , ...,  0.        ,\n",
       "         1.        ,  0.        ]])"
      ]
     },
     "execution_count": 16,
     "metadata": {},
     "output_type": "execute_result"
    }
   ],
   "source": [
    "full_pipeline.fit_transform(data)"
   ]
  },
  {
   "cell_type": "code",
   "execution_count": 18,
   "id": "4b3a26e1",
   "metadata": {},
   "outputs": [
    {
     "data": {
      "text/html": [
       "<div>\n",
       "<style scoped>\n",
       "    .dataframe tbody tr th:only-of-type {\n",
       "        vertical-align: middle;\n",
       "    }\n",
       "\n",
       "    .dataframe tbody tr th {\n",
       "        vertical-align: top;\n",
       "    }\n",
       "\n",
       "    .dataframe thead th {\n",
       "        text-align: right;\n",
       "    }\n",
       "</style>\n",
       "<table border=\"1\" class=\"dataframe\">\n",
       "  <thead>\n",
       "    <tr style=\"text-align: right;\">\n",
       "      <th></th>\n",
       "      <th>Sex</th>\n",
       "      <th>Age</th>\n",
       "      <th>Fare</th>\n",
       "      <th>Embarked</th>\n",
       "    </tr>\n",
       "  </thead>\n",
       "  <tbody>\n",
       "    <tr>\n",
       "      <th>0</th>\n",
       "      <td>male</td>\n",
       "      <td>34.5</td>\n",
       "      <td>7.8292</td>\n",
       "      <td>Q</td>\n",
       "    </tr>\n",
       "    <tr>\n",
       "      <th>1</th>\n",
       "      <td>female</td>\n",
       "      <td>47.0</td>\n",
       "      <td>7.0000</td>\n",
       "      <td>S</td>\n",
       "    </tr>\n",
       "    <tr>\n",
       "      <th>2</th>\n",
       "      <td>male</td>\n",
       "      <td>62.0</td>\n",
       "      <td>9.6875</td>\n",
       "      <td>Q</td>\n",
       "    </tr>\n",
       "    <tr>\n",
       "      <th>3</th>\n",
       "      <td>male</td>\n",
       "      <td>27.0</td>\n",
       "      <td>8.6625</td>\n",
       "      <td>S</td>\n",
       "    </tr>\n",
       "    <tr>\n",
       "      <th>4</th>\n",
       "      <td>female</td>\n",
       "      <td>22.0</td>\n",
       "      <td>12.2875</td>\n",
       "      <td>S</td>\n",
       "    </tr>\n",
       "  </tbody>\n",
       "</table>\n",
       "</div>"
      ],
      "text/plain": [
       "      Sex   Age     Fare Embarked\n",
       "0    male  34.5   7.8292        Q\n",
       "1  female  47.0   7.0000        S\n",
       "2    male  62.0   9.6875        Q\n",
       "3    male  27.0   8.6625        S\n",
       "4  female  22.0  12.2875        S"
      ]
     },
     "execution_count": 18,
     "metadata": {},
     "output_type": "execute_result"
    }
   ],
   "source": [
    "data_test = pd.read_csv('test.csv', usecols = ['Sex', 'Age', 'Fare', 'Embarked'])\n",
    "data_test.head()"
   ]
  },
  {
   "cell_type": "code",
   "execution_count": 19,
   "id": "944ae3cb",
   "metadata": {},
   "outputs": [
    {
     "data": {
      "text/plain": [
       "array([[ 0.38623105, -0.49741333,  0.        , ...,  0.        ,\n",
       "         1.        ,  0.        ],\n",
       "       [ 1.37137004, -0.51227801,  1.        , ...,  0.        ,\n",
       "         0.        ,  1.        ],\n",
       "       [ 2.55353683, -0.46410047,  0.        , ...,  0.        ,\n",
       "         1.        ,  0.        ],\n",
       "       ...,\n",
       "       [ 0.70147553, -0.50779638,  0.        , ...,  0.        ,\n",
       "         0.        ,  1.        ],\n",
       "       [-0.20485235, -0.49345515,  0.        , ...,  0.        ,\n",
       "         0.        ,  1.        ],\n",
       "       [-0.20485235, -0.23695704,  0.        , ...,  1.        ,\n",
       "         0.        ,  0.        ]])"
      ]
     },
     "execution_count": 19,
     "metadata": {},
     "output_type": "execute_result"
    }
   ],
   "source": [
    "full_pipeline.fit_transform(data_test)"
   ]
  },
  {
   "cell_type": "markdown",
   "id": "86d5cde6",
   "metadata": {},
   "source": [
    "- Conclusion :\n",
    "1. Using pipelines and Column Transformers we automated all the preprocessing steps.\n",
    "2. Using this automated steps entire data preprocessing is done at once"
   ]
  },
  {
   "cell_type": "code",
   "execution_count": null,
   "id": "2b717762",
   "metadata": {},
   "outputs": [],
   "source": []
  }
 ],
 "metadata": {
  "kernelspec": {
   "display_name": "Python 3 (ipykernel)",
   "language": "python",
   "name": "python3"
  },
  "language_info": {
   "codemirror_mode": {
    "name": "ipython",
    "version": 3
   },
   "file_extension": ".py",
   "mimetype": "text/x-python",
   "name": "python",
   "nbconvert_exporter": "python",
   "pygments_lexer": "ipython3",
   "version": "3.9.12"
  }
 },
 "nbformat": 4,
 "nbformat_minor": 5
}
