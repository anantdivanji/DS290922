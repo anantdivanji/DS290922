{
 "cells": [
  {
   "cell_type": "markdown",
   "id": "96f885ab",
   "metadata": {},
   "source": [
    "## Step 1 : Loading the necessary libraries"
   ]
  },
  {
   "cell_type": "markdown",
   "id": "b503524c",
   "metadata": {},
   "source": [
    "## Step 2 : Loading the data "
   ]
  },
  {
   "cell_type": "markdown",
   "id": "db84c244",
   "metadata": {},
   "source": [
    "## Step 3 : Linear Relationship Check"
   ]
  },
  {
   "cell_type": "markdown",
   "id": "01b4c737",
   "metadata": {},
   "source": [
    "## Step 4: Correlation Check"
   ]
  },
  {
   "cell_type": "markdown",
   "id": "cfe66b5e",
   "metadata": {},
   "source": [
    "## Step 5 : Seperate the dependent and Independent variable"
   ]
  },
  {
   "cell_type": "markdown",
   "id": "c0beb88e",
   "metadata": {},
   "source": [
    "## Step 6 : Split the data into train test split"
   ]
  },
  {
   "cell_type": "markdown",
   "id": "adf19f12",
   "metadata": {},
   "source": [
    "## Step 7 : Fit the Linear Regression Model on X_train and y_train"
   ]
  },
  {
   "cell_type": "markdown",
   "id": "5fbbb84f",
   "metadata": {},
   "source": [
    "## Step 8 : Do the prediction on the X_test data "
   ]
  },
  {
   "cell_type": "markdown",
   "id": "c0ad8e80",
   "metadata": {},
   "source": [
    "## Step 9 : Check the intercept and the slope of the model"
   ]
  },
  {
   "cell_type": "markdown",
   "id": "2e2b1996",
   "metadata": {},
   "source": [
    "## Step 10 : Performance Check"
   ]
  }
 ],
 "metadata": {
  "kernelspec": {
   "display_name": "Python 3 (ipykernel)",
   "language": "python",
   "name": "python3"
  },
  "language_info": {
   "codemirror_mode": {
    "name": "ipython",
    "version": 3
   },
   "file_extension": ".py",
   "mimetype": "text/x-python",
   "name": "python",
   "nbconvert_exporter": "python",
   "pygments_lexer": "ipython3",
   "version": "3.9.12"
  }
 },
 "nbformat": 4,
 "nbformat_minor": 5
}
