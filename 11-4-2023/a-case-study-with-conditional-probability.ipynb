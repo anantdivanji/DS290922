{
 "cells": [
  {
   "cell_type": "markdown",
   "metadata": {
    "papermill": {
     "duration": 0.019199,
     "end_time": "2020-10-18T19:16:12.750553",
     "exception": false,
     "start_time": "2020-10-18T19:16:12.731354",
     "status": "completed"
    },
    "tags": []
   },
   "source": [
    "## Overview\n",
    "In this post, I'll give a gentle introduction to the conditional probability with the help of a real life example. Then, I'll try to extend this idea of calculating conditional probabilities to Bayes Theorem. I know there already exist excellent resources on this but this post is no way a replacement to those, it's just a supplement to see how we can use those concepts to some real-life data. \n",
    "\n",
    "In probability theory, conditional probability is the probability of occurring of an event where it is given that another event has already occurred. To understand it a little better, we first need to set up the stage by defining a few terms from set theory.\n",
    "\n",
    "## Events and Sample Space\n",
    "In the simplest terms, an event is just the result of a random experiment. For example, getting a head when we toss a coin is one event, drawing a ball at random from a bag containing 3 black and 5 red balls is also an event. As we can see, we can easily associate the concept of probability to the events. \n",
    "\n",
    "A collection of all possible outcomes of an event is called a sample space, for tossing the coin we can have just two outcomes: head (H) or a tail(T). Similarly, rolling a fair die will always result in some number between 1 to 6, hence the sample space is {1, 2, 3, 4, 5, 6}.\n",
    "\n",
    "## Union of events \n",
    "Consider again the rolling of a fair die where we define two events:\n",
    "- __Event A:__ Getting a number which is divisible by 2\n",
    "- __Event B:__ Getting a number which is divisible by 3\n",
    "The sample space for event A is {2, 4, 6} whereas for event B it is {3, 6}. Now if we define another event C which is getting a number which is divisible by either 2 __OR__ 3 our new sample space would just be the combination of all the unique elements of sample space A and sample space B: {2, 3, 4, 6}. Mathematically, these events can be shown in terms of venn diagrams:\n",
    "<a href=\"https://imgur.com/7o5B3u9\"><img src=\"https://i.imgur.com/7o5B3u9.png\" title=\"source: imgur.com\" /></a>\n",
    "\n",
    "In terms of probabilities, we can easily calculate the probabilities for all the events as follows:\n",
    "- P(A) = $\\frac{\\mathrm{Number \\:of \\:cases \\:where \\:the \\:output \\:is \\:divisible \\:by \\:2}}{\\mathrm{Total \\:possible \\:outcomes}}$ = 3/6 = 0.5\n",
    "- P(B) = $\\frac{\\mathrm{Number \\:of \\:cases \\:where \\:the \\:output \\:is \\:divisible \\:by \\:3}}{\\mathrm{Total \\:possible \\:outcomes}}$ = 2/6 = 0.333\n",
    "- P(C) = P(A $\\cup$ B) = $\\frac{\\mathrm{Number \\:of \\:cases \\:where \\:the \\:output \\:is \\:divisible \\:by \\:either \\:2 \\:OR \\:3}}{\\mathrm{Total \\:possible \\:outcomes}}$ = 4/6 = 0.667\n",
    "\n",
    "## Intersection of events\n",
    "Following the events defined previously, we can also define an event D which is getting a number which is divisible by both 2 __AND__ 3, meaning _the common element in the sample space of both the events_. In terms of venn diagrams, it can be shown as:\n",
    "<a href=\"https://imgur.com/dwBjCji\"><img src=\"https://i.imgur.com/dwBjCji.png\" title=\"source: imgur.com\" /></a>\n",
    "\n",
    "Again, in terms of probabilities:\n",
    "- P(A) = $\\frac{\\mathrm{Number \\:of \\:cases \\:where \\:the \\:output \\:is \\:divisible \\:by \\:2}}{\\mathrm{Total \\:possible \\:outcomes}}$ = 3/6 = 0.5\n",
    "- P(B) = $\\frac{\\mathrm{Number \\:of \\:cases \\:where \\:the \\:output \\:is \\:divisible \\:by \\:3}}{\\mathrm{Total \\:possible \\:outcomes}}$ = 2/6 = 0.333\n",
    "- P(C) = P(A $\\cap$ B) = $\\frac{\\mathrm{Number \\:of \\:cases \\:where \\:the \\:output \\:is \\:divisible \\:by \\:both \\:2 \\:AND \\:3}}{\\mathrm{Total \\:possible \\:outcomes}}$ = 1/6 = 0.167\n",
    "\n",
    "## Disjoint events\n",
    "Consider these two events:\n",
    "- __Event A:__ Getting a number which is divisible by 2\n",
    "- __Event B:__ Getting a number which is divisible by 5\n",
    "The sample space for event A is {2, 4, 6} whereas for event B it is {5}. We can see that these events cannot occur together in the case of rolling a fair die. These events are called disjoint events. The venn diagram for these type of events can be shown as:\n",
    "<a href=\"https://imgur.com/KqXin9c\"><img src=\"https://i.imgur.com/KqXin9c.png\" title=\"source: imgur.com\" /></a>\n",
    "\n",
    "## Dependent and Independent events\n",
    "If the occurrence of one event does not effect the occurrence of another event,then these events are termed as independent events. Few examples of independent events include:\n",
    "- Getting a head when a coin is tossed AND getting a 5 in rolling a fair die\n",
    "- Getting rains in the month of August AND snow in December\n",
    "\n",
    "The probability in the case of independent events can be written as `P(A `$\\cap$` B) = P(A) * P(B)`, that is, the probability of occurring both the events is just the product of individual probabilities. Let's try to understand this more concretely, suppose we have a bag containing 3 blue and 5 green balls and we draw two balls at random with replacement (*meaning putting back the first ball in the bag after first trial*). We define the two events as:\n",
    "\n",
    "- __Event A:__ Getting a blue ball\n",
    "- __Event B:__ Getting a green ball\n",
    "\n",
    "We are interested in calculating the probability of getting a blue ball in the first trial AND a green ball in the second. Writing the probabilities for both events:\n",
    "`P(A) = 3/8`; `P(B) = 5/8`. Since getting a blue ball in a trial is independent of getting the green ball, this is the case of independent events. So we can write:\n",
    "\n",
    "P(C) = P(A $\\cap$ B) = P(A) * P(B) = P(B) * P(A) = 15 / 64\n",
    "\n",
    "Now for the case of dependent events, we can use the same example with one big difference: __we are not going to replace the drawn ball in the first trial!__ In this case, `P(A) = 3/8` and `P(B) = 5/7`. Notice the denominator of `P(B)`: since the drawn ball is not replaced, now we are sampling the second draw out of a smaller number of sample space. This would also ensure a greater chance of getting the green ball in the second draw. \n",
    "\n",
    "This discussion of dependent events naturally extends to the idea of conditional probability: We try to calculate the probability of an event A given another event B has already happened. It is denoted by `P(A|B)`. To get a feel for it, let's see some examples based on it\n",
    "- Probability of drawing a diamond from a deck of well-shuffled cards given the drawn card is red\n",
    "- Probability of rain on a given day of the month given it is July\n",
    "We can easily infer from above two examples that both the events in the examples are dependent of each other. \n",
    "\n",
    "Conditional probability can be defined as follows:\n",
    "\n",
    "**Probability of event A given event B has already occurred = P(A|B) = $\\frac{P(A\\cap B)}{P(B)}$**\n",
    "\n",
    "we can easily see the above equation reduces to `P(A)` for independent events by writing `P(A`$\\cap$`B) = P(A)*P(B)`. \n",
    "\n",
    "Now in my attempt to make this post a little less boring, let's make our hands dirty and use python to understand the concept of conditional probability."
   ]
  },
  {
   "cell_type": "code",
   "execution_count": 1,
   "metadata": {
    "_cell_guid": "b1076dfc-b9ad-4769-8c92-a6c4dae69d19",
    "_uuid": "8f2839f25d086af736a60e9eeb907d3b93b6e0e5",
    "execution": {
     "iopub.execute_input": "2020-10-18T19:16:12.794361Z",
     "iopub.status.busy": "2020-10-18T19:16:12.793265Z",
     "iopub.status.idle": "2020-10-18T19:16:12.796177Z",
     "shell.execute_reply": "2020-10-18T19:16:12.796773Z"
    },
    "papermill": {
     "duration": 0.028801,
     "end_time": "2020-10-18T19:16:12.796957",
     "exception": false,
     "start_time": "2020-10-18T19:16:12.768156",
     "status": "completed"
    },
    "tags": []
   },
   "outputs": [],
   "source": [
    "# Import libraries\n",
    "import numpy as np\n",
    "import pandas as pd"
   ]
  },
  {
   "cell_type": "markdown",
   "metadata": {
    "papermill": {
     "duration": 0.017052,
     "end_time": "2020-10-18T19:16:12.831667",
     "exception": false,
     "start_time": "2020-10-18T19:16:12.814615",
     "status": "completed"
    },
    "tags": []
   },
   "source": [
    "## About the Dataset\n",
    "The dataset contains the monthly rainfall data from years 1901 to 2018 for the Indian state of Kerala. Kerala is one of the few states which are usually badly hit by monsoons every year. You can read more about it in this [excellent kernel](https://www.kaggle.com/biphili/india-rainfall-kerala-flood)."
   ]
  },
  {
   "cell_type": "code",
   "execution_count": 2,
   "metadata": {
    "_cell_guid": "79c7e3d0-c299-4dcb-8224-4455121ee9b0",
    "_uuid": "d629ff2d2480ee46fbb7e2d37f6b5fab8052498a",
    "execution": {
     "iopub.execute_input": "2020-10-18T19:16:12.874335Z",
     "iopub.status.busy": "2020-10-18T19:16:12.873518Z",
     "iopub.status.idle": "2020-10-18T19:16:12.916215Z",
     "shell.execute_reply": "2020-10-18T19:16:12.916792Z"
    },
    "papermill": {
     "duration": 0.068011,
     "end_time": "2020-10-18T19:16:12.916945",
     "exception": false,
     "start_time": "2020-10-18T19:16:12.848934",
     "status": "completed"
    },
    "tags": []
   },
   "outputs": [
    {
     "data": {
      "text/html": [
       "<div>\n",
       "<style scoped>\n",
       "    .dataframe tbody tr th:only-of-type {\n",
       "        vertical-align: middle;\n",
       "    }\n",
       "\n",
       "    .dataframe tbody tr th {\n",
       "        vertical-align: top;\n",
       "    }\n",
       "\n",
       "    .dataframe thead th {\n",
       "        text-align: right;\n",
       "    }\n",
       "</style>\n",
       "<table border=\"1\" class=\"dataframe\">\n",
       "  <thead>\n",
       "    <tr style=\"text-align: right;\">\n",
       "      <th></th>\n",
       "      <th>SUBDIVISION</th>\n",
       "      <th>YEAR</th>\n",
       "      <th>JAN</th>\n",
       "      <th>FEB</th>\n",
       "      <th>MAR</th>\n",
       "      <th>APR</th>\n",
       "      <th>MAY</th>\n",
       "      <th>JUN</th>\n",
       "      <th>JUL</th>\n",
       "      <th>AUG</th>\n",
       "      <th>SEP</th>\n",
       "      <th>OCT</th>\n",
       "      <th>NOV</th>\n",
       "      <th>DEC</th>\n",
       "      <th>ANNUAL RAINFALL</th>\n",
       "      <th>FLOODS</th>\n",
       "    </tr>\n",
       "  </thead>\n",
       "  <tbody>\n",
       "    <tr>\n",
       "      <th>0</th>\n",
       "      <td>KERALA</td>\n",
       "      <td>1901</td>\n",
       "      <td>28.7</td>\n",
       "      <td>44.7</td>\n",
       "      <td>51.6</td>\n",
       "      <td>160.0</td>\n",
       "      <td>174.7</td>\n",
       "      <td>824.6</td>\n",
       "      <td>743.0</td>\n",
       "      <td>357.5</td>\n",
       "      <td>197.7</td>\n",
       "      <td>266.9</td>\n",
       "      <td>350.8</td>\n",
       "      <td>48.4</td>\n",
       "      <td>3248.6</td>\n",
       "      <td>YES</td>\n",
       "    </tr>\n",
       "    <tr>\n",
       "      <th>1</th>\n",
       "      <td>KERALA</td>\n",
       "      <td>1902</td>\n",
       "      <td>6.7</td>\n",
       "      <td>2.6</td>\n",
       "      <td>57.3</td>\n",
       "      <td>83.9</td>\n",
       "      <td>134.5</td>\n",
       "      <td>390.9</td>\n",
       "      <td>1205.0</td>\n",
       "      <td>315.8</td>\n",
       "      <td>491.6</td>\n",
       "      <td>358.4</td>\n",
       "      <td>158.3</td>\n",
       "      <td>121.5</td>\n",
       "      <td>3326.6</td>\n",
       "      <td>YES</td>\n",
       "    </tr>\n",
       "    <tr>\n",
       "      <th>2</th>\n",
       "      <td>KERALA</td>\n",
       "      <td>1903</td>\n",
       "      <td>3.2</td>\n",
       "      <td>18.6</td>\n",
       "      <td>3.1</td>\n",
       "      <td>83.6</td>\n",
       "      <td>249.7</td>\n",
       "      <td>558.6</td>\n",
       "      <td>1022.5</td>\n",
       "      <td>420.2</td>\n",
       "      <td>341.8</td>\n",
       "      <td>354.1</td>\n",
       "      <td>157.0</td>\n",
       "      <td>59.0</td>\n",
       "      <td>3271.2</td>\n",
       "      <td>YES</td>\n",
       "    </tr>\n",
       "    <tr>\n",
       "      <th>3</th>\n",
       "      <td>KERALA</td>\n",
       "      <td>1904</td>\n",
       "      <td>23.7</td>\n",
       "      <td>3.0</td>\n",
       "      <td>32.2</td>\n",
       "      <td>71.5</td>\n",
       "      <td>235.7</td>\n",
       "      <td>1098.2</td>\n",
       "      <td>725.5</td>\n",
       "      <td>351.8</td>\n",
       "      <td>222.7</td>\n",
       "      <td>328.1</td>\n",
       "      <td>33.9</td>\n",
       "      <td>3.3</td>\n",
       "      <td>3129.7</td>\n",
       "      <td>YES</td>\n",
       "    </tr>\n",
       "    <tr>\n",
       "      <th>4</th>\n",
       "      <td>KERALA</td>\n",
       "      <td>1905</td>\n",
       "      <td>1.2</td>\n",
       "      <td>22.3</td>\n",
       "      <td>9.4</td>\n",
       "      <td>105.9</td>\n",
       "      <td>263.3</td>\n",
       "      <td>850.2</td>\n",
       "      <td>520.5</td>\n",
       "      <td>293.6</td>\n",
       "      <td>217.2</td>\n",
       "      <td>383.5</td>\n",
       "      <td>74.4</td>\n",
       "      <td>0.2</td>\n",
       "      <td>2741.6</td>\n",
       "      <td>NO</td>\n",
       "    </tr>\n",
       "  </tbody>\n",
       "</table>\n",
       "</div>"
      ],
      "text/plain": [
       "  SUBDIVISION  YEAR   JAN   FEB   MAR    APR    MAY     JUN     JUL    AUG  \\\n",
       "0      KERALA  1901  28.7  44.7  51.6  160.0  174.7   824.6   743.0  357.5   \n",
       "1      KERALA  1902   6.7   2.6  57.3   83.9  134.5   390.9  1205.0  315.8   \n",
       "2      KERALA  1903   3.2  18.6   3.1   83.6  249.7   558.6  1022.5  420.2   \n",
       "3      KERALA  1904  23.7   3.0  32.2   71.5  235.7  1098.2   725.5  351.8   \n",
       "4      KERALA  1905   1.2  22.3   9.4  105.9  263.3   850.2   520.5  293.6   \n",
       "\n",
       "     SEP    OCT    NOV    DEC   ANNUAL RAINFALL FLOODS  \n",
       "0  197.7  266.9  350.8   48.4            3248.6    YES  \n",
       "1  491.6  358.4  158.3  121.5            3326.6    YES  \n",
       "2  341.8  354.1  157.0   59.0            3271.2    YES  \n",
       "3  222.7  328.1   33.9    3.3            3129.7    YES  \n",
       "4  217.2  383.5   74.4    0.2            2741.6     NO  "
      ]
     },
     "execution_count": 2,
     "metadata": {},
     "output_type": "execute_result"
    }
   ],
   "source": [
    "# Read the data\n",
    "df = pd.read_csv(\"/kaggle/input/kerela-flood/kerala.csv\")\n",
    "df.head()"
   ]
  },
  {
   "cell_type": "code",
   "execution_count": 3,
   "metadata": {
    "execution": {
     "iopub.execute_input": "2020-10-18T19:16:12.966508Z",
     "iopub.status.busy": "2020-10-18T19:16:12.965377Z",
     "iopub.status.idle": "2020-10-18T19:16:12.968719Z",
     "shell.execute_reply": "2020-10-18T19:16:12.967833Z"
    },
    "papermill": {
     "duration": 0.033396,
     "end_time": "2020-10-18T19:16:12.968903",
     "exception": false,
     "start_time": "2020-10-18T19:16:12.935507",
     "status": "completed"
    },
    "tags": []
   },
   "outputs": [],
   "source": [
    "# Changing the target column to numeric values\n",
    "df[\"FLOODS\"] = df[\"FLOODS\"].map({\"YES\": 1, \"NO\": 0})"
   ]
  },
  {
   "cell_type": "markdown",
   "metadata": {
    "papermill": {
     "duration": 0.018174,
     "end_time": "2020-10-18T19:16:13.010114",
     "exception": false,
     "start_time": "2020-10-18T19:16:12.991940",
     "status": "completed"
    },
    "tags": []
   },
   "source": [
    "We will be needing only columns `JUN`, `JUL`, `YEAR` and `FLOODS` since we are interested in calculating the probability of flooding in that year given it rained more than a certain threshold (500 mm) in these months. We will create a couple more columns based on these columns."
   ]
  },
  {
   "cell_type": "code",
   "execution_count": 4,
   "metadata": {
    "execution": {
     "iopub.execute_input": "2020-10-18T19:16:13.055418Z",
     "iopub.status.busy": "2020-10-18T19:16:13.054624Z",
     "iopub.status.idle": "2020-10-18T19:16:13.090621Z",
     "shell.execute_reply": "2020-10-18T19:16:13.090018Z"
    },
    "papermill": {
     "duration": 0.06212,
     "end_time": "2020-10-18T19:16:13.090744",
     "exception": false,
     "start_time": "2020-10-18T19:16:13.028624",
     "status": "completed"
    },
    "tags": []
   },
   "outputs": [
    {
     "data": {
      "text/html": [
       "<div>\n",
       "<style scoped>\n",
       "    .dataframe tbody tr th:only-of-type {\n",
       "        vertical-align: middle;\n",
       "    }\n",
       "\n",
       "    .dataframe tbody tr th {\n",
       "        vertical-align: top;\n",
       "    }\n",
       "\n",
       "    .dataframe thead th {\n",
       "        text-align: right;\n",
       "    }\n",
       "</style>\n",
       "<table border=\"1\" class=\"dataframe\">\n",
       "  <thead>\n",
       "    <tr style=\"text-align: right;\">\n",
       "      <th></th>\n",
       "      <th>YEAR</th>\n",
       "      <th>JUN_GT_500</th>\n",
       "      <th>JUL_GT_500</th>\n",
       "      <th>FLOODS</th>\n",
       "      <th>COUNT</th>\n",
       "    </tr>\n",
       "  </thead>\n",
       "  <tbody>\n",
       "    <tr>\n",
       "      <th>0</th>\n",
       "      <td>1901</td>\n",
       "      <td>1</td>\n",
       "      <td>1</td>\n",
       "      <td>1</td>\n",
       "      <td>1</td>\n",
       "    </tr>\n",
       "    <tr>\n",
       "      <th>1</th>\n",
       "      <td>1902</td>\n",
       "      <td>0</td>\n",
       "      <td>1</td>\n",
       "      <td>1</td>\n",
       "      <td>1</td>\n",
       "    </tr>\n",
       "    <tr>\n",
       "      <th>2</th>\n",
       "      <td>1903</td>\n",
       "      <td>1</td>\n",
       "      <td>1</td>\n",
       "      <td>1</td>\n",
       "      <td>1</td>\n",
       "    </tr>\n",
       "    <tr>\n",
       "      <th>3</th>\n",
       "      <td>1904</td>\n",
       "      <td>1</td>\n",
       "      <td>1</td>\n",
       "      <td>1</td>\n",
       "      <td>1</td>\n",
       "    </tr>\n",
       "    <tr>\n",
       "      <th>4</th>\n",
       "      <td>1905</td>\n",
       "      <td>1</td>\n",
       "      <td>1</td>\n",
       "      <td>0</td>\n",
       "      <td>1</td>\n",
       "    </tr>\n",
       "  </tbody>\n",
       "</table>\n",
       "</div>"
      ],
      "text/plain": [
       "   YEAR  JUN_GT_500  JUL_GT_500  FLOODS  COUNT\n",
       "0  1901           1           1       1      1\n",
       "1  1902           0           1       1      1\n",
       "2  1903           1           1       1      1\n",
       "3  1904           1           1       1      1\n",
       "4  1905           1           1       0      1"
      ]
     },
     "execution_count": 4,
     "metadata": {},
     "output_type": "execute_result"
    }
   ],
   "source": [
    "# Creating binary data for the months of June and July using the rainfall threshold\n",
    "df[\"JUN_GT_500\"] = (df[\"JUN\"] > 500).astype(\"int\")\n",
    "df[\"JUL_GT_500\"] = (df[\"JUL\"] > 500).astype(\"int\")\n",
    "df_small = df.loc[:, [\"YEAR\", \"JUN_GT_500\", \"JUL_GT_500\", \"FLOODS\"]]\n",
    "df_small[\"COUNT\"] = 1\n",
    "df_small.head()"
   ]
  },
  {
   "cell_type": "code",
   "execution_count": 5,
   "metadata": {
    "execution": {
     "iopub.execute_input": "2020-10-18T19:16:13.134812Z",
     "iopub.status.busy": "2020-10-18T19:16:13.133937Z",
     "iopub.status.idle": "2020-10-18T19:16:13.138484Z",
     "shell.execute_reply": "2020-10-18T19:16:13.137762Z"
    },
    "papermill": {
     "duration": 0.028738,
     "end_time": "2020-10-18T19:16:13.138607",
     "exception": false,
     "start_time": "2020-10-18T19:16:13.109869",
     "status": "completed"
    },
    "tags": []
   },
   "outputs": [
    {
     "data": {
      "text/plain": [
       "(118, 5)"
      ]
     },
     "execution_count": 5,
     "metadata": {},
     "output_type": "execute_result"
    }
   ],
   "source": [
    "df_small.shape"
   ]
  },
  {
   "cell_type": "code",
   "execution_count": 6,
   "metadata": {
    "execution": {
     "iopub.execute_input": "2020-10-18T19:16:13.199332Z",
     "iopub.status.busy": "2020-10-18T19:16:13.195307Z",
     "iopub.status.idle": "2020-10-18T19:16:13.213800Z",
     "shell.execute_reply": "2020-10-18T19:16:13.213170Z"
    },
    "papermill": {
     "duration": 0.055444,
     "end_time": "2020-10-18T19:16:13.213923",
     "exception": false,
     "start_time": "2020-10-18T19:16:13.158479",
     "status": "completed"
    },
    "tags": []
   },
   "outputs": [
    {
     "data": {
      "text/html": [
       "<div>\n",
       "<style scoped>\n",
       "    .dataframe tbody tr th:only-of-type {\n",
       "        vertical-align: middle;\n",
       "    }\n",
       "\n",
       "    .dataframe tbody tr th {\n",
       "        vertical-align: top;\n",
       "    }\n",
       "\n",
       "    .dataframe thead th {\n",
       "        text-align: right;\n",
       "    }\n",
       "</style>\n",
       "<table border=\"1\" class=\"dataframe\">\n",
       "  <thead>\n",
       "    <tr style=\"text-align: right;\">\n",
       "      <th>JUN_GT_500</th>\n",
       "      <th>0</th>\n",
       "      <th>1</th>\n",
       "    </tr>\n",
       "    <tr>\n",
       "      <th>FLOODS</th>\n",
       "      <th></th>\n",
       "      <th></th>\n",
       "    </tr>\n",
       "  </thead>\n",
       "  <tbody>\n",
       "    <tr>\n",
       "      <th>0</th>\n",
       "      <td>19</td>\n",
       "      <td>39</td>\n",
       "    </tr>\n",
       "    <tr>\n",
       "      <th>1</th>\n",
       "      <td>6</td>\n",
       "      <td>54</td>\n",
       "    </tr>\n",
       "  </tbody>\n",
       "</table>\n",
       "</div>"
      ],
      "text/plain": [
       "JUN_GT_500   0   1\n",
       "FLOODS            \n",
       "0           19  39\n",
       "1            6  54"
      ]
     },
     "execution_count": 6,
     "metadata": {},
     "output_type": "execute_result"
    }
   ],
   "source": [
    "# Creating the tabular data based on the counts\n",
    "pd.crosstab(df_small[\"FLOODS\"], df_small[\"JUN_GT_500\"])"
   ]
  },
  {
   "cell_type": "markdown",
   "metadata": {
    "papermill": {
     "duration": 0.020686,
     "end_time": "2020-10-18T19:16:13.255146",
     "exception": false,
     "start_time": "2020-10-18T19:16:13.234460",
     "status": "completed"
    },
    "tags": []
   },
   "source": [
    "Defining some variables:\n",
    "- `P(F)`: Probability of flooding\n",
    "- `P(J)`: Probability of having more than 500 mm rain in June\n",
    "- `P(F`$\\cap$`J)`: Probability of flooding __and__ having more than 500 mm rain in June\n",
    "- `P(F|J)`: Probability of flooding given it rained more than 500 mm in June\n",
    "\n",
    "Based on the above table we can easily find these probabilities."
   ]
  },
  {
   "cell_type": "code",
   "execution_count": 7,
   "metadata": {
    "execution": {
     "iopub.execute_input": "2020-10-18T19:16:13.304004Z",
     "iopub.status.busy": "2020-10-18T19:16:13.303260Z",
     "iopub.status.idle": "2020-10-18T19:16:13.307613Z",
     "shell.execute_reply": "2020-10-18T19:16:13.306817Z"
    },
    "papermill": {
     "duration": 0.032148,
     "end_time": "2020-10-18T19:16:13.307777",
     "exception": false,
     "start_time": "2020-10-18T19:16:13.275629",
     "status": "completed"
    },
    "tags": []
   },
   "outputs": [
    {
     "name": "stdout",
     "output_type": "stream",
     "text": [
      "P(F): 0.5084745762711864\n",
      "P(J): 0.788135593220339\n",
      "P(F AND J): 0.4576271186440678\n"
     ]
    }
   ],
   "source": [
    "P_F = (6 + 54) / (6 + 54 + 19 + 39)\n",
    "P_J = (39 + 54) / (6 + 54 + 19 + 39)\n",
    "P_F_intersect_J = 54 / (6 + 54 + 19 + 39)\n",
    "print(f\"P(F): {P_F}\") \n",
    "print(f\"P(J): {P_J}\")\n",
    "print(f\"P(F AND J): {P_F_intersect_J}\")"
   ]
  },
  {
   "cell_type": "markdown",
   "metadata": {
    "papermill": {
     "duration": 0.020757,
     "end_time": "2020-10-18T19:16:13.351280",
     "exception": false,
     "start_time": "2020-10-18T19:16:13.330523",
     "status": "completed"
    },
    "tags": []
   },
   "source": [
    "Using the formula - `P(A|B) = P(A`$\\cap$`B) / P(B)` we can easily calculate the conditional probability:"
   ]
  },
  {
   "cell_type": "code",
   "execution_count": 8,
   "metadata": {
    "execution": {
     "iopub.execute_input": "2020-10-18T19:16:13.399991Z",
     "iopub.status.busy": "2020-10-18T19:16:13.399016Z",
     "iopub.status.idle": "2020-10-18T19:16:13.402557Z",
     "shell.execute_reply": "2020-10-18T19:16:13.403087Z"
    },
    "papermill": {
     "duration": 0.030907,
     "end_time": "2020-10-18T19:16:13.403260",
     "exception": false,
     "start_time": "2020-10-18T19:16:13.372353",
     "status": "completed"
    },
    "tags": []
   },
   "outputs": [
    {
     "name": "stdout",
     "output_type": "stream",
     "text": [
      "P(F|J): 0.5806451612903226\n"
     ]
    }
   ],
   "source": [
    "# Now calculate probailitity of flood given it rained more than 500 mm in June (P(A|B))\n",
    "P_F_J = P_F_intersect_J / P_J\n",
    "print(f\"P(F|J): {P_F_J}\")"
   ]
  },
  {
   "cell_type": "markdown",
   "metadata": {
    "papermill": {
     "duration": 0.021386,
     "end_time": "2020-10-18T19:16:13.446386",
     "exception": false,
     "start_time": "2020-10-18T19:16:13.425000",
     "status": "completed"
    },
    "tags": []
   },
   "source": [
    "Now, we can also ask ourselves this: <span style=\"color:red\">*given that it flooded in Kerala in a given year what is the probability that it rained more than 500 mm in the month of June or July?*</span> This is where **Bayes Theorem** comes into action. Some other examples of Bayes Theorem are like:\n",
    "- The probability of a woman having breast cancer given she tested positive in the test\n",
    "- Probability that a given email is actually a spam given it contains certain flagged words.\n",
    "\n",
    "Bayes Theorem can be easily derived using the relationship between conditional probability and intersection of events. Given two events, we already know:\n",
    "$$\n",
    "P(A \\cap B) = P(A|B).P(B) = P(B|A).P(A) \\\\\n",
    "\\mathrm{so},\\: P(B|A) = \\frac{P(A|B).P(B)}{P(A)}\n",
    "$$\n",
    "\n",
    "<span style=\"color:blue\">In Bayesian inference, `P(B)` is called **Prior Probability**. In our case, `P(J)` is the prior probability which tells the probability of rain more than 500 mm in June (or July) without knowing whether it flooded or not that year. We can see prior probability is the probability of the event we are interested in before any new information.</span>\n",
    "\n",
    "Okay, enough chatter, let's try to code this in python. Actually we have already done most of the work, it's just a matter of plugging in the numbers into the above equation."
   ]
  },
  {
   "cell_type": "code",
   "execution_count": 9,
   "metadata": {
    "execution": {
     "iopub.execute_input": "2020-10-18T19:16:13.496431Z",
     "iopub.status.busy": "2020-10-18T19:16:13.495381Z",
     "iopub.status.idle": "2020-10-18T19:16:13.498926Z",
     "shell.execute_reply": "2020-10-18T19:16:13.499534Z"
    },
    "papermill": {
     "duration": 0.031758,
     "end_time": "2020-10-18T19:16:13.499687",
     "exception": false,
     "start_time": "2020-10-18T19:16:13.467929",
     "status": "completed"
    },
    "tags": []
   },
   "outputs": [
    {
     "name": "stdout",
     "output_type": "stream",
     "text": [
      "P(J|F): 0.9000000000000001\n"
     ]
    }
   ],
   "source": [
    "# Probability of rain more than 500 mm in June given it flooded that year (P(B|A))\n",
    "P_J_F = (P_F_J * P_J) / P_F\n",
    "print(f\"P(J|F): {P_J_F}\")"
   ]
  },
  {
   "cell_type": "code",
   "execution_count": 10,
   "metadata": {
    "execution": {
     "iopub.execute_input": "2020-10-18T19:16:13.568088Z",
     "iopub.status.busy": "2020-10-18T19:16:13.559531Z",
     "iopub.status.idle": "2020-10-18T19:16:13.572991Z",
     "shell.execute_reply": "2020-10-18T19:16:13.572372Z"
    },
    "papermill": {
     "duration": 0.051079,
     "end_time": "2020-10-18T19:16:13.573134",
     "exception": false,
     "start_time": "2020-10-18T19:16:13.522055",
     "status": "completed"
    },
    "tags": []
   },
   "outputs": [
    {
     "data": {
      "text/html": [
       "<div>\n",
       "<style scoped>\n",
       "    .dataframe tbody tr th:only-of-type {\n",
       "        vertical-align: middle;\n",
       "    }\n",
       "\n",
       "    .dataframe tbody tr th {\n",
       "        vertical-align: top;\n",
       "    }\n",
       "\n",
       "    .dataframe thead th {\n",
       "        text-align: right;\n",
       "    }\n",
       "</style>\n",
       "<table border=\"1\" class=\"dataframe\">\n",
       "  <thead>\n",
       "    <tr style=\"text-align: right;\">\n",
       "      <th>JUL_GT_500</th>\n",
       "      <th>0</th>\n",
       "      <th>1</th>\n",
       "    </tr>\n",
       "    <tr>\n",
       "      <th>FLOODS</th>\n",
       "      <th></th>\n",
       "      <th></th>\n",
       "    </tr>\n",
       "  </thead>\n",
       "  <tbody>\n",
       "    <tr>\n",
       "      <th>0</th>\n",
       "      <td>19</td>\n",
       "      <td>39</td>\n",
       "    </tr>\n",
       "    <tr>\n",
       "      <th>1</th>\n",
       "      <td>3</td>\n",
       "      <td>57</td>\n",
       "    </tr>\n",
       "  </tbody>\n",
       "</table>\n",
       "</div>"
      ],
      "text/plain": [
       "JUL_GT_500   0   1\n",
       "FLOODS            \n",
       "0           19  39\n",
       "1            3  57"
      ]
     },
     "execution_count": 10,
     "metadata": {},
     "output_type": "execute_result"
    }
   ],
   "source": [
    "# We can similarly do it for july\n",
    "pd.crosstab(df_small[\"FLOODS\"], df_small[\"JUL_GT_500\"])"
   ]
  },
  {
   "cell_type": "markdown",
   "metadata": {
    "papermill": {
     "duration": 0.022728,
     "end_time": "2020-10-18T19:16:13.619330",
     "exception": false,
     "start_time": "2020-10-18T19:16:13.596602",
     "status": "completed"
    },
    "tags": []
   },
   "source": [
    "Defining the similar parameters for July:\n",
    "- `P(F)`: Probability of flooding\n",
    "- `P(J)`: Probability of having more than 500 mm rain in July\n",
    "- `P(F`$\\cap$`J)`: Probability of flooding __and__ having more than 500 mm rain in July\n",
    "- `P(F|J)`: Probability of flooding given it rained more than 500 mm in July"
   ]
  },
  {
   "cell_type": "code",
   "execution_count": 11,
   "metadata": {
    "execution": {
     "iopub.execute_input": "2020-10-18T19:16:13.673957Z",
     "iopub.status.busy": "2020-10-18T19:16:13.673204Z",
     "iopub.status.idle": "2020-10-18T19:16:13.677917Z",
     "shell.execute_reply": "2020-10-18T19:16:13.676799Z"
    },
    "papermill": {
     "duration": 0.035782,
     "end_time": "2020-10-18T19:16:13.678125",
     "exception": false,
     "start_time": "2020-10-18T19:16:13.642343",
     "status": "completed"
    },
    "tags": []
   },
   "outputs": [
    {
     "name": "stdout",
     "output_type": "stream",
     "text": [
      "P(F): 0.5084745762711864\n",
      "P(J): 0.8135593220338984\n",
      "P(F AND J): 0.4830508474576271\n"
     ]
    }
   ],
   "source": [
    "P_F = (3 + 57) / (3 + 57 + 19 + 39)\n",
    "P_J = (39 + 57) / (3 + 57 + 19 + 39)\n",
    "P_F_intersect_J = 57 / (3 + 57 + 19 + 39)\n",
    "print(f\"P(F): {P_F}\") \n",
    "print(f\"P(J): {P_J}\")\n",
    "print(f\"P(F AND J): {P_F_intersect_J}\")"
   ]
  },
  {
   "cell_type": "code",
   "execution_count": 12,
   "metadata": {
    "execution": {
     "iopub.execute_input": "2020-10-18T19:16:13.733616Z",
     "iopub.status.busy": "2020-10-18T19:16:13.732705Z",
     "iopub.status.idle": "2020-10-18T19:16:13.736727Z",
     "shell.execute_reply": "2020-10-18T19:16:13.736118Z"
    },
    "papermill": {
     "duration": 0.032746,
     "end_time": "2020-10-18T19:16:13.736846",
     "exception": false,
     "start_time": "2020-10-18T19:16:13.704100",
     "status": "completed"
    },
    "tags": []
   },
   "outputs": [
    {
     "name": "stdout",
     "output_type": "stream",
     "text": [
      "P(F|J): 0.59375\n"
     ]
    }
   ],
   "source": [
    "# Now calculate probailitity of flood given it rained more than 500 mm in July\n",
    "P_F_J = P_F_intersect_J / P_J\n",
    "print(f\"P(F|J): {P_F_J}\")"
   ]
  },
  {
   "cell_type": "code",
   "execution_count": 13,
   "metadata": {
    "execution": {
     "iopub.execute_input": "2020-10-18T19:16:13.791192Z",
     "iopub.status.busy": "2020-10-18T19:16:13.790242Z",
     "iopub.status.idle": "2020-10-18T19:16:13.793636Z",
     "shell.execute_reply": "2020-10-18T19:16:13.794216Z"
    },
    "papermill": {
     "duration": 0.033403,
     "end_time": "2020-10-18T19:16:13.794405",
     "exception": false,
     "start_time": "2020-10-18T19:16:13.761002",
     "status": "completed"
    },
    "tags": []
   },
   "outputs": [
    {
     "name": "stdout",
     "output_type": "stream",
     "text": [
      "P(J|F): 0.9500000000000002\n"
     ]
    }
   ],
   "source": [
    "# Probability of rain more than 500 mm in July given it flooded that year (P(B|A))\n",
    "P_J_F = (P_F_J * P_J) / P_F\n",
    "print(f\"P(J|F): {P_J_F}\")"
   ]
  },
  {
   "cell_type": "markdown",
   "metadata": {
    "papermill": {
     "duration": 0.02565,
     "end_time": "2020-10-18T19:16:13.845803",
     "exception": false,
     "start_time": "2020-10-18T19:16:13.820153",
     "status": "completed"
    },
    "tags": []
   },
   "source": [
    "## Important Takeaways\n",
    "1. Based on the probability outputs above we can easily infer that it flooded almost 59% of the time in the year when it rained more than 500 mm in July whereas for June it's only 58%. This means only rainfall in the months of June and July are not completely responsible for the flooding in Kerala. This actually makes sense since in both 2018 and 2020, the flooding happened in August. May be including August in the analysis provide more insight to this.\n",
    "2. Using Bayes theorem we found that whenever it flooded in Kerala, both June and July have a very high probability (90% and 95% respectively) of rain for more than 500 mm. This also makes sense June and July are the peak months of rainfall because of monsoon."
   ]
  },
  {
   "cell_type": "markdown",
   "metadata": {
    "papermill": {
     "duration": 0.024746,
     "end_time": "2020-10-18T19:16:13.895604",
     "exception": false,
     "start_time": "2020-10-18T19:16:13.870858",
     "status": "completed"
    },
    "tags": []
   },
   "source": [
    "Thanks for reading my kernel! I hope it helped you to understand this concept as much as it helped me."
   ]
  },
  {
   "cell_type": "markdown",
   "metadata": {
    "papermill": {
     "duration": 0.024853,
     "end_time": "2020-10-18T19:16:13.945381",
     "exception": false,
     "start_time": "2020-10-18T19:16:13.920528",
     "status": "completed"
    },
    "tags": []
   },
   "source": [
    "References and Resources:\n",
    "- [https://www.statisticshowto.com/bayes-theorem-problems/](https://www.statisticshowto.com/bayes-theorem-problems/)\n",
    "- [https://www.analyticsvidhya.com/blog/2017/03/conditional-probability-bayes-theorem/](https://www.analyticsvidhya.com/blog/2017/03/conditional-probability-bayes-theorem/)\n",
    "- [https://towardsdatascience.com/bayes-theorem-the-holy-grail-of-data-science-55d93315defb](https://towardsdatascience.com/bayes-theorem-the-holy-grail-of-data-science-55d93315defb)"
   ]
  },
  {
   "cell_type": "code",
   "execution_count": null,
   "metadata": {
    "papermill": {
     "duration": 0.024287,
     "end_time": "2020-10-18T19:16:13.995511",
     "exception": false,
     "start_time": "2020-10-18T19:16:13.971224",
     "status": "completed"
    },
    "tags": []
   },
   "outputs": [],
   "source": []
  }
 ],
 "metadata": {
  "kernelspec": {
   "display_name": "Python 3",
   "language": "python",
   "name": "python3"
  },
  "language_info": {
   "codemirror_mode": {
    "name": "ipython",
    "version": 3
   },
   "file_extension": ".py",
   "mimetype": "text/x-python",
   "name": "python",
   "nbconvert_exporter": "python",
   "pygments_lexer": "ipython3",
   "version": "3.7.6"
  },
  "papermill": {
   "duration": 6.498741,
   "end_time": "2020-10-18T19:16:14.128112",
   "environment_variables": {},
   "exception": null,
   "input_path": "__notebook__.ipynb",
   "output_path": "__notebook__.ipynb",
   "parameters": {},
   "start_time": "2020-10-18T19:16:07.629371",
   "version": "2.1.0"
  }
 },
 "nbformat": 4,
 "nbformat_minor": 4
}
