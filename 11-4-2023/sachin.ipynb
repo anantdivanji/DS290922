{
 "cells": [
  {
   "cell_type": "code",
   "execution_count": 1,
   "id": "309807a6",
   "metadata": {},
   "outputs": [],
   "source": [
    "import numpy as np\n",
    "import pandas as pd\n",
    "import seaborn as sns\n",
    "import matplotlib.pyplot as plt"
   ]
  },
  {
   "cell_type": "code",
   "execution_count": 2,
   "id": "df0d5cf7",
   "metadata": {},
   "outputs": [],
   "source": [
    "df_sachin = pd.read_csv(\"Sachin_ODI.csv\")"
   ]
  },
  {
   "cell_type": "code",
   "execution_count": 3,
   "id": "5402d14f",
   "metadata": {},
   "outputs": [
    {
     "data": {
      "text/html": [
       "<div>\n",
       "<style scoped>\n",
       "    .dataframe tbody tr th:only-of-type {\n",
       "        vertical-align: middle;\n",
       "    }\n",
       "\n",
       "    .dataframe tbody tr th {\n",
       "        vertical-align: top;\n",
       "    }\n",
       "\n",
       "    .dataframe thead th {\n",
       "        text-align: right;\n",
       "    }\n",
       "</style>\n",
       "<table border=\"1\" class=\"dataframe\">\n",
       "  <thead>\n",
       "    <tr style=\"text-align: right;\">\n",
       "      <th></th>\n",
       "      <th>runs</th>\n",
       "      <th>NotOut</th>\n",
       "      <th>mins</th>\n",
       "      <th>bf</th>\n",
       "      <th>fours</th>\n",
       "      <th>sixes</th>\n",
       "      <th>sr</th>\n",
       "      <th>Inns</th>\n",
       "      <th>Opp</th>\n",
       "      <th>Ground</th>\n",
       "      <th>Date</th>\n",
       "      <th>Winner</th>\n",
       "      <th>Won</th>\n",
       "      <th>century</th>\n",
       "    </tr>\n",
       "  </thead>\n",
       "  <tbody>\n",
       "    <tr>\n",
       "      <th>0</th>\n",
       "      <td>13</td>\n",
       "      <td>0</td>\n",
       "      <td>30</td>\n",
       "      <td>15</td>\n",
       "      <td>3</td>\n",
       "      <td>0</td>\n",
       "      <td>86.66</td>\n",
       "      <td>1</td>\n",
       "      <td>New Zealand</td>\n",
       "      <td>Napier</td>\n",
       "      <td>1995-02-16</td>\n",
       "      <td>New Zealand</td>\n",
       "      <td>False</td>\n",
       "      <td>False</td>\n",
       "    </tr>\n",
       "    <tr>\n",
       "      <th>1</th>\n",
       "      <td>37</td>\n",
       "      <td>0</td>\n",
       "      <td>75</td>\n",
       "      <td>51</td>\n",
       "      <td>3</td>\n",
       "      <td>1</td>\n",
       "      <td>72.54</td>\n",
       "      <td>2</td>\n",
       "      <td>South Africa</td>\n",
       "      <td>Hamilton</td>\n",
       "      <td>1995-02-18</td>\n",
       "      <td>South Africa</td>\n",
       "      <td>False</td>\n",
       "      <td>False</td>\n",
       "    </tr>\n",
       "    <tr>\n",
       "      <th>2</th>\n",
       "      <td>47</td>\n",
       "      <td>0</td>\n",
       "      <td>65</td>\n",
       "      <td>40</td>\n",
       "      <td>7</td>\n",
       "      <td>0</td>\n",
       "      <td>117.50</td>\n",
       "      <td>2</td>\n",
       "      <td>Australia</td>\n",
       "      <td>Dunedin</td>\n",
       "      <td>1995-02-22</td>\n",
       "      <td>India</td>\n",
       "      <td>True</td>\n",
       "      <td>False</td>\n",
       "    </tr>\n",
       "    <tr>\n",
       "      <th>3</th>\n",
       "      <td>48</td>\n",
       "      <td>0</td>\n",
       "      <td>37</td>\n",
       "      <td>30</td>\n",
       "      <td>9</td>\n",
       "      <td>1</td>\n",
       "      <td>160.00</td>\n",
       "      <td>2</td>\n",
       "      <td>Bangladesh</td>\n",
       "      <td>Sharjah</td>\n",
       "      <td>1995-04-05</td>\n",
       "      <td>India</td>\n",
       "      <td>True</td>\n",
       "      <td>False</td>\n",
       "    </tr>\n",
       "    <tr>\n",
       "      <th>4</th>\n",
       "      <td>4</td>\n",
       "      <td>0</td>\n",
       "      <td>13</td>\n",
       "      <td>9</td>\n",
       "      <td>1</td>\n",
       "      <td>0</td>\n",
       "      <td>44.44</td>\n",
       "      <td>2</td>\n",
       "      <td>Pakistan</td>\n",
       "      <td>Sharjah</td>\n",
       "      <td>1995-04-07</td>\n",
       "      <td>Pakistan</td>\n",
       "      <td>False</td>\n",
       "      <td>False</td>\n",
       "    </tr>\n",
       "  </tbody>\n",
       "</table>\n",
       "</div>"
      ],
      "text/plain": [
       "   runs  NotOut mins  bf  fours  sixes      sr  Inns           Opp    Ground  \\\n",
       "0    13       0   30  15      3      0   86.66     1   New Zealand    Napier   \n",
       "1    37       0   75  51      3      1   72.54     2  South Africa  Hamilton   \n",
       "2    47       0   65  40      7      0  117.50     2     Australia   Dunedin   \n",
       "3    48       0   37  30      9      1  160.00     2    Bangladesh   Sharjah   \n",
       "4     4       0   13   9      1      0   44.44     2      Pakistan   Sharjah   \n",
       "\n",
       "         Date        Winner    Won  century  \n",
       "0  1995-02-16   New Zealand  False    False  \n",
       "1  1995-02-18  South Africa  False    False  \n",
       "2  1995-02-22         India   True    False  \n",
       "3  1995-04-05         India   True    False  \n",
       "4  1995-04-07      Pakistan  False    False  "
      ]
     },
     "execution_count": 3,
     "metadata": {},
     "output_type": "execute_result"
    }
   ],
   "source": [
    "df_sachin.head()"
   ]
  },
  {
   "cell_type": "code",
   "execution_count": 4,
   "id": "89351869",
   "metadata": {},
   "outputs": [
    {
     "data": {
      "text/plain": [
       "(360, 14)"
      ]
     },
     "execution_count": 4,
     "metadata": {},
     "output_type": "execute_result"
    }
   ],
   "source": [
    "df_sachin.shape"
   ]
  },
  {
   "cell_type": "code",
   "execution_count": 5,
   "id": "1a021077",
   "metadata": {},
   "outputs": [
    {
     "data": {
      "text/plain": [
       "True     184\n",
       "False    176\n",
       "Name: Won, dtype: int64"
      ]
     },
     "execution_count": 5,
     "metadata": {},
     "output_type": "execute_result"
    }
   ],
   "source": [
    "df_sachin[\"Won\"].value_counts()"
   ]
  },
  {
   "cell_type": "markdown",
   "id": "4cb0fdcd",
   "metadata": {},
   "source": [
    "Probability of winning: 184/360"
   ]
  },
  {
   "cell_type": "code",
   "execution_count": 6,
   "id": "0d8e6f7b",
   "metadata": {},
   "outputs": [
    {
     "data": {
      "text/plain": [
       "0.5111111111111111"
      ]
     },
     "execution_count": 6,
     "metadata": {},
     "output_type": "execute_result"
    }
   ],
   "source": [
    "184/360"
   ]
  },
  {
   "cell_type": "code",
   "execution_count": 7,
   "id": "5e3105d2",
   "metadata": {},
   "outputs": [],
   "source": [
    "df_won = df_sachin[df_sachin[\"Won\"]==True]"
   ]
  },
  {
   "cell_type": "code",
   "execution_count": 8,
   "id": "a65151f8",
   "metadata": {},
   "outputs": [
    {
     "data": {
      "text/plain": [
       "184"
      ]
     },
     "execution_count": 8,
     "metadata": {},
     "output_type": "execute_result"
    }
   ],
   "source": [
    "len(df_won)"
   ]
  },
  {
   "cell_type": "code",
   "execution_count": 9,
   "id": "7f0da22d",
   "metadata": {},
   "outputs": [
    {
     "data": {
      "text/plain": [
       "0.5111111111111111"
      ]
     },
     "execution_count": 9,
     "metadata": {},
     "output_type": "execute_result"
    }
   ],
   "source": [
    "prob_winning = len(df_won) / len(df_sachin)\n",
    "prob_winning"
   ]
  },
  {
   "cell_type": "code",
   "execution_count": 10,
   "id": "f38ff667",
   "metadata": {},
   "outputs": [
    {
     "data": {
      "text/plain": [
       "False    314\n",
       "True      46\n",
       "Name: century, dtype: int64"
      ]
     },
     "execution_count": 10,
     "metadata": {},
     "output_type": "execute_result"
    }
   ],
   "source": [
    "df_sachin[\"century\"].value_counts()"
   ]
  },
  {
   "cell_type": "code",
   "execution_count": 11,
   "id": "6aa751f2",
   "metadata": {},
   "outputs": [
    {
     "data": {
      "text/plain": [
       "0.12777777777777777"
      ]
     },
     "execution_count": 11,
     "metadata": {},
     "output_type": "execute_result"
    }
   ],
   "source": [
    "46/360"
   ]
  },
  {
   "cell_type": "code",
   "execution_count": 12,
   "id": "3dfbb37b",
   "metadata": {},
   "outputs": [],
   "source": [
    "df_century = df_sachin[df_sachin[\"century\"]==True]"
   ]
  },
  {
   "cell_type": "code",
   "execution_count": 13,
   "id": "1d3269fc",
   "metadata": {},
   "outputs": [
    {
     "data": {
      "text/plain": [
       "(46, 14)"
      ]
     },
     "execution_count": 13,
     "metadata": {},
     "output_type": "execute_result"
    }
   ],
   "source": [
    "df_century.shape"
   ]
  },
  {
   "cell_type": "code",
   "execution_count": 14,
   "id": "4fb330f5",
   "metadata": {},
   "outputs": [
    {
     "data": {
      "text/plain": [
       "0.12777777777777777"
      ]
     },
     "execution_count": 14,
     "metadata": {},
     "output_type": "execute_result"
    }
   ],
   "source": [
    "prob_century = len(df_century) / len(df_sachin)\n",
    "prob_century"
   ]
  },
  {
   "cell_type": "code",
   "execution_count": 15,
   "id": "7d970c1d",
   "metadata": {},
   "outputs": [
    {
     "data": {
      "text/plain": [
       "century  Won  \n",
       "False    False    160\n",
       "         True     154\n",
       "True     True      30\n",
       "         False     16\n",
       "dtype: int64"
      ]
     },
     "execution_count": 15,
     "metadata": {},
     "output_type": "execute_result"
    }
   ],
   "source": [
    "df_sachin[[\"century\", \"Won\"]].value_counts()"
   ]
  },
  {
   "cell_type": "code",
   "execution_count": 16,
   "id": "d9c0f102",
   "metadata": {},
   "outputs": [
    {
     "data": {
      "text/html": [
       "<div>\n",
       "<style scoped>\n",
       "    .dataframe tbody tr th:only-of-type {\n",
       "        vertical-align: middle;\n",
       "    }\n",
       "\n",
       "    .dataframe tbody tr th {\n",
       "        vertical-align: top;\n",
       "    }\n",
       "\n",
       "    .dataframe thead th {\n",
       "        text-align: right;\n",
       "    }\n",
       "</style>\n",
       "<table border=\"1\" class=\"dataframe\">\n",
       "  <thead>\n",
       "    <tr style=\"text-align: right;\">\n",
       "      <th>Won</th>\n",
       "      <th>False</th>\n",
       "      <th>True</th>\n",
       "    </tr>\n",
       "    <tr>\n",
       "      <th>century</th>\n",
       "      <th></th>\n",
       "      <th></th>\n",
       "    </tr>\n",
       "  </thead>\n",
       "  <tbody>\n",
       "    <tr>\n",
       "      <th>False</th>\n",
       "      <td>160</td>\n",
       "      <td>154</td>\n",
       "    </tr>\n",
       "    <tr>\n",
       "      <th>True</th>\n",
       "      <td>16</td>\n",
       "      <td>30</td>\n",
       "    </tr>\n",
       "  </tbody>\n",
       "</table>\n",
       "</div>"
      ],
      "text/plain": [
       "Won      False  True\n",
       "century             \n",
       "False      160   154\n",
       "True        16    30"
      ]
     },
     "execution_count": 16,
     "metadata": {},
     "output_type": "execute_result"
    }
   ],
   "source": [
    "# Contingency Table\n",
    "pd.crosstab(index=df_sachin[\"century\"], columns=df_sachin[\"Won\"])"
   ]
  },
  {
   "cell_type": "code",
   "execution_count": 17,
   "id": "c598e42b",
   "metadata": {},
   "outputs": [
    {
     "data": {
      "text/html": [
       "<div>\n",
       "<style scoped>\n",
       "    .dataframe tbody tr th:only-of-type {\n",
       "        vertical-align: middle;\n",
       "    }\n",
       "\n",
       "    .dataframe tbody tr th {\n",
       "        vertical-align: top;\n",
       "    }\n",
       "\n",
       "    .dataframe thead th {\n",
       "        text-align: right;\n",
       "    }\n",
       "</style>\n",
       "<table border=\"1\" class=\"dataframe\">\n",
       "  <thead>\n",
       "    <tr style=\"text-align: right;\">\n",
       "      <th>Won</th>\n",
       "      <th>False</th>\n",
       "      <th>True</th>\n",
       "      <th>All</th>\n",
       "    </tr>\n",
       "    <tr>\n",
       "      <th>century</th>\n",
       "      <th></th>\n",
       "      <th></th>\n",
       "      <th></th>\n",
       "    </tr>\n",
       "  </thead>\n",
       "  <tbody>\n",
       "    <tr>\n",
       "      <th>False</th>\n",
       "      <td>160</td>\n",
       "      <td>154</td>\n",
       "      <td>314</td>\n",
       "    </tr>\n",
       "    <tr>\n",
       "      <th>True</th>\n",
       "      <td>16</td>\n",
       "      <td>30</td>\n",
       "      <td>46</td>\n",
       "    </tr>\n",
       "    <tr>\n",
       "      <th>All</th>\n",
       "      <td>176</td>\n",
       "      <td>184</td>\n",
       "      <td>360</td>\n",
       "    </tr>\n",
       "  </tbody>\n",
       "</table>\n",
       "</div>"
      ],
      "text/plain": [
       "Won      False  True  All\n",
       "century                  \n",
       "False      160   154  314\n",
       "True        16    30   46\n",
       "All        176   184  360"
      ]
     },
     "execution_count": 17,
     "metadata": {},
     "output_type": "execute_result"
    }
   ],
   "source": [
    "pd.crosstab(index=df_sachin[\"century\"], columns=df_sachin[\"Won\"], margins=True)"
   ]
  },
  {
   "cell_type": "code",
   "execution_count": 18,
   "id": "79d8d15f",
   "metadata": {},
   "outputs": [
    {
     "data": {
      "text/plain": [
       "0.08333333333333333"
      ]
     },
     "execution_count": 18,
     "metadata": {},
     "output_type": "execute_result"
    }
   ],
   "source": [
    "30 / 360 # prob of winning AND century"
   ]
  },
  {
   "cell_type": "code",
   "execution_count": 19,
   "id": "794fbe35",
   "metadata": {},
   "outputs": [],
   "source": [
    "# \"And\" means intersection\n",
    "df_win_and_century = df_sachin[(df_sachin[\"century\"] == True) & (df_sachin[\"Won\"] == True)]"
   ]
  },
  {
   "cell_type": "code",
   "execution_count": 20,
   "id": "5d8b04f5",
   "metadata": {},
   "outputs": [
    {
     "data": {
      "text/plain": [
       "30"
      ]
     },
     "execution_count": 20,
     "metadata": {},
     "output_type": "execute_result"
    }
   ],
   "source": [
    "len(df_win_and_century)"
   ]
  },
  {
   "cell_type": "code",
   "execution_count": 21,
   "id": "7d98abea",
   "metadata": {},
   "outputs": [
    {
     "data": {
      "text/plain": [
       "0.08333333333333333"
      ]
     },
     "execution_count": 21,
     "metadata": {},
     "output_type": "execute_result"
    }
   ],
   "source": [
    "prob_win_and_century = len(df_win_and_century) / len(df_sachin)\n",
    "prob_win_and_century"
   ]
  },
  {
   "cell_type": "code",
   "execution_count": 22,
   "id": "fddd47fc",
   "metadata": {},
   "outputs": [
    {
     "data": {
      "text/html": [
       "<div>\n",
       "<style scoped>\n",
       "    .dataframe tbody tr th:only-of-type {\n",
       "        vertical-align: middle;\n",
       "    }\n",
       "\n",
       "    .dataframe tbody tr th {\n",
       "        vertical-align: top;\n",
       "    }\n",
       "\n",
       "    .dataframe thead th {\n",
       "        text-align: right;\n",
       "    }\n",
       "</style>\n",
       "<table border=\"1\" class=\"dataframe\">\n",
       "  <thead>\n",
       "    <tr style=\"text-align: right;\">\n",
       "      <th>Won</th>\n",
       "      <th>False</th>\n",
       "      <th>True</th>\n",
       "      <th>All</th>\n",
       "    </tr>\n",
       "    <tr>\n",
       "      <th>century</th>\n",
       "      <th></th>\n",
       "      <th></th>\n",
       "      <th></th>\n",
       "    </tr>\n",
       "  </thead>\n",
       "  <tbody>\n",
       "    <tr>\n",
       "      <th>False</th>\n",
       "      <td>160</td>\n",
       "      <td>154</td>\n",
       "      <td>314</td>\n",
       "    </tr>\n",
       "    <tr>\n",
       "      <th>True</th>\n",
       "      <td>16</td>\n",
       "      <td>30</td>\n",
       "      <td>46</td>\n",
       "    </tr>\n",
       "    <tr>\n",
       "      <th>All</th>\n",
       "      <td>176</td>\n",
       "      <td>184</td>\n",
       "      <td>360</td>\n",
       "    </tr>\n",
       "  </tbody>\n",
       "</table>\n",
       "</div>"
      ],
      "text/plain": [
       "Won      False  True  All\n",
       "century                  \n",
       "False      160   154  314\n",
       "True        16    30   46\n",
       "All        176   184  360"
      ]
     },
     "execution_count": 22,
     "metadata": {},
     "output_type": "execute_result"
    }
   ],
   "source": [
    "pd.crosstab(index=df_sachin[\"century\"], columns=df_sachin[\"Won\"], margins=True)"
   ]
  },
  {
   "cell_type": "code",
   "execution_count": 23,
   "id": "48f27894",
   "metadata": {},
   "outputs": [
    {
     "data": {
      "text/plain": [
       "200"
      ]
     },
     "execution_count": 23,
     "metadata": {},
     "output_type": "execute_result"
    }
   ],
   "source": [
    "# \"OR\" probability of winning OR century\n",
    "184 + 46 - 30"
   ]
  },
  {
   "cell_type": "code",
   "execution_count": 24,
   "id": "9df26985",
   "metadata": {},
   "outputs": [],
   "source": [
    "df_win_or_century = df_sachin[(df_sachin[\"century\"] == True) | (df_sachin[\"Won\"] == True)]"
   ]
  },
  {
   "cell_type": "code",
   "execution_count": 25,
   "id": "febec66d",
   "metadata": {},
   "outputs": [
    {
     "data": {
      "text/plain": [
       "200"
      ]
     },
     "execution_count": 25,
     "metadata": {},
     "output_type": "execute_result"
    }
   ],
   "source": [
    "len(df_win_or_century)"
   ]
  },
  {
   "cell_type": "code",
   "execution_count": 26,
   "id": "ab03b86b",
   "metadata": {},
   "outputs": [
    {
     "data": {
      "text/plain": [
       "0.5555555555555556"
      ]
     },
     "execution_count": 26,
     "metadata": {},
     "output_type": "execute_result"
    }
   ],
   "source": [
    "prob_win_or_century = len(df_win_or_century) / len(df_sachin)\n",
    "prob_win_or_century"
   ]
  },
  {
   "cell_type": "markdown",
   "id": "f8365be6",
   "metadata": {},
   "source": [
    "Complement: all values outside A is the complement of A"
   ]
  },
  {
   "cell_type": "code",
   "execution_count": 27,
   "id": "c648f0bf",
   "metadata": {},
   "outputs": [
    {
     "data": {
      "text/plain": [
       "0.5111111111111111"
      ]
     },
     "execution_count": 27,
     "metadata": {},
     "output_type": "execute_result"
    }
   ],
   "source": [
    "df_won = df_sachin[df_sachin[\"Won\"]==True]\n",
    "prob_winning = len(df_won) / len(df_sachin)\n",
    "prob_winning"
   ]
  },
  {
   "cell_type": "code",
   "execution_count": 28,
   "id": "e2556480",
   "metadata": {},
   "outputs": [
    {
     "data": {
      "text/plain": [
       "0.4888888888888889"
      ]
     },
     "execution_count": 28,
     "metadata": {},
     "output_type": "execute_result"
    }
   ],
   "source": [
    "df_lost = df_sachin[df_sachin[\"Won\"]==False]\n",
    "prob_losing = len(df_lost) / len(df_sachin)\n",
    "prob_losing"
   ]
  },
  {
   "cell_type": "code",
   "execution_count": 29,
   "id": "1e49932d",
   "metadata": {},
   "outputs": [
    {
     "data": {
      "text/plain": [
       "1.0"
      ]
     },
     "execution_count": 29,
     "metadata": {},
     "output_type": "execute_result"
    }
   ],
   "source": [
    "prob_losing + prob_winning "
   ]
  },
  {
   "cell_type": "code",
   "execution_count": 30,
   "id": "e36ec3f2",
   "metadata": {},
   "outputs": [
    {
     "data": {
      "text/plain": [
       "0.12777777777777777"
      ]
     },
     "execution_count": 30,
     "metadata": {},
     "output_type": "execute_result"
    }
   ],
   "source": [
    "df_century = df_sachin[df_sachin[\"century\"]==True]\n",
    "prob_century = len(df_century) / len(df_sachin)\n",
    "prob_century"
   ]
  },
  {
   "cell_type": "code",
   "execution_count": 31,
   "id": "5d24819a",
   "metadata": {},
   "outputs": [
    {
     "data": {
      "text/plain": [
       "0.8722222222222222"
      ]
     },
     "execution_count": 31,
     "metadata": {},
     "output_type": "execute_result"
    }
   ],
   "source": [
    "df_not_century = df_sachin[df_sachin[\"century\"]==False]\n",
    "prob_not_century = len(df_not_century) / len(df_sachin)\n",
    "prob_not_century"
   ]
  },
  {
   "cell_type": "code",
   "execution_count": 32,
   "id": "90efb175",
   "metadata": {},
   "outputs": [
    {
     "data": {
      "text/plain": [
       "1.0"
      ]
     },
     "execution_count": 32,
     "metadata": {},
     "output_type": "execute_result"
    }
   ],
   "source": [
    "prob_century + prob_not_century"
   ]
  },
  {
   "cell_type": "markdown",
   "id": "b9048617",
   "metadata": {},
   "source": [
    "All matches where Sachin has scored atleast 8 fours"
   ]
  },
  {
   "cell_type": "code",
   "execution_count": 33,
   "id": "d347fc66",
   "metadata": {},
   "outputs": [],
   "source": [
    "df_at_least_eight_fours = df_sachin[df_sachin[\"fours\"] >= 8]"
   ]
  },
  {
   "cell_type": "code",
   "execution_count": 34,
   "id": "d020584b",
   "metadata": {},
   "outputs": [
    {
     "data": {
      "text/plain": [
       "96"
      ]
     },
     "execution_count": 34,
     "metadata": {},
     "output_type": "execute_result"
    }
   ],
   "source": [
    "len(df_at_least_eight_fours)"
   ]
  },
  {
   "cell_type": "code",
   "execution_count": 35,
   "id": "155139c5",
   "metadata": {},
   "outputs": [
    {
     "data": {
      "text/plain": [
       "0.26666666666666666"
      ]
     },
     "execution_count": 35,
     "metadata": {},
     "output_type": "execute_result"
    }
   ],
   "source": [
    "96/360"
   ]
  },
  {
   "cell_type": "code",
   "execution_count": 36,
   "id": "0d6314b5",
   "metadata": {},
   "outputs": [
    {
     "data": {
      "text/plain": [
       "0.26666666666666666"
      ]
     },
     "execution_count": 36,
     "metadata": {},
     "output_type": "execute_result"
    }
   ],
   "source": [
    "prob_at_least_eight_fours = len(df_at_least_eight_fours) / len(df_sachin)\n",
    "prob_at_least_eight_fours"
   ]
  },
  {
   "cell_type": "code",
   "execution_count": 37,
   "id": "0df32c40",
   "metadata": {},
   "outputs": [],
   "source": [
    "df_at_most_seven_fours = df_sachin[df_sachin[\"fours\"] <= 7]"
   ]
  },
  {
   "cell_type": "code",
   "execution_count": 38,
   "id": "37bc13c0",
   "metadata": {},
   "outputs": [
    {
     "data": {
      "text/plain": [
       "264"
      ]
     },
     "execution_count": 38,
     "metadata": {},
     "output_type": "execute_result"
    }
   ],
   "source": [
    "360 - 96"
   ]
  },
  {
   "cell_type": "code",
   "execution_count": 39,
   "id": "54dd5a19",
   "metadata": {},
   "outputs": [
    {
     "data": {
      "text/plain": [
       "264"
      ]
     },
     "execution_count": 39,
     "metadata": {},
     "output_type": "execute_result"
    }
   ],
   "source": [
    "len(df_at_most_seven_fours)"
   ]
  },
  {
   "cell_type": "markdown",
   "id": "6a0567c6",
   "metadata": {},
   "source": [
    "Mutually exclusive"
   ]
  },
  {
   "cell_type": "code",
   "execution_count": 40,
   "id": "727ecab3",
   "metadata": {},
   "outputs": [
    {
     "data": {
      "text/plain": [
       "10"
      ]
     },
     "execution_count": 40,
     "metadata": {},
     "output_type": "execute_result"
    }
   ],
   "source": [
    "df_three_sixes = df_sachin[df_sachin[\"sixes\"]==3]\n",
    "len(df_three_sixes)"
   ]
  },
  {
   "cell_type": "code",
   "execution_count": 41,
   "id": "7bed06b3",
   "metadata": {},
   "outputs": [
    {
     "data": {
      "text/plain": [
       "6"
      ]
     },
     "execution_count": 41,
     "metadata": {},
     "output_type": "execute_result"
    }
   ],
   "source": [
    "df_five_sixes = df_sachin[df_sachin[\"sixes\"]==5]\n",
    "len(df_five_sixes)"
   ]
  },
  {
   "cell_type": "code",
   "execution_count": 42,
   "id": "8ed3987a",
   "metadata": {},
   "outputs": [
    {
     "data": {
      "text/plain": [
       "0"
      ]
     },
     "execution_count": 42,
     "metadata": {},
     "output_type": "execute_result"
    }
   ],
   "source": [
    "len(df_sachin[(df_sachin[\"sixes\"]==3) & (df_sachin[\"sixes\"]==5)])"
   ]
  }
 ],
 "metadata": {
  "kernelspec": {
   "display_name": "Python 3 (ipykernel)",
   "language": "python",
   "name": "python3"
  },
  "language_info": {
   "codemirror_mode": {
    "name": "ipython",
    "version": 3
   },
   "file_extension": ".py",
   "mimetype": "text/x-python",
   "name": "python",
   "nbconvert_exporter": "python",
   "pygments_lexer": "ipython3",
   "version": "3.7.16"
  }
 },
 "nbformat": 4,
 "nbformat_minor": 5
}
