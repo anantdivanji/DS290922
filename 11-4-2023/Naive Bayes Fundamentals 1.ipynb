{
 "cells": [
  {
   "cell_type": "markdown",
   "metadata": {},
   "source": [
    "### Objective\n",
    "* Probability Fundamentals\n",
    "* Conditional Probability\n",
    "* Bayes Theorm\n",
    "* Naive Bayes\n",
    "* Naive Bayes Maths \n",
    "\n",
    "<hr>"
   ]
  },
  {
   "cell_type": "markdown",
   "metadata": {},
   "source": [
    "### Probability\n",
    "\n",
    "* Probability of an event happening =  Number of ways it can happen/Total number of outcomes\n",
    "\n",
    "* Independent Events - Events are not affected by previous events.\n",
    "\n",
    "* Dependent Events - where what happens depends on what happened before, such as taking cards from a deck makes less cards each time.\n",
    "\n",
    "<img src=\"https://github.com/edyoda/Data-Scientist-program/blob/master/Assignment/images/de.png?raw=true\">"
   ]
  },
  {
   "cell_type": "markdown",
   "metadata": {},
   "source": [
    "<img src=\"https://github.com/edyoda/Data-Scientist-program/blob/master/Assignment/images/chain-rule.png?raw=true\">"
   ]
  },
  {
   "cell_type": "markdown",
   "metadata": {},
   "source": [
    "* P(A) means \"Probability Of Event A\"\n",
    "\n",
    "* In our marbles example Event A is \"get a Blue Marble first\" with a probability of 2/5:\n",
    "\n",
    "* P(A) = 2/5\n",
    "\n",
    "* And Event B is \"get a Blue Marble second\" ... but for that we have 2 choices:\n",
    "\n",
    "  - If we got a Blue Marble first the chance is now 1/4\n",
    "  - If we got a Red Marble first the chance is now 2/4\n",
    "* So we have to say which one we want, and use the symbol \"|\" to mean \"given\":\n",
    "\n",
    "* P(B|A) means \"Event B given Event A\"\n",
    "* In other words, event A has already happened, now what is the chance of event B?\n"
   ]
  },
  {
   "cell_type": "markdown",
   "metadata": {},
   "source": [
    "<img src=\"https://github.com/edyoda/Data-Scientist-program/blob/master/Assignment/images/cp2.png?raw=true\">"
   ]
  },
  {
   "cell_type": "markdown",
   "metadata": {},
   "source": [
    "<img src=\"https://github.com/edyoda/Data-Scientist-program/blob/master/Assignment/images/cp4.png?raw=true\">"
   ]
  },
  {
   "cell_type": "markdown",
   "metadata": {},
   "source": [
    "### Bayes Theorm\n",
    "\n",
    "<img src=\"https://github.com/edyoda/Data-Scientist-program/blob/master/Assignment/images/bayes.png?raw=true\">"
   ]
  },
  {
   "cell_type": "markdown",
   "metadata": {},
   "source": [
    "* Event A. dangerous fires are rare (1%)\n",
    "* Event B. but smoke is fairly common (10%) due to barbecues,\n",
    "* Event B|A. and 90% of dangerous fires make smoke\n",
    "* Event A|B. We can then discover the probability of dangerous Fire when there is Smoke:\n",
    "\n",
    "\n",
    "* P(Fire|Smoke) =\t P(Fire) P(Smoke|Fire) / P(Smoke) \n",
    "*               =\t 1% x 90%10% \n",
    "*               =\t9%"
   ]
  },
  {
   "cell_type": "markdown",
   "metadata": {},
   "source": [
    "## Naive Bayes\n",
    "\n",
    "<img src=\"https://github.com/edyoda/Data-Scientist-program/blob/master/Assignment/images/nb1.png?raw=true\">"
   ]
  },
  {
   "cell_type": "markdown",
   "metadata": {},
   "source": [
    "* The Naive Bayesian classifier is based on Bayes’ theorem with the independence assumptions between predictors.\n",
    "* A Naive Bayesian model is easy to build, with no complicated iterative parameter estimation which makes it particularly useful for very large datasets. \n",
    "* Despite its simplicity, the Naive Bayesian classifier often does surprisingly well and is widely used because it often outperforms more sophisticated classification methods.\n",
    "\n",
    "<b>Algorithm</b>\n",
    "* Bayes theorem provides a way of calculating the posterior probability, P(c|x), from P(c), P(x), and P(x|c). \n",
    "* Naive Bayes classifier assume that the effect of the value of a predictor (x) on a given class (c) is independent of the values of other predictors. \n",
    "* This assumption is called class conditional independence."
   ]
  },
  {
   "cell_type": "markdown",
   "metadata": {},
   "source": [
    "### Data"
   ]
  },
  {
   "cell_type": "markdown",
   "metadata": {},
   "source": [
    "<img src=\"https://github.com/edyoda/Data-Scientist-program/blob/master/Assignment/images/Data.png?raw=true\">"
   ]
  },
  {
   "cell_type": "markdown",
   "metadata": {},
   "source": [
    "<img src=\"https://github.com/edyoda/Data-Scientist-program/blob/master/Assignment/images/nb2.png?raw=true\">"
   ]
  },
  {
   "cell_type": "markdown",
   "metadata": {},
   "source": [
    "<img src=\"https://github.com/edyoda/Data-Scientist-program/blob/master/Assignment/images/nb3.png?raw=true\">"
   ]
  },
  {
   "cell_type": "markdown",
   "metadata": {},
   "source": [
    "<img src=\"https://github.com/edyoda/Data-Scientist-program/blob/master/Assignment/images/nb4.png?raw=true\">"
   ]
  },
  {
   "cell_type": "markdown",
   "metadata": {},
   "source": [
    "<img src=\"https://github.com/edyoda/Data-Scientist-program/blob/master/Assignment/images/nb5.png?raw=true\">"
   ]
  },
  {
   "cell_type": "markdown",
   "metadata": {},
   "source": [
    "### Q. Calculate for this\n",
    "* Outlook - Sunny\n",
    "* Temp - Cool\n",
    "* Humidity - Normal\n",
    "* Windy - False"
   ]
  },
  {
   "cell_type": "markdown",
   "metadata": {},
   "source": [
    "* P (Yes| X) = P (Sunny | Yes) * P(Cool | Yes) * P(Normal | Yes) * P(False | Yes)* P(Yes)\n",
    "*            = 3/9 * 3/9 * 6/9 * 6/9 * 9/14\n",
    "*            = "
   ]
  },
  {
   "cell_type": "markdown",
   "metadata": {},
   "source": [
    "* P (No| X) = P (Sunny | No) * P(Cool | No) * P(Normal | No) * P(False | No)* P(No)\n",
    "*           = 2/5 * 1/5 * 1/5 * 2/5 * 5/14\n",
    "*           = "
   ]
  },
  {
   "cell_type": "code",
   "execution_count": 1,
   "metadata": {},
   "outputs": [
    {
     "data": {
      "text/plain": [
       "0.031746031746031744"
      ]
     },
     "execution_count": 1,
     "metadata": {},
     "output_type": "execute_result"
    }
   ],
   "source": [
    "3/9 * 3/9 * 6/9 * 6/9 * 9/14"
   ]
  },
  {
   "cell_type": "code",
   "execution_count": 2,
   "metadata": {},
   "outputs": [
    {
     "data": {
      "text/plain": [
       "0.002285714285714286"
      ]
     },
     "execution_count": 2,
     "metadata": {},
     "output_type": "execute_result"
    }
   ],
   "source": [
    "2/5 * 1/5 * 1/5 * 2/5 * 5/14"
   ]
  },
  {
   "cell_type": "code",
   "execution_count": 5,
   "metadata": {},
   "outputs": [
    {
     "data": {
      "text/plain": [
       "0.9328358208955223"
      ]
     },
     "execution_count": 5,
     "metadata": {},
     "output_type": "execute_result"
    }
   ],
   "source": [
    "0.031746031746031744/(0.031746031746031744 + 0.002285714285714286)"
   ]
  },
  {
   "cell_type": "code",
   "execution_count": 6,
   "metadata": {},
   "outputs": [
    {
     "data": {
      "text/plain": [
       "0.06716417910447761"
      ]
     },
     "execution_count": 6,
     "metadata": {},
     "output_type": "execute_result"
    }
   ],
   "source": [
    "0.002285714285714286/(0.031746031746031744 + 0.002285714285714286)"
   ]
  },
  {
   "cell_type": "markdown",
   "metadata": {},
   "source": [
    "### Interview Question Alert\n",
    "* Is it fine if feature cols are dependent ?"
   ]
  },
  {
   "cell_type": "markdown",
   "metadata": {},
   "source": [
    "### Three types of Naive Bayes\n",
    "* Gaussian Naive Bayes - Feature columns are normal distribution\n",
    "* Multinomial Naive bayes - Feature columns are counters\n",
    "* Bernouli's Naive bayes - Feature columns are boolean"
   ]
  },
  {
   "cell_type": "code",
   "execution_count": 8,
   "metadata": {},
   "outputs": [],
   "source": [
    "from sklearn.naive_bayes import GaussianNB, MultinomialNB, BernoulliNB"
   ]
  },
  {
   "cell_type": "code",
   "execution_count": null,
   "metadata": {},
   "outputs": [],
   "source": []
  }
 ],
 "metadata": {
  "kernelspec": {
   "display_name": "Python 3",
   "language": "python",
   "name": "python3"
  },
  "language_info": {
   "codemirror_mode": {
    "name": "ipython",
    "version": 3
   },
   "file_extension": ".py",
   "mimetype": "text/x-python",
   "name": "python",
   "nbconvert_exporter": "python",
   "pygments_lexer": "ipython3",
   "version": "3.7.3"
  }
 },
 "nbformat": 4,
 "nbformat_minor": 2
}
