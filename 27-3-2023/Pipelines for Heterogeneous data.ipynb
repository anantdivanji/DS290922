{
 "cells": [
  {
   "cell_type": "markdown",
   "id": "8b0ec814",
   "metadata": {},
   "source": [
    "## Loading the standard libraries"
   ]
  },
  {
   "cell_type": "code",
   "execution_count": 1,
   "id": "2192f757",
   "metadata": {},
   "outputs": [],
   "source": [
    "import pandas as pd\n",
    "import numpy as np\n",
    "import matplotlib.pyplot as plt\n",
    "import seaborn as sns\n",
    "import warnings\n",
    "warnings.filterwarnings('ignore')"
   ]
  },
  {
   "cell_type": "markdown",
   "id": "87546fe2",
   "metadata": {},
   "source": [
    "## Loading the data"
   ]
  },
  {
   "cell_type": "code",
   "execution_count": 2,
   "id": "734bffb1",
   "metadata": {},
   "outputs": [
    {
     "data": {
      "text/html": [
       "<div>\n",
       "<style scoped>\n",
       "    .dataframe tbody tr th:only-of-type {\n",
       "        vertical-align: middle;\n",
       "    }\n",
       "\n",
       "    .dataframe tbody tr th {\n",
       "        vertical-align: top;\n",
       "    }\n",
       "\n",
       "    .dataframe thead th {\n",
       "        text-align: right;\n",
       "    }\n",
       "</style>\n",
       "<table border=\"1\" class=\"dataframe\">\n",
       "  <thead>\n",
       "    <tr style=\"text-align: right;\">\n",
       "      <th></th>\n",
       "      <th>Category</th>\n",
       "      <th>Message</th>\n",
       "    </tr>\n",
       "  </thead>\n",
       "  <tbody>\n",
       "    <tr>\n",
       "      <th>0</th>\n",
       "      <td>ham</td>\n",
       "      <td>Go until jurong point, crazy.. Available only ...</td>\n",
       "    </tr>\n",
       "    <tr>\n",
       "      <th>1</th>\n",
       "      <td>ham</td>\n",
       "      <td>Ok lar... Joking wif u oni...</td>\n",
       "    </tr>\n",
       "    <tr>\n",
       "      <th>2</th>\n",
       "      <td>spam</td>\n",
       "      <td>Free entry in 2 a wkly comp to win FA Cup fina...</td>\n",
       "    </tr>\n",
       "    <tr>\n",
       "      <th>3</th>\n",
       "      <td>ham</td>\n",
       "      <td>U dun say so early hor... U c already then say...</td>\n",
       "    </tr>\n",
       "    <tr>\n",
       "      <th>4</th>\n",
       "      <td>ham</td>\n",
       "      <td>Nah I don't think he goes to usf, he lives aro...</td>\n",
       "    </tr>\n",
       "  </tbody>\n",
       "</table>\n",
       "</div>"
      ],
      "text/plain": [
       "  Category                                            Message\n",
       "0      ham  Go until jurong point, crazy.. Available only ...\n",
       "1      ham                      Ok lar... Joking wif u oni...\n",
       "2     spam  Free entry in 2 a wkly comp to win FA Cup fina...\n",
       "3      ham  U dun say so early hor... U c already then say...\n",
       "4      ham  Nah I don't think he goes to usf, he lives aro..."
      ]
     },
     "execution_count": 2,
     "metadata": {},
     "output_type": "execute_result"
    }
   ],
   "source": [
    "data = pd.read_csv('spam.csv')\n",
    "data.head()"
   ]
  },
  {
   "cell_type": "code",
   "execution_count": 3,
   "id": "2da885ad",
   "metadata": {},
   "outputs": [
    {
     "data": {
      "text/plain": [
       "(5572, 2)"
      ]
     },
     "execution_count": 3,
     "metadata": {},
     "output_type": "execute_result"
    }
   ],
   "source": [
    "data.shape"
   ]
  },
  {
   "cell_type": "code",
   "execution_count": 4,
   "id": "46c7d809",
   "metadata": {},
   "outputs": [
    {
     "data": {
      "text/html": [
       "<div>\n",
       "<style scoped>\n",
       "    .dataframe tbody tr th:only-of-type {\n",
       "        vertical-align: middle;\n",
       "    }\n",
       "\n",
       "    .dataframe tbody tr th {\n",
       "        vertical-align: top;\n",
       "    }\n",
       "\n",
       "    .dataframe thead th {\n",
       "        text-align: right;\n",
       "    }\n",
       "</style>\n",
       "<table border=\"1\" class=\"dataframe\">\n",
       "  <thead>\n",
       "    <tr style=\"text-align: right;\">\n",
       "      <th></th>\n",
       "      <th>Message</th>\n",
       "      <th>Category</th>\n",
       "    </tr>\n",
       "  </thead>\n",
       "  <tbody>\n",
       "    <tr>\n",
       "      <th>0</th>\n",
       "      <td>Go until jurong point, crazy.. Available only ...</td>\n",
       "      <td>ham</td>\n",
       "    </tr>\n",
       "    <tr>\n",
       "      <th>1</th>\n",
       "      <td>Ok lar... Joking wif u oni...</td>\n",
       "      <td>ham</td>\n",
       "    </tr>\n",
       "    <tr>\n",
       "      <th>2</th>\n",
       "      <td>Free entry in 2 a wkly comp to win FA Cup fina...</td>\n",
       "      <td>spam</td>\n",
       "    </tr>\n",
       "    <tr>\n",
       "      <th>3</th>\n",
       "      <td>U dun say so early hor... U c already then say...</td>\n",
       "      <td>ham</td>\n",
       "    </tr>\n",
       "    <tr>\n",
       "      <th>4</th>\n",
       "      <td>Nah I don't think he goes to usf, he lives aro...</td>\n",
       "      <td>ham</td>\n",
       "    </tr>\n",
       "  </tbody>\n",
       "</table>\n",
       "</div>"
      ],
      "text/plain": [
       "                                             Message Category\n",
       "0  Go until jurong point, crazy.. Available only ...      ham\n",
       "1                      Ok lar... Joking wif u oni...      ham\n",
       "2  Free entry in 2 a wkly comp to win FA Cup fina...     spam\n",
       "3  U dun say so early hor... U c already then say...      ham\n",
       "4  Nah I don't think he goes to usf, he lives aro...      ham"
      ]
     },
     "execution_count": 4,
     "metadata": {},
     "output_type": "execute_result"
    }
   ],
   "source": [
    "data = data[['Message', 'Category']]\n",
    "data.head()"
   ]
  },
  {
   "cell_type": "markdown",
   "id": "5c55e0cc",
   "metadata": {},
   "source": [
    "## Converting the Category to numerical"
   ]
  },
  {
   "cell_type": "code",
   "execution_count": 5,
   "id": "a1b5f58c",
   "metadata": {},
   "outputs": [
    {
     "data": {
      "text/html": [
       "<div>\n",
       "<style scoped>\n",
       "    .dataframe tbody tr th:only-of-type {\n",
       "        vertical-align: middle;\n",
       "    }\n",
       "\n",
       "    .dataframe tbody tr th {\n",
       "        vertical-align: top;\n",
       "    }\n",
       "\n",
       "    .dataframe thead th {\n",
       "        text-align: right;\n",
       "    }\n",
       "</style>\n",
       "<table border=\"1\" class=\"dataframe\">\n",
       "  <thead>\n",
       "    <tr style=\"text-align: right;\">\n",
       "      <th></th>\n",
       "      <th>Message</th>\n",
       "      <th>Category</th>\n",
       "    </tr>\n",
       "  </thead>\n",
       "  <tbody>\n",
       "    <tr>\n",
       "      <th>0</th>\n",
       "      <td>Go until jurong point, crazy.. Available only ...</td>\n",
       "      <td>0</td>\n",
       "    </tr>\n",
       "    <tr>\n",
       "      <th>1</th>\n",
       "      <td>Ok lar... Joking wif u oni...</td>\n",
       "      <td>0</td>\n",
       "    </tr>\n",
       "    <tr>\n",
       "      <th>2</th>\n",
       "      <td>Free entry in 2 a wkly comp to win FA Cup fina...</td>\n",
       "      <td>1</td>\n",
       "    </tr>\n",
       "    <tr>\n",
       "      <th>3</th>\n",
       "      <td>U dun say so early hor... U c already then say...</td>\n",
       "      <td>0</td>\n",
       "    </tr>\n",
       "    <tr>\n",
       "      <th>4</th>\n",
       "      <td>Nah I don't think he goes to usf, he lives aro...</td>\n",
       "      <td>0</td>\n",
       "    </tr>\n",
       "  </tbody>\n",
       "</table>\n",
       "</div>"
      ],
      "text/plain": [
       "                                             Message  Category\n",
       "0  Go until jurong point, crazy.. Available only ...         0\n",
       "1                      Ok lar... Joking wif u oni...         0\n",
       "2  Free entry in 2 a wkly comp to win FA Cup fina...         1\n",
       "3  U dun say so early hor... U c already then say...         0\n",
       "4  Nah I don't think he goes to usf, he lives aro...         0"
      ]
     },
     "execution_count": 5,
     "metadata": {},
     "output_type": "execute_result"
    }
   ],
   "source": [
    "cat_labels = {'ham' : 0, 'spam' : 1}\n",
    "data = data.replace({'Category' : cat_labels})\n",
    "data.head()"
   ]
  },
  {
   "cell_type": "markdown",
   "id": "1eb6cea1",
   "metadata": {},
   "source": [
    "## In order to apply Machine Learning Classification algorithms on this data, we see that Message feature is not numerical.\n",
    "\n",
    "### So the task is to convert the Message column into a numerical column."
   ]
  },
  {
   "cell_type": "markdown",
   "id": "46637416",
   "metadata": {},
   "source": [
    "### On Message feature, we cannot apply Label Encoding or One Hot Encoding. as it is a text feature and not categorical feature\n",
    "\n",
    "- Note : Label Encoding and One Hot Encoding is applied only on Categorical features"
   ]
  },
  {
   "cell_type": "markdown",
   "id": "7e0f1c6f",
   "metadata": {},
   "source": [
    "#### Then How to perform preprocessing of the Message Feature? - CountVectorizer"
   ]
  },
  {
   "cell_type": "markdown",
   "id": "c7682fa6",
   "metadata": {},
   "source": [
    "# Example for countvectorizer"
   ]
  },
  {
   "cell_type": "code",
   "execution_count": 6,
   "id": "0b894a0d",
   "metadata": {},
   "outputs": [
    {
     "data": {
      "text/plain": [
       "['It was the best of times',\n",
       " 'The Times of India',\n",
       " 'India is an incredible nation',\n",
       " 'I am living in India']"
      ]
     },
     "execution_count": 6,
     "metadata": {},
     "output_type": "execute_result"
    }
   ],
   "source": [
    "text = ['It was the best of times', 'The Times of India', 'India is an incredible nation', 'I am living in India']\n",
    "text"
   ]
  },
  {
   "cell_type": "code",
   "execution_count": 7,
   "id": "51a851e0",
   "metadata": {},
   "outputs": [],
   "source": [
    "from sklearn.feature_extraction.text import CountVectorizer\n",
    "vec = CountVectorizer()"
   ]
  },
  {
   "cell_type": "code",
   "execution_count": 8,
   "id": "7c324607",
   "metadata": {},
   "outputs": [
    {
     "data": {
      "text/plain": [
       "CountVectorizer()"
      ]
     },
     "execution_count": 8,
     "metadata": {},
     "output_type": "execute_result"
    }
   ],
   "source": [
    "## Applying count vectorizer on text\n",
    "vec.fit(text)"
   ]
  },
  {
   "cell_type": "code",
   "execution_count": 9,
   "id": "d95780f1",
   "metadata": {},
   "outputs": [
    {
     "data": {
      "text/plain": [
       "{'it': 7,\n",
       " 'was': 13,\n",
       " 'the': 11,\n",
       " 'best': 2,\n",
       " 'of': 10,\n",
       " 'times': 12,\n",
       " 'india': 5,\n",
       " 'is': 6,\n",
       " 'an': 1,\n",
       " 'incredible': 4,\n",
       " 'nation': 9,\n",
       " 'am': 0,\n",
       " 'living': 8,\n",
       " 'in': 3}"
      ]
     },
     "execution_count": 9,
     "metadata": {},
     "output_type": "execute_result"
    }
   ],
   "source": [
    "vec.vocabulary_"
   ]
  },
  {
   "cell_type": "code",
   "execution_count": 10,
   "id": "3c224e9e",
   "metadata": {},
   "outputs": [
    {
     "data": {
      "text/plain": [
       "['am',\n",
       " 'an',\n",
       " 'best',\n",
       " 'in',\n",
       " 'incredible',\n",
       " 'india',\n",
       " 'is',\n",
       " 'it',\n",
       " 'living',\n",
       " 'nation',\n",
       " 'of',\n",
       " 'the',\n",
       " 'times',\n",
       " 'was']"
      ]
     },
     "execution_count": 10,
     "metadata": {},
     "output_type": "execute_result"
    }
   ],
   "source": [
    "sorted(vec.vocabulary_)"
   ]
  },
  {
   "cell_type": "code",
   "execution_count": 11,
   "id": "cc22fa66",
   "metadata": {},
   "outputs": [
    {
     "data": {
      "text/plain": [
       "<4x14 sparse matrix of type '<class 'numpy.int64'>'\n",
       "\twith 19 stored elements in Compressed Sparse Row format>"
      ]
     },
     "execution_count": 11,
     "metadata": {},
     "output_type": "execute_result"
    }
   ],
   "source": [
    "## Transform the text by applying countvectorizer on the text\n",
    "\n",
    "vec.transform(text)"
   ]
  },
  {
   "cell_type": "code",
   "execution_count": 12,
   "id": "de3aba23",
   "metadata": {},
   "outputs": [
    {
     "data": {
      "text/plain": [
       "array([[0, 0, 1, 0, 0, 0, 0, 1, 0, 0, 1, 1, 1, 1],\n",
       "       [0, 0, 0, 0, 0, 1, 0, 0, 0, 0, 1, 1, 1, 0],\n",
       "       [0, 1, 0, 0, 1, 1, 1, 0, 0, 1, 0, 0, 0, 0],\n",
       "       [1, 0, 0, 1, 0, 1, 0, 0, 1, 0, 0, 0, 0, 0]], dtype=int64)"
      ]
     },
     "execution_count": 12,
     "metadata": {},
     "output_type": "execute_result"
    }
   ],
   "source": [
    "vec.transform(text).toarray()"
   ]
  },
  {
   "cell_type": "code",
   "execution_count": 13,
   "id": "85909da7",
   "metadata": {},
   "outputs": [
    {
     "data": {
      "text/html": [
       "<div>\n",
       "<style scoped>\n",
       "    .dataframe tbody tr th:only-of-type {\n",
       "        vertical-align: middle;\n",
       "    }\n",
       "\n",
       "    .dataframe tbody tr th {\n",
       "        vertical-align: top;\n",
       "    }\n",
       "\n",
       "    .dataframe thead th {\n",
       "        text-align: right;\n",
       "    }\n",
       "</style>\n",
       "<table border=\"1\" class=\"dataframe\">\n",
       "  <thead>\n",
       "    <tr style=\"text-align: right;\">\n",
       "      <th></th>\n",
       "      <th>am</th>\n",
       "      <th>an</th>\n",
       "      <th>best</th>\n",
       "      <th>in</th>\n",
       "      <th>incredible</th>\n",
       "      <th>india</th>\n",
       "      <th>is</th>\n",
       "      <th>it</th>\n",
       "      <th>living</th>\n",
       "      <th>nation</th>\n",
       "      <th>of</th>\n",
       "      <th>the</th>\n",
       "      <th>times</th>\n",
       "      <th>was</th>\n",
       "    </tr>\n",
       "  </thead>\n",
       "  <tbody>\n",
       "    <tr>\n",
       "      <th>0</th>\n",
       "      <td>0</td>\n",
       "      <td>0</td>\n",
       "      <td>1</td>\n",
       "      <td>0</td>\n",
       "      <td>0</td>\n",
       "      <td>0</td>\n",
       "      <td>0</td>\n",
       "      <td>1</td>\n",
       "      <td>0</td>\n",
       "      <td>0</td>\n",
       "      <td>1</td>\n",
       "      <td>1</td>\n",
       "      <td>1</td>\n",
       "      <td>1</td>\n",
       "    </tr>\n",
       "    <tr>\n",
       "      <th>1</th>\n",
       "      <td>0</td>\n",
       "      <td>0</td>\n",
       "      <td>0</td>\n",
       "      <td>0</td>\n",
       "      <td>0</td>\n",
       "      <td>1</td>\n",
       "      <td>0</td>\n",
       "      <td>0</td>\n",
       "      <td>0</td>\n",
       "      <td>0</td>\n",
       "      <td>1</td>\n",
       "      <td>1</td>\n",
       "      <td>1</td>\n",
       "      <td>0</td>\n",
       "    </tr>\n",
       "    <tr>\n",
       "      <th>2</th>\n",
       "      <td>0</td>\n",
       "      <td>1</td>\n",
       "      <td>0</td>\n",
       "      <td>0</td>\n",
       "      <td>1</td>\n",
       "      <td>1</td>\n",
       "      <td>1</td>\n",
       "      <td>0</td>\n",
       "      <td>0</td>\n",
       "      <td>1</td>\n",
       "      <td>0</td>\n",
       "      <td>0</td>\n",
       "      <td>0</td>\n",
       "      <td>0</td>\n",
       "    </tr>\n",
       "    <tr>\n",
       "      <th>3</th>\n",
       "      <td>1</td>\n",
       "      <td>0</td>\n",
       "      <td>0</td>\n",
       "      <td>1</td>\n",
       "      <td>0</td>\n",
       "      <td>1</td>\n",
       "      <td>0</td>\n",
       "      <td>0</td>\n",
       "      <td>1</td>\n",
       "      <td>0</td>\n",
       "      <td>0</td>\n",
       "      <td>0</td>\n",
       "      <td>0</td>\n",
       "      <td>0</td>\n",
       "    </tr>\n",
       "  </tbody>\n",
       "</table>\n",
       "</div>"
      ],
      "text/plain": [
       "   am  an  best  in  incredible  india  is  it  living  nation  of  the  \\\n",
       "0   0   0     1   0           0      0   0   1       0       0   1    1   \n",
       "1   0   0     0   0           0      1   0   0       0       0   1    1   \n",
       "2   0   1     0   0           1      1   1   0       0       1   0    0   \n",
       "3   1   0     0   1           0      1   0   0       1       0   0    0   \n",
       "\n",
       "   times  was  \n",
       "0      1    1  \n",
       "1      1    0  \n",
       "2      0    0  \n",
       "3      0    0  "
      ]
     },
     "execution_count": 13,
     "metadata": {},
     "output_type": "execute_result"
    }
   ],
   "source": [
    "op = pd.DataFrame(vec.transform(text).toarray(), columns = vec.get_feature_names())\n",
    "op"
   ]
  },
  {
   "cell_type": "code",
   "execution_count": 14,
   "id": "aa76684d",
   "metadata": {},
   "outputs": [
    {
     "data": {
      "text/plain": [
       "<1x14 sparse matrix of type '<class 'numpy.int64'>'\n",
       "\twith 2 stored elements in Compressed Sparse Row format>"
      ]
     },
     "execution_count": 14,
     "metadata": {},
     "output_type": "execute_result"
    }
   ],
   "source": [
    "## Perform CountVec Encoding for a new document\n",
    "text2 = ['Indian is a great nation']\n",
    "vec2 = vec.transform(text2)\n",
    "vec2"
   ]
  },
  {
   "cell_type": "code",
   "execution_count": 15,
   "id": "6ac9e389",
   "metadata": {},
   "outputs": [
    {
     "data": {
      "text/plain": [
       "array([[0, 0, 0, 0, 0, 0, 1, 0, 0, 1, 0, 0, 0, 0]], dtype=int64)"
      ]
     },
     "execution_count": 15,
     "metadata": {},
     "output_type": "execute_result"
    }
   ],
   "source": [
    "vec2.toarray()"
   ]
  },
  {
   "cell_type": "code",
   "execution_count": 16,
   "id": "71da8acd",
   "metadata": {},
   "outputs": [
    {
     "data": {
      "text/html": [
       "<div>\n",
       "<style scoped>\n",
       "    .dataframe tbody tr th:only-of-type {\n",
       "        vertical-align: middle;\n",
       "    }\n",
       "\n",
       "    .dataframe tbody tr th {\n",
       "        vertical-align: top;\n",
       "    }\n",
       "\n",
       "    .dataframe thead th {\n",
       "        text-align: right;\n",
       "    }\n",
       "</style>\n",
       "<table border=\"1\" class=\"dataframe\">\n",
       "  <thead>\n",
       "    <tr style=\"text-align: right;\">\n",
       "      <th></th>\n",
       "      <th>am</th>\n",
       "      <th>an</th>\n",
       "      <th>best</th>\n",
       "      <th>in</th>\n",
       "      <th>incredible</th>\n",
       "      <th>india</th>\n",
       "      <th>is</th>\n",
       "      <th>it</th>\n",
       "      <th>living</th>\n",
       "      <th>nation</th>\n",
       "      <th>of</th>\n",
       "      <th>the</th>\n",
       "      <th>times</th>\n",
       "      <th>was</th>\n",
       "    </tr>\n",
       "  </thead>\n",
       "  <tbody>\n",
       "    <tr>\n",
       "      <th>0</th>\n",
       "      <td>0</td>\n",
       "      <td>0</td>\n",
       "      <td>0</td>\n",
       "      <td>0</td>\n",
       "      <td>0</td>\n",
       "      <td>0</td>\n",
       "      <td>1</td>\n",
       "      <td>0</td>\n",
       "      <td>0</td>\n",
       "      <td>1</td>\n",
       "      <td>0</td>\n",
       "      <td>0</td>\n",
       "      <td>0</td>\n",
       "      <td>0</td>\n",
       "    </tr>\n",
       "  </tbody>\n",
       "</table>\n",
       "</div>"
      ],
      "text/plain": [
       "   am  an  best  in  incredible  india  is  it  living  nation  of  the  \\\n",
       "0   0   0     0   0           0      0   1   0       0       1   0    0   \n",
       "\n",
       "   times  was  \n",
       "0      0    0  "
      ]
     },
     "execution_count": 16,
     "metadata": {},
     "output_type": "execute_result"
    }
   ],
   "source": [
    "op2 = pd.DataFrame(vec2.toarray(), columns = vec.get_feature_names())\n",
    "op2"
   ]
  },
  {
   "cell_type": "markdown",
   "id": "172c150e",
   "metadata": {},
   "source": [
    "# ======================================"
   ]
  },
  {
   "cell_type": "markdown",
   "id": "e0200c15",
   "metadata": {},
   "source": [
    "## Spam Ham Classification"
   ]
  },
  {
   "cell_type": "markdown",
   "id": "6072468c",
   "metadata": {},
   "source": [
    "## Seperate X and y"
   ]
  },
  {
   "cell_type": "code",
   "execution_count": 17,
   "id": "f38fc682",
   "metadata": {},
   "outputs": [],
   "source": [
    "X = data['Message']\n",
    "y = data['Category']"
   ]
  },
  {
   "cell_type": "markdown",
   "id": "4911b3c1",
   "metadata": {},
   "source": [
    "## Divide the data into train test split"
   ]
  },
  {
   "cell_type": "code",
   "execution_count": 18,
   "id": "6c986d2d",
   "metadata": {},
   "outputs": [],
   "source": [
    "from sklearn.model_selection import train_test_split\n",
    "X_train, X_test, y_train, y_test = train_test_split(X, y, test_size = 0.3)"
   ]
  },
  {
   "cell_type": "code",
   "execution_count": 19,
   "id": "1b14f57f",
   "metadata": {},
   "outputs": [
    {
     "data": {
      "text/plain": [
       "((3900,), (1672,))"
      ]
     },
     "execution_count": 19,
     "metadata": {},
     "output_type": "execute_result"
    }
   ],
   "source": [
    "X_train.shape, X_test.shape"
   ]
  },
  {
   "cell_type": "markdown",
   "id": "75785bfc",
   "metadata": {},
   "source": [
    "## Apply Count Vectorizor on Message Feature in both train and test data"
   ]
  },
  {
   "cell_type": "code",
   "execution_count": 20,
   "id": "5c39afd4",
   "metadata": {},
   "outputs": [],
   "source": [
    "from sklearn.feature_extraction.text import CountVectorizer\n",
    "ct_vec = CountVectorizer()"
   ]
  },
  {
   "cell_type": "code",
   "execution_count": 21,
   "id": "144450df",
   "metadata": {},
   "outputs": [
    {
     "data": {
      "text/plain": [
       "<3900x7053 sparse matrix of type '<class 'numpy.int64'>'\n",
       "\twith 51668 stored elements in Compressed Sparse Row format>"
      ]
     },
     "execution_count": 21,
     "metadata": {},
     "output_type": "execute_result"
    }
   ],
   "source": [
    "X_train_ct_vec = ct_vec.fit_transform(X_train)\n",
    "X_train_ct_vec"
   ]
  },
  {
   "cell_type": "code",
   "execution_count": 22,
   "id": "dfeb3479",
   "metadata": {},
   "outputs": [
    {
     "data": {
      "text/plain": [
       "<1672x7053 sparse matrix of type '<class 'numpy.int64'>'\n",
       "\twith 20578 stored elements in Compressed Sparse Row format>"
      ]
     },
     "execution_count": 22,
     "metadata": {},
     "output_type": "execute_result"
    }
   ],
   "source": [
    "X_test_ct_vec = ct_vec.transform(X_test)\n",
    "X_test_ct_vec"
   ]
  },
  {
   "cell_type": "markdown",
   "id": "314b189d",
   "metadata": {},
   "source": [
    "## Apply Logistic Regression on X_train_ct_vec and y_train"
   ]
  },
  {
   "cell_type": "code",
   "execution_count": 23,
   "id": "21415c19",
   "metadata": {},
   "outputs": [],
   "source": [
    "from sklearn.linear_model import LogisticRegression\n",
    "log_reg = LogisticRegression()"
   ]
  },
  {
   "cell_type": "code",
   "execution_count": 24,
   "id": "b240ebdb",
   "metadata": {},
   "outputs": [
    {
     "data": {
      "text/plain": [
       "LogisticRegression()"
      ]
     },
     "execution_count": 24,
     "metadata": {},
     "output_type": "execute_result"
    }
   ],
   "source": [
    "log_reg.fit(X_train_ct_vec, y_train)"
   ]
  },
  {
   "cell_type": "code",
   "execution_count": 38,
   "id": "384aece7",
   "metadata": {},
   "outputs": [],
   "source": [
    "email_ham = [\n",
    "    'Even my brother is not like to speak with me. They treat me like aids patent.'   ## ham\n",
    "    ]\n",
    "email_spam = ['England v Macedonia - dont miss the goals/team news. Txt ur national team to 87077 eg ENGLAND to 87077 Try:WALES, SCOTLAND 4txt/Ãº1.20 POBOXox36504W45WQ 16+']   ## spam']"
   ]
  },
  {
   "cell_type": "code",
   "execution_count": 39,
   "id": "6802b16f",
   "metadata": {},
   "outputs": [
    {
     "data": {
      "text/plain": [
       "array([0], dtype=int64)"
      ]
     },
     "execution_count": 39,
     "metadata": {},
     "output_type": "execute_result"
    }
   ],
   "source": [
    "log_reg.predict(ct_vec.transform(email_ham))"
   ]
  },
  {
   "cell_type": "code",
   "execution_count": 40,
   "id": "e519d737",
   "metadata": {},
   "outputs": [
    {
     "data": {
      "text/plain": [
       "array([1], dtype=int64)"
      ]
     },
     "execution_count": 40,
     "metadata": {},
     "output_type": "execute_result"
    }
   ],
   "source": [
    "log_reg.predict(ct_vec.transform(email_spam))"
   ]
  },
  {
   "cell_type": "markdown",
   "id": "5bc0b28a",
   "metadata": {},
   "source": [
    "## Prediction on the test data"
   ]
  },
  {
   "cell_type": "code",
   "execution_count": 28,
   "id": "86282ba4",
   "metadata": {},
   "outputs": [
    {
     "data": {
      "text/plain": [
       "array([0, 0, 0, ..., 0, 1, 0], dtype=int64)"
      ]
     },
     "execution_count": 28,
     "metadata": {},
     "output_type": "execute_result"
    }
   ],
   "source": [
    "y_pred = log_reg.predict(X_test_ct_vec)\n",
    "y_pred"
   ]
  },
  {
   "cell_type": "markdown",
   "id": "d06d7bab",
   "metadata": {},
   "source": [
    "## Evaluation step"
   ]
  },
  {
   "cell_type": "code",
   "execution_count": 29,
   "id": "bf1b2f73",
   "metadata": {},
   "outputs": [
    {
     "data": {
      "text/plain": [
       "0.9796650717703349"
      ]
     },
     "execution_count": 29,
     "metadata": {},
     "output_type": "execute_result"
    }
   ],
   "source": [
    "from sklearn.metrics import accuracy_score\n",
    "accuracy_score(y_pred, y_test)"
   ]
  },
  {
   "cell_type": "markdown",
   "id": "fd5e0771",
   "metadata": {},
   "source": [
    "## Pipeline Approach"
   ]
  },
  {
   "cell_type": "markdown",
   "id": "4ad107d8",
   "metadata": {},
   "source": [
    "#### Define the steps"
   ]
  },
  {
   "cell_type": "code",
   "execution_count": 41,
   "id": "42b0ec8f",
   "metadata": {},
   "outputs": [],
   "source": [
    "steps = [('ct_vectorizer', ct_vec), ('logisticregression', log_reg)]"
   ]
  },
  {
   "cell_type": "markdown",
   "id": "3ab97d14",
   "metadata": {},
   "source": [
    "#### Create a pipeline from steps"
   ]
  },
  {
   "cell_type": "code",
   "execution_count": 42,
   "id": "d0cf0a15",
   "metadata": {},
   "outputs": [],
   "source": [
    "from sklearn.pipeline import Pipeline\n",
    "pipe = Pipeline(steps)"
   ]
  },
  {
   "cell_type": "markdown",
   "id": "05d0b93d",
   "metadata": {},
   "source": [
    "### Fit the pipeline on data"
   ]
  },
  {
   "cell_type": "code",
   "execution_count": 43,
   "id": "599bfacf",
   "metadata": {},
   "outputs": [
    {
     "data": {
      "text/plain": [
       "Pipeline(steps=[('ct_vectorizer', CountVectorizer()),\n",
       "                ('logisticregression', LogisticRegression())])"
      ]
     },
     "execution_count": 43,
     "metadata": {},
     "output_type": "execute_result"
    }
   ],
   "source": [
    "pipe.fit(X_train, y_train)"
   ]
  },
  {
   "cell_type": "code",
   "execution_count": 44,
   "id": "d5c8827b",
   "metadata": {},
   "outputs": [
    {
     "data": {
      "text/plain": [
       "0.9796650717703349"
      ]
     },
     "execution_count": 44,
     "metadata": {},
     "output_type": "execute_result"
    }
   ],
   "source": [
    "pipe.score(X_test, y_test)"
   ]
  },
  {
   "cell_type": "code",
   "execution_count": 45,
   "id": "746fc6d2",
   "metadata": {},
   "outputs": [
    {
     "data": {
      "text/plain": [
       "array([0], dtype=int64)"
      ]
     },
     "execution_count": 45,
     "metadata": {},
     "output_type": "execute_result"
    }
   ],
   "source": [
    "pipe.predict(email_ham)"
   ]
  },
  {
   "cell_type": "code",
   "execution_count": 46,
   "id": "7316a5dd",
   "metadata": {},
   "outputs": [
    {
     "data": {
      "text/plain": [
       "array([1], dtype=int64)"
      ]
     },
     "execution_count": 46,
     "metadata": {},
     "output_type": "execute_result"
    }
   ],
   "source": [
    "pipe.predict(email_spam)"
   ]
  },
  {
   "cell_type": "markdown",
   "id": "868e2ae6",
   "metadata": {},
   "source": [
    "## Shortcut method using make_pipeline"
   ]
  },
  {
   "cell_type": "code",
   "execution_count": 47,
   "id": "62ca931a",
   "metadata": {},
   "outputs": [
    {
     "data": {
      "text/plain": [
       "Pipeline(steps=[('countvectorizer', CountVectorizer()),\n",
       "                ('logisticregression', LogisticRegression())])"
      ]
     },
     "execution_count": 47,
     "metadata": {},
     "output_type": "execute_result"
    }
   ],
   "source": [
    "from sklearn.pipeline import make_pipeline\n",
    "mk_pipe = make_pipeline(CountVectorizer(), LogisticRegression())\n",
    "mk_pipe.fit(X_train, y_train)"
   ]
  },
  {
   "cell_type": "code",
   "execution_count": 48,
   "id": "1b6f96f5",
   "metadata": {},
   "outputs": [
    {
     "data": {
      "text/plain": [
       "0.9796650717703349"
      ]
     },
     "execution_count": 48,
     "metadata": {},
     "output_type": "execute_result"
    }
   ],
   "source": [
    "mk_pipe.score(X_test, y_test)"
   ]
  },
  {
   "cell_type": "markdown",
   "id": "41fbc337",
   "metadata": {},
   "source": [
    "### How to use make pipeline"
   ]
  },
  {
   "cell_type": "code",
   "execution_count": 49,
   "id": "d7293ba4",
   "metadata": {},
   "outputs": [],
   "source": [
    "## 1. SimpleImputer\n",
    "## 2. StandardScaler\n",
    "## 3. LabelEncoder\n",
    "## 4. CountVectorizer\n",
    "## 5. LogisticRegrssion"
   ]
  },
  {
   "cell_type": "code",
   "execution_count": 50,
   "id": "fbfe7a57",
   "metadata": {},
   "outputs": [],
   "source": [
    "steps = [(), (), (), (), ()]"
   ]
  },
  {
   "cell_type": "code",
   "execution_count": 52,
   "id": "19d02e7b",
   "metadata": {},
   "outputs": [],
   "source": [
    "from sklearn.impute import SimpleImputer\n",
    "from sklearn.preprocessing import StandardScaler\n",
    "from sklearn.preprocessing import LabelEncoder\n",
    "from sklearn.feature_extraction.text import CountVectorizer\n",
    "from sklearn.linear_model import LogisticRegression"
   ]
  },
  {
   "cell_type": "code",
   "execution_count": 53,
   "id": "8b1f8243",
   "metadata": {},
   "outputs": [],
   "source": [
    "from sklearn.pipeline import make_pipeline\n",
    "pipe = make_pipeline(SimpleImputer(), StandardScaler(), LabelEncoder(), CountVectorizer(), LogisticRegression())\n",
    "pipe.fit()"
   ]
  },
  {
   "cell_type": "code",
   "execution_count": null,
   "id": "e30e8c8d",
   "metadata": {},
   "outputs": [],
   "source": []
  }
 ],
 "metadata": {
  "kernelspec": {
   "display_name": "Python 3 (ipykernel)",
   "language": "python",
   "name": "python3"
  },
  "language_info": {
   "codemirror_mode": {
    "name": "ipython",
    "version": 3
   },
   "file_extension": ".py",
   "mimetype": "text/x-python",
   "name": "python",
   "nbconvert_exporter": "python",
   "pygments_lexer": "ipython3",
   "version": "3.9.12"
  }
 },
 "nbformat": 4,
 "nbformat_minor": 5
}
