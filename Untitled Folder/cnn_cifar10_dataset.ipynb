{
 "cells": [
  {
   "cell_type": "markdown",
   "metadata": {
    "id": "mVgWXCDauMsS"
   },
   "source": [
    "<h2 style='color:blue' align='center'>Small Image Classification Using Convolutional Neural Network (CNN)</h2>"
   ]
  },
  {
   "cell_type": "markdown",
   "metadata": {
    "id": "EnohZG2auMsU"
   },
   "source": [
    "In this notebook, we will classify small images cifar10 dataset from tensorflow keras datasets. There are total 10 classes as shown below. We will use CNN for classification"
   ]
  },
  {
   "cell_type": "markdown",
   "metadata": {
    "id": "nChLsBJ_uMsU"
   },
   "source": [
    "<img src=\"small_images.jpg\" />"
   ]
  },
  {
   "cell_type": "code",
   "execution_count": 2,
   "metadata": {
    "id": "gFeeIMkFuMsU"
   },
   "outputs": [],
   "source": [
    "import tensorflow as tf\n",
    "from tensorflow.keras import datasets, layers, models\n",
    "import matplotlib.pyplot as plt\n",
    "import numpy as np"
   ]
  },
  {
   "cell_type": "markdown",
   "metadata": {
    "id": "RejW4Tq2uMsV"
   },
   "source": [
    "<h4 style=\"color:purple\">Load the dataset</h4>"
   ]
  },
  {
   "cell_type": "code",
   "execution_count": 3,
   "metadata": {
    "colab": {
     "base_uri": "https://localhost:8080/"
    },
    "id": "GY7lQYv6uMsV",
    "outputId": "83b19378-8481-4f39-a30b-a96c1009f10b"
   },
   "outputs": [
    {
     "name": "stdout",
     "output_type": "stream",
     "text": [
      "Downloading data from https://www.cs.toronto.edu/~kriz/cifar-10-python.tar.gz\n",
      "170498071/170498071 [==============================] - 4s 0us/step\n"
     ]
    },
    {
     "data": {
      "text/plain": [
       "(50000, 32, 32, 3)"
      ]
     },
     "execution_count": 3,
     "metadata": {},
     "output_type": "execute_result"
    }
   ],
   "source": [
    "(X_train, y_train), (X_test,y_test) = datasets.cifar10.load_data()\n",
    "X_train.shape"
   ]
  },
  {
   "cell_type": "code",
   "execution_count": 4,
   "metadata": {
    "colab": {
     "base_uri": "https://localhost:8080/"
    },
    "id": "tVeip4A-uMsW",
    "outputId": "c90cb6df-04b8-4211-a24f-6dff18c573ad"
   },
   "outputs": [
    {
     "data": {
      "text/plain": [
       "(10000, 32, 32, 3)"
      ]
     },
     "execution_count": 4,
     "metadata": {},
     "output_type": "execute_result"
    }
   ],
   "source": [
    "X_test.shape"
   ]
  },
  {
   "cell_type": "markdown",
   "metadata": {
    "id": "GFdFieVvuMsW"
   },
   "source": [
    "Here we see there are 50000 training images and 1000 test images"
   ]
  },
  {
   "cell_type": "code",
   "execution_count": 5,
   "metadata": {
    "colab": {
     "base_uri": "https://localhost:8080/"
    },
    "id": "N7hEWKZIuMsW",
    "outputId": "c88d46ec-7962-47c8-805e-ea3ce0c9550f"
   },
   "outputs": [
    {
     "data": {
      "text/plain": [
       "(50000, 1)"
      ]
     },
     "execution_count": 5,
     "metadata": {},
     "output_type": "execute_result"
    }
   ],
   "source": [
    "y_train.shape"
   ]
  },
  {
   "cell_type": "code",
   "execution_count": 6,
   "metadata": {
    "colab": {
     "base_uri": "https://localhost:8080/"
    },
    "id": "AGVC2cQWuMsX",
    "outputId": "310e8287-84e6-45c8-ab7d-1f030d1da295"
   },
   "outputs": [
    {
     "data": {
      "text/plain": [
       "array([[6],\n",
       "       [9],\n",
       "       [9],\n",
       "       [4],\n",
       "       [1]], dtype=uint8)"
      ]
     },
     "execution_count": 6,
     "metadata": {},
     "output_type": "execute_result"
    }
   ],
   "source": [
    "y_train[:5]"
   ]
  },
  {
   "cell_type": "markdown",
   "metadata": {
    "id": "Hj3YZEpquMsX"
   },
   "source": [
    "y_train is a 2D array, for our classification having 1D array is good enough. so we will convert this to now 1D array"
   ]
  },
  {
   "cell_type": "code",
   "execution_count": 7,
   "metadata": {
    "colab": {
     "base_uri": "https://localhost:8080/"
    },
    "id": "RbgX_q5juMsX",
    "outputId": "25d2ecd4-fa14-4613-cae6-274febb23625",
    "scrolled": true
   },
   "outputs": [
    {
     "data": {
      "text/plain": [
       "array([6, 9, 9, 4, 1], dtype=uint8)"
      ]
     },
     "execution_count": 7,
     "metadata": {},
     "output_type": "execute_result"
    }
   ],
   "source": [
    "y_train = y_train.reshape(-1,)\n",
    "y_train[:5]"
   ]
  },
  {
   "cell_type": "code",
   "execution_count": 8,
   "metadata": {
    "id": "59hWIRZguMsX"
   },
   "outputs": [],
   "source": [
    "y_test = y_test.reshape(-1,)"
   ]
  },
  {
   "cell_type": "code",
   "execution_count": 9,
   "metadata": {
    "id": "MA0DA8mfuMsX"
   },
   "outputs": [],
   "source": [
    "classes = [\"airplane\",\"automobile\",\"bird\",\"cat\",\"deer\",\"dog\",\"frog\",\"horse\",\"ship\",\"truck\"]"
   ]
  },
  {
   "cell_type": "markdown",
   "metadata": {
    "id": "Gh0YepSfuMsY"
   },
   "source": [
    "Let's plot some images to see what they are "
   ]
  },
  {
   "cell_type": "code",
   "execution_count": 10,
   "metadata": {
    "id": "N8-h3FRkuMsY"
   },
   "outputs": [],
   "source": [
    "def plot_sample(X, y, index):\n",
    "    plt.figure(figsize = (15,2))\n",
    "    plt.imshow(X[index])\n",
    "    plt.xlabel(classes[y[index]])"
   ]
  },
  {
   "cell_type": "code",
   "execution_count": 11,
   "metadata": {
    "colab": {
     "base_uri": "https://localhost:8080/",
     "height": 237
    },
    "id": "RDXcEMjSuMsY",
    "outputId": "091d4624-cd07-4691-a9e6-992a5c7deaf4",
    "scrolled": true
   },
   "outputs": [
    {
     "data": {
      "image/png": "[encoded data removed]",
      "text/plain": [
       "<Figure size 1500x200 with 1 Axes>"
      ]
     },
     "metadata": {},
     "output_type": "display_data"
    }
   ],
   "source": [
    "plot_sample(X_train, y_train, 0)"
   ]
  },
  {
   "cell_type": "code",
   "execution_count": 12,
   "metadata": {
    "colab": {
     "base_uri": "https://localhost:8080/",
     "height": 237
    },
    "id": "ETXJmnKRuMsY",
    "outputId": "e25cbc7d-8cb9-4305-f0a8-550696e40112"
   },
   "outputs": [
    {
     "data": {
      "image/png": "[encoded data removed]",
      "text/plain": [
       "<Figure size 1500x200 with 1 Axes>"
      ]
     },
     "metadata": {},
     "output_type": "display_data"
    }
   ],
   "source": [
    "plot_sample(X_train, y_train, 1)"
   ]
  },
  {
   "cell_type": "markdown",
   "metadata": {
    "id": "UR_qiFQNuMsY"
   },
   "source": [
    "Normalize the images to a number from 0 to 1. Image has 3 channels (R,G,B) and each value in the channel can range from 0 to 255. Hence to normalize in 0-->1 range, we need to divide it by 255"
   ]
  },
  {
   "cell_type": "markdown",
   "metadata": {
    "id": "HgonLXBxuMsY"
   },
   "source": [
    "<h4 style=\"color:purple\">Normalizing the training data</h4>"
   ]
  },
  {
   "cell_type": "code",
   "execution_count": 13,
   "metadata": {
    "id": "RCFGYCPCuMsY"
   },
   "outputs": [],
   "source": [
    "X_train = X_train / 255.0\n",
    "X_test = X_test / 255.0"
   ]
  },
  {
   "cell_type": "markdown",
   "metadata": {
    "id": "_zwgINecuMsa"
   },
   "source": [
    "<h4 style=\"color:purple\">Now let us build a convolutional neural network to train our images</h4>"
   ]
  },
  {
   "cell_type": "code",
   "execution_count": 25,
   "metadata": {
    "id": "xi06VlT2uMsa"
   },
   "outputs": [],
   "source": [
    "cnn = models.Sequential([\n",
    "    layers.Conv2D(filters=32, kernel_size=(3, 3), activation='relu', input_shape=(32, 32, 3)),\n",
    "    layers.MaxPooling2D((2, 2)),\n",
    "    \n",
    "    #layers.Conv2D(filters=64, kernel_size=(3, 3), activation='relu'),\n",
    "    #layers.MaxPooling2D((2, 2)),\n",
    "    \n",
    "    #\n",
    "    layers.Flatten(),\n",
    "    #layers.Dense(64, activation='relu'),\n",
    "    #layers.Dense(10, activation='softmax')\n",
    "])"
   ]
  },
  {
   "cell_type": "code",
   "execution_count": 26,
   "metadata": {
    "id": "LxADRJVAuMsa"
   },
   "outputs": [],
   "source": [
    "cnn.compile(optimizer='adam',\n",
    "              loss='sparse_categorical_crossentropy',\n",
    "              metrics=['accuracy'])"
   ]
  },
  {
   "cell_type": "code",
   "execution_count": 27,
   "metadata": {
    "colab": {
     "base_uri": "https://localhost:8080/"
    },
    "id": "wl6a-OW4uMsa",
    "outputId": "f32c72c1-49e2-404c-f313-2ee0673284b7",
    "scrolled": false
   },
   "outputs": [
    {
     "name": "stdout",
     "output_type": "stream",
     "text": [
      "1563/1563 [==============================] - 8s 4ms/step - loss: 9.0606 - accuracy: 0.0030\n"
     ]
    },
    {
     "data": {
      "text/plain": [
       "<keras.callbacks.History at 0x7fa9e373c4f0>"
      ]
     },
     "execution_count": 27,
     "metadata": {},
     "output_type": "execute_result"
    }
   ],
   "source": [
    "cnn.fit(X_train, y_train)#, epochs=10)"
   ]
  },
  {
   "cell_type": "markdown",
   "metadata": {
    "id": "nb-DURS0uMsa"
   },
   "source": [
    "**With CNN, at the end 5 epochs, accuracy was at around 70% which is a significant improvement over ANN. CNN's are best for image classification and gives superb accuracy. Also computation is much less compared to simple ANN as maxpooling reduces the image dimensions while still preserving the features**"
   ]
  },
  {
   "cell_type": "code",
   "execution_count": 28,
   "metadata": {
    "colab": {
     "base_uri": "https://localhost:8080/"
    },
    "id": "sat_Bms7uMsb",
    "outputId": "858cc930-9a21-42a4-f1f8-838c966cc0f3",
    "scrolled": true
   },
   "outputs": [
    {
     "name": "stdout",
     "output_type": "stream",
     "text": [
      "313/313 [==============================] - 1s 3ms/step - loss: 9.0190 - accuracy: 0.0033\n"
     ]
    },
    {
     "data": {
      "text/plain": [
       "[9.019049644470215, 0.0032999999821186066]"
      ]
     },
     "execution_count": 28,
     "metadata": {},
     "output_type": "execute_result"
    }
   ],
   "source": [
    "cnn.evaluate(X_test,y_test)"
   ]
  },
  {
   "cell_type": "code",
   "execution_count": 18,
   "metadata": {
    "colab": {
     "base_uri": "https://localhost:8080/"
    },
    "id": "IdKhAnwEuMsb",
    "outputId": "eda4c563-69e0-4efc-8164-3479997febe3"
   },
   "outputs": [
    {
     "name": "stdout",
     "output_type": "stream",
     "text": [
      "313/313 [==============================] - 1s 2ms/step\n"
     ]
    },
    {
     "data": {
      "text/plain": [
       "array([[[[0.00000000e+00, 1.30927265e-01, 0.00000000e+00, ...,\n",
       "          0.00000000e+00, 0.00000000e+00, 4.01449651e-01],\n",
       "         [0.00000000e+00, 1.36379853e-01, 0.00000000e+00, ...,\n",
       "          0.00000000e+00, 0.00000000e+00, 4.13245320e-01],\n",
       "         [0.00000000e+00, 1.38429508e-01, 0.00000000e+00, ...,\n",
       "          0.00000000e+00, 0.00000000e+00, 4.18299437e-01],\n",
       "         ...,\n",
       "         [0.00000000e+00, 1.10375546e-01, 0.00000000e+00, ...,\n",
       "          0.00000000e+00, 0.00000000e+00, 3.60778600e-01],\n",
       "         [0.00000000e+00, 1.14797302e-01, 0.00000000e+00, ...,\n",
       "          0.00000000e+00, 0.00000000e+00, 3.50972295e-01],\n",
       "         [0.00000000e+00, 1.13300264e-01, 0.00000000e+00, ...,\n",
       "          0.00000000e+00, 0.00000000e+00, 3.52265030e-01]],\n",
       "\n",
       "        [[0.00000000e+00, 1.30446181e-01, 0.00000000e+00, ...,\n",
       "          0.00000000e+00, 0.00000000e+00, 3.88139844e-01],\n",
       "         [0.00000000e+00, 1.36918262e-01, 0.00000000e+00, ...,\n",
       "          0.00000000e+00, 0.00000000e+00, 4.04681534e-01],\n",
       "         [0.00000000e+00, 1.43381327e-01, 0.00000000e+00, ...,\n",
       "          0.00000000e+00, 0.00000000e+00, 4.17178363e-01],\n",
       "         ...,\n",
       "         [0.00000000e+00, 9.53220427e-02, 0.00000000e+00, ...,\n",
       "          0.00000000e+00, 9.55804624e-03, 2.82295436e-01],\n",
       "         [0.00000000e+00, 1.00730971e-01, 0.00000000e+00, ...,\n",
       "          0.00000000e+00, 0.00000000e+00, 3.41856778e-01],\n",
       "         [0.00000000e+00, 1.13090940e-01, 0.00000000e+00, ...,\n",
       "          0.00000000e+00, 0.00000000e+00, 3.59531820e-01]],\n",
       "\n",
       "        [[2.94710547e-02, 1.25120670e-01, 0.00000000e+00, ...,\n",
       "          0.00000000e+00, 4.00212109e-02, 3.31091285e-01],\n",
       "         [1.06939441e-02, 1.05728507e-01, 0.00000000e+00, ...,\n",
       "          0.00000000e+00, 0.00000000e+00, 3.95711303e-01],\n",
       "         [0.00000000e+00, 1.43733412e-01, 0.00000000e+00, ...,\n",
       "          0.00000000e+00, 0.00000000e+00, 4.12699699e-01],\n",
       "         ...,\n",
       "         [0.00000000e+00, 8.00831541e-02, 0.00000000e+00, ...,\n",
       "          0.00000000e+00, 3.75955515e-02, 3.16512257e-01],\n",
       "         [0.00000000e+00, 6.50369823e-02, 0.00000000e+00, ...,\n",
       "          0.00000000e+00, 7.57329538e-03, 2.67004490e-01],\n",
       "         [0.00000000e+00, 1.11595310e-01, 0.00000000e+00, ...,\n",
       "          0.00000000e+00, 0.00000000e+00, 3.59199733e-01]],\n",
       "\n",
       "        ...,\n",
       "\n",
       "        [[0.00000000e+00, 1.75192598e-02, 9.32770595e-02, ...,\n",
       "          0.00000000e+00, 1.20894849e-01, 3.99467528e-01],\n",
       "         [0.00000000e+00, 2.47701388e-02, 1.30492738e-02, ...,\n",
       "          0.00000000e+00, 9.23643112e-02, 4.86998051e-01],\n",
       "         [0.00000000e+00, 1.42644420e-01, 0.00000000e+00, ...,\n",
       "          0.00000000e+00, 0.00000000e+00, 7.67716646e-01],\n",
       "         ...,\n",
       "         [0.00000000e+00, 3.16917785e-02, 5.86638264e-02, ...,\n",
       "          0.00000000e+00, 1.07564203e-01, 3.94080877e-01],\n",
       "         [0.00000000e+00, 1.86979286e-02, 6.53927252e-02, ...,\n",
       "          0.00000000e+00, 6.30938560e-02, 4.60399479e-01],\n",
       "         [0.00000000e+00, 5.72974794e-02, 8.45878571e-02, ...,\n",
       "          0.00000000e+00, 9.42487195e-02, 4.87927943e-01]],\n",
       "\n",
       "        [[0.00000000e+00, 1.18823331e-02, 8.60238597e-02, ...,\n",
       "          0.00000000e+00, 1.22569352e-01, 4.11236018e-01],\n",
       "         [0.00000000e+00, 1.78789217e-02, 7.26641789e-02, ...,\n",
       "          0.00000000e+00, 9.36432406e-02, 3.62643689e-01],\n",
       "         [0.00000000e+00, 7.55221620e-02, 1.81446027e-03, ...,\n",
       "          0.00000000e+00, 8.09128806e-02, 6.07720494e-01],\n",
       "         ...,\n",
       "         [0.00000000e+00, 2.97811273e-02, 5.59077226e-02, ...,\n",
       "          0.00000000e+00, 8.56636688e-02, 4.68985409e-01],\n",
       "         [0.00000000e+00, 4.95970026e-02, 7.60810524e-02, ...,\n",
       "          0.00000000e+00, 1.43400088e-01, 4.78345335e-01],\n",
       "         [0.00000000e+00, 1.88395325e-02, 8.87612775e-02, ...,\n",
       "          0.00000000e+00, 1.90309986e-01, 3.99782151e-01]],\n",
       "\n",
       "        [[0.00000000e+00, 9.52482875e-03, 9.23569724e-02, ...,\n",
       "          0.00000000e+00, 1.14672482e-01, 4.39154923e-01],\n",
       "         [0.00000000e+00, 9.83602647e-03, 6.46934956e-02, ...,\n",
       "          0.00000000e+00, 9.93515477e-02, 3.76835465e-01],\n",
       "         [0.00000000e+00, 1.61642898e-02, 6.31569773e-02, ...,\n",
       "          0.00000000e+00, 9.77561846e-02, 3.71052563e-01],\n",
       "         ...,\n",
       "         [0.00000000e+00, 6.47400543e-02, 3.38677913e-02, ...,\n",
       "          0.00000000e+00, 3.70094590e-02, 5.51621914e-01],\n",
       "         [0.00000000e+00, 5.23395352e-02, 1.01362981e-01, ...,\n",
       "          0.00000000e+00, 1.51851118e-01, 5.32265604e-01],\n",
       "         [0.00000000e+00, 4.38506017e-03, 9.38264653e-02, ...,\n",
       "          0.00000000e+00, 1.47982478e-01, 3.83393168e-01]]],\n",
       "\n",
       "\n",
       "       [[[0.00000000e+00, 1.45715952e-01, 0.00000000e+00, ...,\n",
       "          0.00000000e+00, 0.00000000e+00, 9.33397591e-01],\n",
       "         [0.00000000e+00, 1.45300746e-01, 0.00000000e+00, ...,\n",
       "          0.00000000e+00, 0.00000000e+00, 9.28847075e-01],\n",
       "         [0.00000000e+00, 1.45300746e-01, 0.00000000e+00, ...,\n",
       "          0.00000000e+00, 0.00000000e+00, 9.28847075e-01],\n",
       "         ...,\n",
       "         [0.00000000e+00, 1.45054579e-01, 0.00000000e+00, ...,\n",
       "          0.00000000e+00, 0.00000000e+00, 9.27894592e-01],\n",
       "         [0.00000000e+00, 1.45312339e-01, 0.00000000e+00, ...,\n",
       "          0.00000000e+00, 0.00000000e+00, 9.27548707e-01],\n",
       "         [0.00000000e+00, 1.45898208e-01, 0.00000000e+00, ...,\n",
       "          0.00000000e+00, 0.00000000e+00, 9.30542409e-01]],\n",
       "\n",
       "        [[0.00000000e+00, 1.43540457e-01, 0.00000000e+00, ...,\n",
       "          0.00000000e+00, 0.00000000e+00, 9.34473872e-01],\n",
       "         [0.00000000e+00, 1.43917426e-01, 0.00000000e+00, ...,\n",
       "          0.00000000e+00, 0.00000000e+00, 9.30751145e-01],\n",
       "         [0.00000000e+00, 1.43917426e-01, 0.00000000e+00, ...,\n",
       "          0.00000000e+00, 0.00000000e+00, 9.30767894e-01],\n",
       "         ...,\n",
       "         [0.00000000e+00, 1.44957647e-01, 0.00000000e+00, ...,\n",
       "          0.00000000e+00, 0.00000000e+00, 9.31355953e-01],\n",
       "         [0.00000000e+00, 1.45043269e-01, 0.00000000e+00, ...,\n",
       "          0.00000000e+00, 0.00000000e+00, 9.32683527e-01],\n",
       "         [0.00000000e+00, 1.44848183e-01, 0.00000000e+00, ...,\n",
       "          0.00000000e+00, 0.00000000e+00, 9.34834480e-01]],\n",
       "\n",
       "        [[0.00000000e+00, 1.41019315e-01, 0.00000000e+00, ...,\n",
       "          0.00000000e+00, 0.00000000e+00, 9.19036448e-01],\n",
       "         [0.00000000e+00, 1.40316427e-01, 0.00000000e+00, ...,\n",
       "          0.00000000e+00, 0.00000000e+00, 9.27114844e-01],\n",
       "         [0.00000000e+00, 1.45127699e-01, 0.00000000e+00, ...,\n",
       "          0.00000000e+00, 0.00000000e+00, 9.33834195e-01],\n",
       "         ...,\n",
       "         [0.00000000e+00, 1.45985678e-01, 0.00000000e+00, ...,\n",
       "          0.00000000e+00, 0.00000000e+00, 9.33739483e-01],\n",
       "         [0.00000000e+00, 1.44125804e-01, 0.00000000e+00, ...,\n",
       "          0.00000000e+00, 0.00000000e+00, 9.34360802e-01],\n",
       "         [0.00000000e+00, 1.45483941e-01, 0.00000000e+00, ...,\n",
       "          0.00000000e+00, 0.00000000e+00, 9.39625204e-01]],\n",
       "\n",
       "        ...,\n",
       "\n",
       "        [[0.00000000e+00, 4.42445837e-02, 3.82389054e-02, ...,\n",
       "          7.80443661e-03, 5.54934926e-02, 1.50390327e-01],\n",
       "         [1.49885407e-02, 2.08021048e-03, 0.00000000e+00, ...,\n",
       "          5.93480933e-03, 1.86804496e-02, 2.04103403e-02],\n",
       "         [2.20954660e-02, 0.00000000e+00, 0.00000000e+00, ...,\n",
       "          0.00000000e+00, 2.90033352e-02, 7.80734792e-02],\n",
       "         ...,\n",
       "         [0.00000000e+00, 1.05466127e-01, 0.00000000e+00, ...,\n",
       "          0.00000000e+00, 0.00000000e+00, 4.76872921e-01],\n",
       "         [0.00000000e+00, 1.01770639e-01, 0.00000000e+00, ...,\n",
       "          0.00000000e+00, 0.00000000e+00, 5.91638327e-01],\n",
       "         [0.00000000e+00, 1.22047208e-01, 0.00000000e+00, ...,\n",
       "          0.00000000e+00, 0.00000000e+00, 7.15090334e-01]],\n",
       "\n",
       "        [[0.00000000e+00, 5.10372780e-02, 4.62633520e-02, ...,\n",
       "          2.41138265e-02, 8.90378654e-02, 2.28488982e-01],\n",
       "         [5.99236367e-03, 1.45056555e-02, 0.00000000e+00, ...,\n",
       "          7.53340079e-04, 6.01262739e-03, 2.76802108e-02],\n",
       "         [5.11315512e-03, 8.85136798e-03, 0.00000000e+00, ...,\n",
       "          7.19154894e-04, 1.10309022e-02, 1.76926032e-02],\n",
       "         ...,\n",
       "         [0.00000000e+00, 9.42654461e-02, 0.00000000e+00, ...,\n",
       "          0.00000000e+00, 0.00000000e+00, 5.38868189e-01],\n",
       "         [0.00000000e+00, 1.01215474e-01, 0.00000000e+00, ...,\n",
       "          0.00000000e+00, 0.00000000e+00, 6.24027371e-01],\n",
       "         [0.00000000e+00, 1.17183343e-01, 0.00000000e+00, ...,\n",
       "          0.00000000e+00, 0.00000000e+00, 7.38841712e-01]],\n",
       "\n",
       "        [[0.00000000e+00, 4.98127453e-02, 2.09018234e-02, ...,\n",
       "          1.60493199e-02, 7.71491379e-02, 2.77983218e-01],\n",
       "         [0.00000000e+00, 5.03372326e-02, 0.00000000e+00, ...,\n",
       "          8.81951768e-03, 0.00000000e+00, 1.62317201e-01],\n",
       "         [0.00000000e+00, 4.09276076e-02, 0.00000000e+00, ...,\n",
       "          7.31231738e-03, 0.00000000e+00, 1.34792954e-01],\n",
       "         ...,\n",
       "         [0.00000000e+00, 9.84352157e-02, 0.00000000e+00, ...,\n",
       "          0.00000000e+00, 0.00000000e+00, 5.68726361e-01],\n",
       "         [0.00000000e+00, 1.10519461e-01, 0.00000000e+00, ...,\n",
       "          0.00000000e+00, 0.00000000e+00, 6.48519814e-01],\n",
       "         [0.00000000e+00, 1.24343127e-01, 0.00000000e+00, ...,\n",
       "          0.00000000e+00, 0.00000000e+00, 7.47841656e-01]]],\n",
       "\n",
       "\n",
       "       [[[0.00000000e+00, 1.02175824e-01, 2.24549370e-03, ...,\n",
       "          0.00000000e+00, 6.26428649e-02, 7.78857887e-01],\n",
       "         [0.00000000e+00, 1.04850069e-01, 0.00000000e+00, ...,\n",
       "          0.00000000e+00, 0.00000000e+00, 7.62007773e-01],\n",
       "         [0.00000000e+00, 1.20336711e-01, 0.00000000e+00, ...,\n",
       "          0.00000000e+00, 1.36074303e-02, 8.81852090e-01],\n",
       "         ...,\n",
       "         [0.00000000e+00, 1.44498691e-01, 0.00000000e+00, ...,\n",
       "          0.00000000e+00, 0.00000000e+00, 9.49754059e-01],\n",
       "         [0.00000000e+00, 1.50618836e-01, 0.00000000e+00, ...,\n",
       "          0.00000000e+00, 3.62026331e-04, 9.61801231e-01],\n",
       "         [0.00000000e+00, 1.51883498e-01, 0.00000000e+00, ...,\n",
       "          0.00000000e+00, 0.00000000e+00, 9.56705332e-01]],\n",
       "\n",
       "        [[0.00000000e+00, 1.12916432e-01, 0.00000000e+00, ...,\n",
       "          0.00000000e+00, 6.10467456e-02, 7.93027282e-01],\n",
       "         [0.00000000e+00, 1.07408136e-01, 0.00000000e+00, ...,\n",
       "          0.00000000e+00, 0.00000000e+00, 7.57832408e-01],\n",
       "         [0.00000000e+00, 1.29303470e-01, 0.00000000e+00, ...,\n",
       "          0.00000000e+00, 3.58576444e-03, 8.72552156e-01],\n",
       "         ...,\n",
       "         [0.00000000e+00, 1.45034745e-01, 0.00000000e+00, ...,\n",
       "          0.00000000e+00, 0.00000000e+00, 9.43384707e-01],\n",
       "         [0.00000000e+00, 1.51484802e-01, 0.00000000e+00, ...,\n",
       "          0.00000000e+00, 0.00000000e+00, 9.49942708e-01],\n",
       "         [0.00000000e+00, 1.50521994e-01, 0.00000000e+00, ...,\n",
       "          0.00000000e+00, 0.00000000e+00, 9.44475591e-01]],\n",
       "\n",
       "        [[0.00000000e+00, 1.13823056e-01, 0.00000000e+00, ...,\n",
       "          0.00000000e+00, 6.41456544e-02, 7.85284221e-01],\n",
       "         [0.00000000e+00, 1.06165528e-01, 0.00000000e+00, ...,\n",
       "          0.00000000e+00, 0.00000000e+00, 7.26061821e-01],\n",
       "         [0.00000000e+00, 1.28680870e-01, 0.00000000e+00, ...,\n",
       "          0.00000000e+00, 0.00000000e+00, 8.56772363e-01],\n",
       "         ...,\n",
       "         [0.00000000e+00, 1.31368741e-01, 0.00000000e+00, ...,\n",
       "          0.00000000e+00, 0.00000000e+00, 9.04049098e-01],\n",
       "         [0.00000000e+00, 1.37499422e-01, 0.00000000e+00, ...,\n",
       "          0.00000000e+00, 0.00000000e+00, 9.04711366e-01],\n",
       "         [0.00000000e+00, 1.43942818e-01, 0.00000000e+00, ...,\n",
       "          0.00000000e+00, 0.00000000e+00, 9.21141982e-01]],\n",
       "\n",
       "        ...,\n",
       "\n",
       "        [[0.00000000e+00, 5.30224182e-02, 1.26367081e-02, ...,\n",
       "          0.00000000e+00, 7.89185762e-02, 3.98230404e-01],\n",
       "         [0.00000000e+00, 4.57543433e-02, 2.01147553e-02, ...,\n",
       "          0.00000000e+00, 8.18441361e-02, 4.08234745e-01],\n",
       "         [0.00000000e+00, 3.38814147e-02, 4.45434675e-02, ...,\n",
       "          0.00000000e+00, 8.45179260e-02, 3.76197755e-01],\n",
       "         ...,\n",
       "         [0.00000000e+00, 1.01259993e-02, 1.25954635e-02, ...,\n",
       "          0.00000000e+00, 5.17265499e-02, 2.16984659e-01],\n",
       "         [0.00000000e+00, 1.28681632e-02, 7.25463266e-03, ...,\n",
       "          0.00000000e+00, 2.48910356e-02, 1.69158623e-01],\n",
       "         [0.00000000e+00, 2.32072957e-02, 1.59038194e-02, ...,\n",
       "          0.00000000e+00, 2.11411919e-02, 1.64281860e-01]],\n",
       "\n",
       "        [[0.00000000e+00, 9.56131797e-03, 5.56406891e-03, ...,\n",
       "          0.00000000e+00, 6.39524683e-02, 2.06260338e-01],\n",
       "         [0.00000000e+00, 9.58833098e-03, 0.00000000e+00, ...,\n",
       "          0.00000000e+00, 5.07804528e-02, 2.09031448e-01],\n",
       "         [0.00000000e+00, 1.08134933e-02, 5.04567334e-03, ...,\n",
       "          0.00000000e+00, 3.97049040e-02, 2.14002714e-01],\n",
       "         ...,\n",
       "         [0.00000000e+00, 1.37959560e-02, 9.14442353e-03, ...,\n",
       "          0.00000000e+00, 2.37615947e-02, 1.70365959e-01],\n",
       "         [0.00000000e+00, 1.74049214e-02, 8.04878306e-03, ...,\n",
       "          0.00000000e+00, 1.39707793e-02, 1.69297799e-01],\n",
       "         [0.00000000e+00, 2.85154767e-02, 2.45708432e-02, ...,\n",
       "          0.00000000e+00, 5.90838566e-02, 1.61984086e-01]],\n",
       "\n",
       "        [[0.00000000e+00, 1.37470979e-02, 4.11888119e-03, ...,\n",
       "          0.00000000e+00, 1.59180798e-02, 1.62798673e-01],\n",
       "         [0.00000000e+00, 2.22697761e-02, 8.37972446e-04, ...,\n",
       "          0.00000000e+00, 5.53811248e-03, 1.70589522e-01],\n",
       "         [0.00000000e+00, 2.67016198e-02, 4.88962606e-03, ...,\n",
       "          0.00000000e+00, 1.31041920e-02, 1.83204904e-01],\n",
       "         ...,\n",
       "         [0.00000000e+00, 1.21836336e-02, 8.18767771e-03, ...,\n",
       "          0.00000000e+00, 1.91135295e-02, 1.52741134e-01],\n",
       "         [0.00000000e+00, 2.48911362e-02, 2.53560431e-02, ...,\n",
       "          0.00000000e+00, 5.64856268e-02, 1.63453162e-01],\n",
       "         [1.69940908e-02, 1.47377271e-02, 1.63053125e-02, ...,\n",
       "          9.50724760e-04, 7.06769973e-02, 1.15067117e-01]]],\n",
       "\n",
       "\n",
       "       [[[0.00000000e+00, 1.06380001e-01, 0.00000000e+00, ...,\n",
       "          0.00000000e+00, 2.01689778e-03, 7.46202767e-01],\n",
       "         [0.00000000e+00, 1.12042062e-01, 0.00000000e+00, ...,\n",
       "          0.00000000e+00, 3.10810320e-02, 7.94175923e-01],\n",
       "         [0.00000000e+00, 1.13086551e-01, 0.00000000e+00, ...,\n",
       "          0.00000000e+00, 4.25705723e-02, 7.83604801e-01],\n",
       "         ...,\n",
       "         [0.00000000e+00, 1.31114855e-01, 0.00000000e+00, ...,\n",
       "          0.00000000e+00, 0.00000000e+00, 7.97623873e-01],\n",
       "         [0.00000000e+00, 1.40097722e-01, 0.00000000e+00, ...,\n",
       "          0.00000000e+00, 0.00000000e+00, 8.31279695e-01],\n",
       "         [0.00000000e+00, 1.38690919e-01, 0.00000000e+00, ...,\n",
       "          0.00000000e+00, 3.18255275e-02, 8.35818708e-01]],\n",
       "\n",
       "        [[0.00000000e+00, 9.74697620e-02, 0.00000000e+00, ...,\n",
       "          0.00000000e+00, 0.00000000e+00, 7.42969811e-01],\n",
       "         [0.00000000e+00, 9.91011783e-02, 0.00000000e+00, ...,\n",
       "          0.00000000e+00, 2.39636060e-02, 7.93588638e-01],\n",
       "         [0.00000000e+00, 1.24135330e-01, 0.00000000e+00, ...,\n",
       "          0.00000000e+00, 9.07768905e-02, 7.89023340e-01],\n",
       "         ...,\n",
       "         [0.00000000e+00, 1.16969250e-01, 0.00000000e+00, ...,\n",
       "          0.00000000e+00, 5.86007815e-03, 8.39357078e-01],\n",
       "         [0.00000000e+00, 1.18867323e-01, 0.00000000e+00, ...,\n",
       "          0.00000000e+00, 0.00000000e+00, 8.43042910e-01],\n",
       "         [0.00000000e+00, 1.27993479e-01, 0.00000000e+00, ...,\n",
       "          0.00000000e+00, 3.39835063e-02, 8.49334717e-01]],\n",
       "\n",
       "        [[0.00000000e+00, 8.91261622e-02, 0.00000000e+00, ...,\n",
       "          0.00000000e+00, 0.00000000e+00, 7.32606053e-01],\n",
       "         [0.00000000e+00, 9.36229974e-02, 0.00000000e+00, ...,\n",
       "          0.00000000e+00, 2.29330901e-02, 7.74163306e-01],\n",
       "         [0.00000000e+00, 1.22053877e-01, 0.00000000e+00, ...,\n",
       "          0.00000000e+00, 9.05365944e-02, 7.58078992e-01],\n",
       "         ...,\n",
       "         [0.00000000e+00, 1.22197673e-01, 0.00000000e+00, ...,\n",
       "          0.00000000e+00, 0.00000000e+00, 8.28201175e-01],\n",
       "         [0.00000000e+00, 1.26659453e-01, 0.00000000e+00, ...,\n",
       "          0.00000000e+00, 9.49212990e-05, 8.31768811e-01],\n",
       "         [0.00000000e+00, 1.25411838e-01, 0.00000000e+00, ...,\n",
       "          0.00000000e+00, 4.23052609e-02, 8.38614523e-01]],\n",
       "\n",
       "        ...,\n",
       "\n",
       "        [[0.00000000e+00, 7.18401968e-02, 0.00000000e+00, ...,\n",
       "          0.00000000e+00, 1.86094306e-02, 4.43255484e-01],\n",
       "         [0.00000000e+00, 7.56073371e-02, 0.00000000e+00, ...,\n",
       "          0.00000000e+00, 2.07760409e-02, 4.55469042e-01],\n",
       "         [0.00000000e+00, 8.71032774e-02, 0.00000000e+00, ...,\n",
       "          0.00000000e+00, 4.00681831e-02, 4.30780768e-01],\n",
       "         ...,\n",
       "         [0.00000000e+00, 3.58604044e-02, 0.00000000e+00, ...,\n",
       "          0.00000000e+00, 4.69869301e-02, 3.74426961e-01],\n",
       "         [0.00000000e+00, 2.91312467e-02, 0.00000000e+00, ...,\n",
       "          0.00000000e+00, 5.77226616e-02, 3.75021905e-01],\n",
       "         [0.00000000e+00, 1.92205291e-02, 0.00000000e+00, ...,\n",
       "          0.00000000e+00, 5.06319888e-02, 3.65829617e-01]],\n",
       "\n",
       "        [[0.00000000e+00, 4.93731536e-02, 0.00000000e+00, ...,\n",
       "          0.00000000e+00, 3.59370001e-02, 3.02926213e-01],\n",
       "         [0.00000000e+00, 4.48181480e-02, 0.00000000e+00, ...,\n",
       "          0.00000000e+00, 3.71145792e-02, 2.95074761e-01],\n",
       "         [0.00000000e+00, 3.83639149e-02, 0.00000000e+00, ...,\n",
       "          0.00000000e+00, 3.89647745e-02, 2.91750133e-01],\n",
       "         ...,\n",
       "         [0.00000000e+00, 4.61191162e-02, 0.00000000e+00, ...,\n",
       "          0.00000000e+00, 0.00000000e+00, 2.66269326e-01],\n",
       "         [0.00000000e+00, 9.07127485e-02, 5.27394761e-04, ...,\n",
       "          0.00000000e+00, 0.00000000e+00, 3.50650877e-01],\n",
       "         [0.00000000e+00, 1.29122451e-01, 7.26373121e-03, ...,\n",
       "          4.36221622e-03, 1.91246904e-02, 3.63190472e-01]],\n",
       "\n",
       "        [[0.00000000e+00, 4.16405611e-02, 0.00000000e+00, ...,\n",
       "          0.00000000e+00, 0.00000000e+00, 2.67171264e-01],\n",
       "         [0.00000000e+00, 4.17849943e-02, 0.00000000e+00, ...,\n",
       "          0.00000000e+00, 3.02787907e-06, 2.43982598e-01],\n",
       "         [0.00000000e+00, 4.51834761e-02, 0.00000000e+00, ...,\n",
       "          0.00000000e+00, 6.20080507e-04, 2.41251707e-01],\n",
       "         ...,\n",
       "         [0.00000000e+00, 1.22635081e-01, 4.58040414e-03, ...,\n",
       "          0.00000000e+00, 0.00000000e+00, 3.61362398e-01],\n",
       "         [0.00000000e+00, 1.16052985e-01, 9.92907677e-03, ...,\n",
       "          0.00000000e+00, 6.12320341e-02, 3.60192150e-01],\n",
       "         [0.00000000e+00, 5.10404557e-02, 0.00000000e+00, ...,\n",
       "          0.00000000e+00, 4.86004651e-02, 3.41909140e-01]]],\n",
       "\n",
       "\n",
       "       [[[0.00000000e+00, 8.34403038e-02, 1.58358533e-02, ...,\n",
       "          0.00000000e+00, 3.69468704e-02, 3.36364567e-01],\n",
       "         [0.00000000e+00, 8.52652565e-02, 0.00000000e+00, ...,\n",
       "          8.01123027e-03, 0.00000000e+00, 2.78417766e-01],\n",
       "         [0.00000000e+00, 8.63444880e-02, 0.00000000e+00, ...,\n",
       "          0.00000000e+00, 0.00000000e+00, 3.11378270e-01],\n",
       "         ...,\n",
       "         [0.00000000e+00, 1.14560738e-01, 2.74481308e-02, ...,\n",
       "          3.45226005e-02, 9.68322009e-02, 4.57217395e-01],\n",
       "         [0.00000000e+00, 8.95107538e-02, 0.00000000e+00, ...,\n",
       "          6.25983998e-03, 0.00000000e+00, 3.29380393e-01],\n",
       "         [0.00000000e+00, 1.03901669e-01, 0.00000000e+00, ...,\n",
       "          7.99009018e-03, 3.78786735e-02, 3.43041331e-01]],\n",
       "\n",
       "        [[0.00000000e+00, 8.80321637e-02, 8.22980050e-03, ...,\n",
       "          0.00000000e+00, 1.57885663e-02, 3.89683634e-01],\n",
       "         [0.00000000e+00, 9.41769630e-02, 2.32812396e-04, ...,\n",
       "          8.62527452e-03, 0.00000000e+00, 3.45122963e-01],\n",
       "         [0.00000000e+00, 7.03961924e-02, 0.00000000e+00, ...,\n",
       "          3.28135584e-03, 1.92523166e-03, 3.31605524e-01],\n",
       "         ...,\n",
       "         [0.00000000e+00, 1.37480676e-01, 6.31194841e-03, ...,\n",
       "          3.06473300e-02, 5.41258790e-02, 5.70283711e-01],\n",
       "         [0.00000000e+00, 1.18358731e-01, 0.00000000e+00, ...,\n",
       "          0.00000000e+00, 0.00000000e+00, 4.27890748e-01],\n",
       "         [0.00000000e+00, 9.86366048e-02, 6.35374617e-03, ...,\n",
       "          0.00000000e+00, 3.63819674e-02, 4.62667733e-01]],\n",
       "\n",
       "        [[0.00000000e+00, 7.14530870e-02, 0.00000000e+00, ...,\n",
       "          0.00000000e+00, 5.99062704e-02, 3.12777162e-01],\n",
       "         [0.00000000e+00, 7.03235567e-02, 0.00000000e+00, ...,\n",
       "          1.27187744e-03, 0.00000000e+00, 3.34064752e-01],\n",
       "         [0.00000000e+00, 7.48338923e-02, 0.00000000e+00, ...,\n",
       "          0.00000000e+00, 1.73207391e-02, 3.43728065e-01],\n",
       "         ...,\n",
       "         [0.00000000e+00, 1.40805811e-01, 0.00000000e+00, ...,\n",
       "          0.00000000e+00, 2.25912835e-02, 6.42282605e-01],\n",
       "         [0.00000000e+00, 1.15909517e-01, 0.00000000e+00, ...,\n",
       "          0.00000000e+00, 0.00000000e+00, 5.04320383e-01],\n",
       "         [0.00000000e+00, 1.28793150e-01, 1.25418827e-02, ...,\n",
       "          0.00000000e+00, 1.24265678e-01, 4.57052380e-01]],\n",
       "\n",
       "        ...,\n",
       "\n",
       "        [[0.00000000e+00, 9.11171883e-02, 0.00000000e+00, ...,\n",
       "          0.00000000e+00, 4.56193164e-02, 4.49680716e-01],\n",
       "         [0.00000000e+00, 1.28126889e-01, 0.00000000e+00, ...,\n",
       "          0.00000000e+00, 0.00000000e+00, 7.07721949e-01],\n",
       "         [0.00000000e+00, 1.64959282e-01, 0.00000000e+00, ...,\n",
       "          0.00000000e+00, 0.00000000e+00, 7.46771753e-01],\n",
       "         ...,\n",
       "         [0.00000000e+00, 1.17593482e-01, 0.00000000e+00, ...,\n",
       "          0.00000000e+00, 6.53554499e-02, 4.36338186e-01],\n",
       "         [0.00000000e+00, 1.15548179e-01, 0.00000000e+00, ...,\n",
       "          4.77747321e-02, 0.00000000e+00, 4.02404755e-01],\n",
       "         [0.00000000e+00, 1.13043405e-01, 0.00000000e+00, ...,\n",
       "          1.01412674e-02, 2.74511166e-02, 4.56369519e-01]],\n",
       "\n",
       "        [[0.00000000e+00, 8.93810615e-02, 0.00000000e+00, ...,\n",
       "          1.42572448e-02, 6.26166090e-02, 3.58879477e-01],\n",
       "         [0.00000000e+00, 5.49240634e-02, 0.00000000e+00, ...,\n",
       "          5.35460077e-02, 4.93680546e-03, 3.02983314e-01],\n",
       "         [0.00000000e+00, 1.18828163e-01, 0.00000000e+00, ...,\n",
       "          0.00000000e+00, 0.00000000e+00, 6.45594120e-01],\n",
       "         ...,\n",
       "         [0.00000000e+00, 5.75060733e-02, 0.00000000e+00, ...,\n",
       "          1.84797421e-02, 7.12416247e-02, 3.43010604e-01],\n",
       "         [0.00000000e+00, 8.42360482e-02, 1.48959402e-02, ...,\n",
       "          3.06859575e-02, 0.00000000e+00, 3.54617536e-01],\n",
       "         [0.00000000e+00, 1.99896425e-01, 3.46953026e-03, ...,\n",
       "          4.84821610e-02, 0.00000000e+00, 5.51605880e-01]],\n",
       "\n",
       "        [[0.00000000e+00, 9.51496288e-02, 1.56765226e-02, ...,\n",
       "          1.31300548e-02, 7.85788894e-02, 3.26648861e-01],\n",
       "         [0.00000000e+00, 7.79282600e-02, 5.64972544e-03, ...,\n",
       "          5.15223965e-02, 0.00000000e+00, 2.72915095e-01],\n",
       "         [0.00000000e+00, 7.66777098e-02, 0.00000000e+00, ...,\n",
       "          2.64650062e-02, 0.00000000e+00, 3.55624676e-01],\n",
       "         ...,\n",
       "         [0.00000000e+00, 1.42042026e-01, 0.00000000e+00, ...,\n",
       "          1.14405416e-02, 0.00000000e+00, 5.46367824e-01],\n",
       "         [0.00000000e+00, 1.66629300e-01, 0.00000000e+00, ...,\n",
       "          4.18018103e-02, 0.00000000e+00, 5.37779987e-01],\n",
       "         [0.00000000e+00, 1.63705513e-01, 0.00000000e+00, ...,\n",
       "          0.00000000e+00, 1.09000197e-02, 5.96421361e-01]]]],\n",
       "      dtype=float32)"
      ]
     },
     "execution_count": 18,
     "metadata": {},
     "output_type": "execute_result"
    }
   ],
   "source": [
    "y_pred = cnn.predict(X_test)\n",
    "y_pred[:5]"
   ]
  },
  {
   "cell_type": "code",
   "execution_count": 29,
   "metadata": {
    "colab": {
     "base_uri": "https://localhost:8080/"
    },
    "id": "oVu0XteJuMsb",
    "outputId": "6e668bde-4ef7-4daa-92e3-260bfd5fc63d"
   },
   "outputs": [
    {
     "data": {
      "text/plain": [
       "[4959, 1919, 447, 3423, 6879]"
      ]
     },
     "execution_count": 29,
     "metadata": {},
     "output_type": "execute_result"
    }
   ],
   "source": [
    "y_classes = [np.argmax(element) for element in y_pred]\n",
    "y_classes[:5]"
   ]
  },
  {
   "cell_type": "code",
   "execution_count": 30,
   "metadata": {
    "colab": {
     "base_uri": "https://localhost:8080/"
    },
    "id": "_5uc3bo7uMsb",
    "outputId": "5ecc18cc-5fb7-41ac-d9c3-25a349daae65"
   },
   "outputs": [
    {
     "data": {
      "text/plain": [
       "array([3, 8, 8, 0, 6], dtype=uint8)"
      ]
     },
     "execution_count": 30,
     "metadata": {},
     "output_type": "execute_result"
    }
   ],
   "source": [
    "y_test[:5]"
   ]
  },
  {
   "cell_type": "code",
   "execution_count": 31,
   "metadata": {
    "colab": {
     "base_uri": "https://localhost:8080/",
     "height": 237
    },
    "id": "ktxM5RhOuMsb",
    "outputId": "0fccd6c7-e5a1-4fbf-de47-3cfe4ee782e2"
   },
   "outputs": [
    {
     "data": {
      "image/png": "[encoded data removed]",
      "text/plain": [
       "<Figure size 1500x200 with 1 Axes>"
      ]
     },
     "metadata": {},
     "output_type": "display_data"
    }
   ],
   "source": [
    "plot_sample(X_test, y_test,3)"
   ]
  },
  {
   "cell_type": "code",
   "execution_count": 22,
   "metadata": {
    "colab": {
     "base_uri": "https://localhost:8080/",
     "height": 165
    },
    "id": "YiwJvGpJuMsc",
    "outputId": "e2a284d5-079f-4b6f-c803-56e2da418b07"
   },
   "outputs": [
    {
     "ename": "IndexError",
     "evalue": "ignored",
     "output_type": "error",
     "traceback": [
      "\u001b[0;31m---------------------------------------------------------------------------\u001b[0m",
      "\u001b[0;31mIndexError\u001b[0m                                Traceback (most recent call last)",
      "\u001b[0;32m<ipython-input-22-1fabdf716938>\u001b[0m in \u001b[0;36m<cell line: 1>\u001b[0;34m()\u001b[0m\n\u001b[0;32m----> 1\u001b[0;31m \u001b[0mclasses\u001b[0m\u001b[0;34m[\u001b[0m\u001b[0my_classes\u001b[0m\u001b[0;34m[\u001b[0m\u001b[0;36m3\u001b[0m\u001b[0;34m]\u001b[0m\u001b[0;34m]\u001b[0m\u001b[0;34m\u001b[0m\u001b[0;34m\u001b[0m\u001b[0m\n\u001b[0m",
      "\u001b[0;31mIndexError\u001b[0m: list index out of range"
     ]
    }
   ],
   "source": [
    "classes[y_classes[3]]"
   ]
  },
  {
   "cell_type": "code",
   "execution_count": 23,
   "metadata": {
    "colab": {
     "base_uri": "https://localhost:8080/",
     "height": 165
    },
    "id": "-OtntItpuMsc",
    "outputId": "850b96e7-cf80-4c80-8af5-b7d9fb720172"
   },
   "outputs": [
    {
     "ename": "IndexError",
     "evalue": "ignored",
     "output_type": "error",
     "traceback": [
      "\u001b[0;31m---------------------------------------------------------------------------\u001b[0m",
      "\u001b[0;31mIndexError\u001b[0m                                Traceback (most recent call last)",
      "\u001b[0;32m<ipython-input-23-1fabdf716938>\u001b[0m in \u001b[0;36m<cell line: 1>\u001b[0;34m()\u001b[0m\n\u001b[0;32m----> 1\u001b[0;31m \u001b[0mclasses\u001b[0m\u001b[0;34m[\u001b[0m\u001b[0my_classes\u001b[0m\u001b[0;34m[\u001b[0m\u001b[0;36m3\u001b[0m\u001b[0;34m]\u001b[0m\u001b[0;34m]\u001b[0m\u001b[0;34m\u001b[0m\u001b[0;34m\u001b[0m\u001b[0m\n\u001b[0m",
      "\u001b[0;31mIndexError\u001b[0m: list index out of range"
     ]
    }
   ],
   "source": [
    "classes[y_classes[3]]"
   ]
  },
  {
   "cell_type": "markdown",
   "metadata": {
    "id": "VZhjoEXKuMsc"
   },
   "source": [
    "<h3 style='color:purple'>Exercise</h3>"
   ]
  },
  {
   "cell_type": "markdown",
   "metadata": {
    "id": "nRD8gbT_uMsc"
   },
   "source": [
    "Use CNN to do handwritten digits classification using MNIST dataset. You can use this notebook as a reference:\n",
    "https://github.com/codebasics/deep-learning-keras-tf-tutorial/blob/main/1_digits_recognition/digits_recognition_neural_network.ipynb\n",
    "\n",
    "Above we used ANN for digits classification. You need to modify this code to use CNN instead. Check how accuracy improves fast with CNN and figure out how CNN can be a better choice for doing image classification compared to ANN. Once you have worked on this problem on your own, you can check my solution by clicking on this link: [Solution](https://github.com/codebasics/deep-learning-keras-tf-tutorial/blob/main/16_cnn_cifar10_small_image_classification/cnn_mnist_exercise_solution.ipynb)"
   ]
  }
 ],
 "metadata": {
  "accelerator": "GPU",
  "colab": {
   "provenance": []
  },
  "gpuClass": "standard",
  "kernelspec": {
   "display_name": "Python 3 (ipykernel)",
   "language": "python",
   "name": "python3"
  },
  "language_info": {
   "codemirror_mode": {
    "name": "ipython",
    "version": 3
   },
   "file_extension": ".py",
   "mimetype": "text/x-python",
   "name": "python",
   "nbconvert_exporter": "python",
   "pygments_lexer": "ipython3",
   "version": "3.9.16"
  }
 },
 "nbformat": 4,
 "nbformat_minor": 1
}
